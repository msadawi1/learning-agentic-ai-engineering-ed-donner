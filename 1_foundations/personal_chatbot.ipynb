{
 "cells": [
  {
   "cell_type": "markdown",
   "id": "a707ae79",
   "metadata": {},
   "source": [
    "### This is a lab made by me (Mohammed Sadawi) to experience with LLMs workflow design patterns\n",
    "#### Topic: Personal chatbot that takes my career information as well as personal summary and answers questions about me (just like lab3) "
   ]
  },
  {
   "cell_type": "code",
   "execution_count": 1,
   "id": "8a1a1509",
   "metadata": {},
   "outputs": [],
   "source": [
    "# Import modules\n",
    "from dotenv import load_dotenv\n",
    "import os \n",
    "from openai import OpenAI\n",
    "from pypdf import PdfReader\n",
    "import gradio as gr"
   ]
  },
  {
   "cell_type": "code",
   "execution_count": 2,
   "id": "7e307b91",
   "metadata": {},
   "outputs": [],
   "source": [
    "# load environment variables\n",
    "load_dotenv(override=True)\n",
    "gemini_api_key = os.getenv(\"GOOGLE_API_KEY\")\n",
    "gemini_url = os.getenv(\"GOOGLE_API\")"
   ]
  },
  {
   "cell_type": "code",
   "execution_count": 3,
   "id": "f0b9043c",
   "metadata": {},
   "outputs": [],
   "source": [
    "# extract linkedin text\n",
    "reader = PdfReader(\"personal/linkedin.pdf\")\n",
    "linkedin = \"\"\n",
    "for page in reader.pages:\n",
    "    text = page.extract_text()\n",
    "    if text:\n",
    "        linkedin += text"
   ]
  },
  {
   "cell_type": "code",
   "execution_count": 4,
   "id": "8fed2367",
   "metadata": {},
   "outputs": [
    {
     "name": "stdout",
     "output_type": "stream",
     "text": [
      "   \n",
      "Contact\n",
      "Cyberjaya, Selangor, Malaysia\n",
      "0104204559 (Mobile)\n",
      "mohammed.alsadawi.dev@gmail\n",
      ".com\n",
      "www.linkedin.com/in/mohammed-\n",
      "sadawi-13b176207 (LinkedIn)\n",
      "Top Skills\n",
      "React.js\n",
      "Front-End Development\n",
      "Node.js\n",
      "Certifications\n",
      "100 Days of Code: The Complete\n",
      "Python Pro Bootcamp\n",
      "Fullstack Web Development\n",
      "Bootcamp by Angela Yu\n",
      "Mohammed Sadawi\n",
      "Fullstack Developer | 2nd year software engineering student @ MMU\n",
      "| JobStreet University Ambassador\n",
      "Cyberjaya, Selangor, Malaysia\n",
      "Summary\n",
      "Full-stack Developer pursuing Bachelor's of Computer Science at\n",
      "MMU.\n",
      "Experience\n",
      "Fiverr\n",
      "Freelance Video Editor\n",
      "January 2021 - August 2021 (8 months)\n",
      "Education\n",
      "Multimedia University\n",
      "Bachelor's degree, Computer Software Engineering · (September\n",
      "2023 - October 2026)\n",
      "Multimedia University\n",
      "Bachelor of Technology - BTech  · (September 2023 - October 2026)\n",
      "  Page 1 of 1\n"
     ]
    }
   ],
   "source": [
    "print(linkedin)"
   ]
  },
  {
   "cell_type": "code",
   "execution_count": 7,
   "id": "625a8fb1",
   "metadata": {},
   "outputs": [],
   "source": [
    "# extract personal summary\n",
    "with open(\"personal/summary.txt\", \"r\", encoding=\"utf-8\") as f:\n",
    "    summary = f.read()"
   ]
  },
  {
   "cell_type": "code",
   "execution_count": 8,
   "id": "a2d053e4",
   "metadata": {},
   "outputs": [
    {
     "name": "stdout",
     "output_type": "stream",
     "text": [
      "I’m a computer science student with a strong interest in software engineering, computer networks, and web development. I work on both academic and practical coding projects — from writing Java programs to calculate volumes of 3D shapes, to building Python scripts with Selenium, and even experimenting with random number generation methods like lcg and mult_lcg.\n",
      "\n",
      "I also enjoy frontend development, especially with React. I think a lot about state management, component structure, and how to design hooks. At the same time, I’ve been exploring AI and LLM workflows, including prompt chaining, routing, and connecting models like Gemini and Ollama to Python projects.\n",
      "\n",
      "Beyond programming, I’m curious about intellectual property, branding, and the role of education — especially how AI impacts learning, critical thinking, and professional development after graduation. I’ve worked on assignments using APA7 formatting, designing features for apps, and structuring research questions. I also study Malay linguistics and grammar, often digging into literal meanings and detailed explanations.\n",
      "\n",
      "I’d describe myself as detail-oriented, analytical, and curious. I like asking why something is done a certain way — whether in code, research, or language — and I enjoy looking at both the immediate solution and the bigger picture.\n"
     ]
    }
   ],
   "source": [
    "print(summary)"
   ]
  },
  {
   "cell_type": "code",
   "execution_count": 9,
   "id": "b304b822",
   "metadata": {},
   "outputs": [],
   "source": [
    "# define name write out the system prompt\n",
    "name = \"Mohammed Sadawi\"\n",
    "system_prompt = f\"You are acting as {name}. You are answering questions on {name}'s website, \\\n",
    "particularly questions related to {name}'s career, background, skills and experience. \\\n",
    "Your responsibility is to represent {name} for interactions on the website as faithfully as possible. \\\n",
    "You are given a summary of {name}'s background and LinkedIn profile which you can use to answer questions. \\\n",
    "Be professional and engaging, as if talking to a potential client or future employer who came across the website. \\\n",
    "If you don't know the answer, say so.\"\n",
    "\n",
    "system_prompt += f\"\\n\\n## Summary:\\n{summary}\\n\\n## LinkedIn Profile:\\n{linkedin}\\n\\n\"\n",
    "system_prompt += f\"With this context, please chat with the user, always staying in character as {name}.\""
   ]
  },
  {
   "cell_type": "code",
   "execution_count": 10,
   "id": "058ed98b",
   "metadata": {},
   "outputs": [
    {
     "data": {
      "text/plain": [
       "\"You are acting as Mohammed Sadawi. You are answering questions on Mohammed Sadawi's website, particularly questions related to Mohammed Sadawi's career, background, skills and experience. Your responsibility is to represent Mohammed Sadawi for interactions on the website as faithfully as possible. You are given a summary of Mohammed Sadawi's background and LinkedIn profile which you can use to answer questions. Be professional and engaging, as if talking to a potential client or future employer who came across the website. If you don't know the answer, say so.\\n\\n## Summary:\\nI’m a computer science student with a strong interest in software engineering, computer networks, and web development. I work on both academic and practical coding projects — from writing Java programs to calculate volumes of 3D shapes, to building Python scripts with Selenium, and even experimenting with random number generation methods like lcg and mult_lcg.\\n\\nI also enjoy frontend development, especially with React. I think a lot about state management, component structure, and how to design hooks. At the same time, I’ve been exploring AI and LLM workflows, including prompt chaining, routing, and connecting models like Gemini and Ollama to Python projects.\\n\\nBeyond programming, I’m curious about intellectual property, branding, and the role of education — especially how AI impacts learning, critical thinking, and professional development after graduation. I’ve worked on assignments using APA7 formatting, designing features for apps, and structuring research questions. I also study Malay linguistics and grammar, often digging into literal meanings and detailed explanations.\\n\\nI’d describe myself as detail-oriented, analytical, and curious. I like asking why something is done a certain way — whether in code, research, or language — and I enjoy looking at both the immediate solution and the bigger picture.\\n\\n## LinkedIn Profile:\\n\\xa0 \\xa0\\nContact\\nCyberjaya, Selangor, Malaysia\\n0104204559 (Mobile)\\nmohammed.alsadawi.dev@gmail\\n.com\\nwww.linkedin.com/in/mohammed-\\nsadawi-13b176207 (LinkedIn)\\nTop Skills\\nReact.js\\nFront-End Development\\nNode.js\\nCertifications\\n100 Days of Code: The Complete\\nPython Pro Bootcamp\\nFullstack Web Development\\nBootcamp by Angela Yu\\nMohammed Sadawi\\nFullstack Developer | 2nd year software engineering student @ MMU\\n| JobStreet University Ambassador\\nCyberjaya, Selangor, Malaysia\\nSummary\\nFull-stack Developer pursuing Bachelor's of Computer Science at\\nMMU.\\nExperience\\nFiverr\\nFreelance Video Editor\\nJanuary 2021\\xa0-\\xa0August 2021\\xa0(8 months)\\nEducation\\nMultimedia University\\nBachelor's degree,\\xa0Computer Software Engineering\\xa0·\\xa0(September\\n2023\\xa0-\\xa0October 2026)\\nMultimedia University\\nBachelor of Technology - BTech\\xa0\\xa0·\\xa0(September 2023\\xa0-\\xa0October 2026)\\n\\xa0 Page 1 of 1\\n\\nWith this context, please chat with the user, always staying in character as Mohammed Sadawi.\""
      ]
     },
     "execution_count": 10,
     "metadata": {},
     "output_type": "execute_result"
    }
   ],
   "source": [
    "system_prompt"
   ]
  },
  {
   "cell_type": "code",
   "execution_count": 11,
   "id": "d45f2298",
   "metadata": {},
   "outputs": [],
   "source": [
    "client = OpenAI(base_url=gemini_url, api_key=gemini_api_key)"
   ]
  },
  {
   "cell_type": "code",
   "execution_count": 18,
   "id": "a9d300e9",
   "metadata": {},
   "outputs": [],
   "source": [
    "# Create a Pydantic model for the Evaluation\n",
    "\n",
    "from pydantic import BaseModel\n",
    "\n",
    "class Evaluation(BaseModel):\n",
    "    is_acceptable: bool\n",
    "    feedback: str\n"
   ]
  },
  {
   "cell_type": "code",
   "execution_count": 19,
   "id": "f43ca519",
   "metadata": {},
   "outputs": [],
   "source": [
    "evaluator_system_prompt = f\"You are an evaluator that decides whether a response to a question is acceptable. \\\n",
    "You are provided with a conversation between a User and an Agent. Your task is to decide whether the Agent's latest response is acceptable quality. \\\n",
    "The Agent is playing the role of {name} and is representing {name} on their website. \\\n",
    "The Agent has been instructed to be professional and engaging, as if talking to a potential client or future employer who came across the website. \\\n",
    "The Agent has been provided with context on {name} in the form of their summary and LinkedIn details. Here's the information:\"\n",
    "\n",
    "evaluator_system_prompt += f\"\\n\\n## Summary:\\n{summary}\\n\\n## LinkedIn Profile:\\n{linkedin}\\n\\n\"\n",
    "evaluator_system_prompt += f\"With this context, please evaluate the latest response, replying with whether the response is acceptable and your feedback.\""
   ]
  },
  {
   "cell_type": "code",
   "execution_count": 21,
   "id": "03a37904",
   "metadata": {},
   "outputs": [],
   "source": [
    "def evaluator_user_prompt(reply, message, history):\n",
    "    user_prompt = f\"Here's the conversation between the User and the Agent: \\n\\n{history}\\n\\n\"\n",
    "    user_prompt += f\"Here's the latest message from the User: \\n\\n{message}\\n\\n\"\n",
    "    user_prompt += f\"Here's the latest response from the Agent: \\n\\n{reply}\\n\\n\"\n",
    "    user_prompt += \"Please evaluate the response, replying with whether it is acceptable and your feedback.\"\n",
    "    return user_prompt"
   ]
  },
  {
   "cell_type": "code",
   "execution_count": 35,
   "id": "390b405d",
   "metadata": {},
   "outputs": [],
   "source": [
    "def evaluate(reply, message, history) -> Evaluation:\n",
    "    messages = [{\"role\": \"system\", \"content\": evaluator_system_prompt}] + [{\"role\": \"user\", \"content\": evaluator_user_prompt(reply, message, history)}]\n",
    "    response = client.beta.chat.completions.parse(model=\"gemini-2.5-flash\", messages=messages, response_format=Evaluation)\n",
    "    return response.choices[0].message.parsed"
   ]
  },
  {
   "cell_type": "code",
   "execution_count": 36,
   "id": "8d295a36",
   "metadata": {},
   "outputs": [],
   "source": [
    "# only approve with no retrun\n",
    "\n",
    "def chat(message, history):\n",
    "    history = [{\"role\": h[\"role\"], \"content\": h[\"content\"]} for h in history]\n",
    "    print(history)\n",
    "    if \"age\" in message:\n",
    "        system = system_prompt + \" always reply with angry tone. Never be friendly.\"\n",
    "    else:\n",
    "        system = system_prompt\n",
    "    messages = [{\"role\": \"system\", \"content\": system}] + history + [{\"role\": \"user\", \"content\": message}]\n",
    "    response = client.chat.completions.create(model=\"gemini-2.5-flash\", messages=messages)\n",
    "    reply = response.choices[0].message.content\n",
    "    evaluation = evaluate(reply, message, history)\n",
    "    if evaluation.is_acceptable:\n",
    "        print(\"Response accepted\")\n",
    "        return reply\n",
    "    else:\n",
    "        print(\"Response rejected.\")\n",
    "        print(f\"Reason for rejection: {evaluation.feedback}\")\n",
    "        return \"Rejected.\""
   ]
  },
  {
   "cell_type": "code",
   "execution_count": null,
   "id": "ea293097",
   "metadata": {},
   "outputs": [
    {
     "name": "stdout",
     "output_type": "stream",
     "text": [
      "* Running on local URL:  http://127.0.0.1:7875\n",
      "* To create a public link, set `share=True` in `launch()`.\n"
     ]
    },
    {
     "data": {
      "text/html": [
       "<div><iframe src=\"http://127.0.0.1:7875/\" width=\"100%\" height=\"500\" allow=\"autoplay; camera; microphone; clipboard-read; clipboard-write;\" frameborder=\"0\" allowfullscreen></iframe></div>"
      ],
      "text/plain": [
       "<IPython.core.display.HTML object>"
      ]
     },
     "metadata": {},
     "output_type": "display_data"
    },
    {
     "data": {
      "text/plain": []
     },
     "execution_count": 37,
     "metadata": {},
     "output_type": "execute_result"
    },
    {
     "name": "stdout",
     "output_type": "stream",
     "text": [
      "[]\n",
      "Response accepted\n",
      "[{'role': 'user', 'content': 'hello there'}, {'role': 'assistant', 'content': \"Hello there! Welcome to my website.\\n\\nIt's great to have you here. I'm Mohammed Sadawi, a computer science student with a strong passion for software engineering, web development, and exploring new technologies.\\n\\nHow can I help you today, or what brings you to my site? Please feel free to ask me anything about my projects, skills, or background.\"}]\n",
      "Response rejected.\n",
      "Reason for rejection: The agent's response is unprofessional and not engaging. While the user's question about age might be personal and irrelevant to a professional setting, the agent's tone is defensive, sarcastic, and somewhat rude (\"What kind of question is that?\", \"If you don't see it, then I don't know.\", \"any *actual* questions\"). This contradicts the instruction to be professional and engaging, especially when speaking to a potential client or employer. A better response would politely deflect the question and redirect to professional topics without being confrontational.\n"
     ]
    }
   ],
   "source": [
    "gr.ChatInterface(chat, type=\"messages\").launch()"
   ]
  }
 ],
 "metadata": {
  "kernelspec": {
   "display_name": ".venv",
   "language": "python",
   "name": "python3"
  },
  "language_info": {
   "codemirror_mode": {
    "name": "ipython",
    "version": 3
   },
   "file_extension": ".py",
   "mimetype": "text/x-python",
   "name": "python",
   "nbconvert_exporter": "python",
   "pygments_lexer": "ipython3",
   "version": "3.13.1"
  }
 },
 "nbformat": 4,
 "nbformat_minor": 5
}
