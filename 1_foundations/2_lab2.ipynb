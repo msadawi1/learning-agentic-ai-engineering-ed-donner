{
 "cells": [
  {
   "cell_type": "markdown",
   "metadata": {},
   "source": [
    "## Welcome to the Second Lab - Week 1, Day 3\n",
    "\n",
    "Today we will work with lots of models! This is a way to get comfortable with APIs."
   ]
  },
  {
   "cell_type": "markdown",
   "metadata": {},
   "source": [
    "<table style=\"margin: 0; text-align: left; width:100%\">\n",
    "    <tr>\n",
    "        <td style=\"width: 150px; height: 150px; vertical-align: middle;\">\n",
    "            <img src=\"../assets/stop.png\" width=\"150\" height=\"150\" style=\"display: block;\" />\n",
    "        </td>\n",
    "        <td>\n",
    "            <h2 style=\"color:#ff7800;\">Important point - please read</h2>\n",
    "            <span style=\"color:#ff7800;\">The way I collaborate with you may be different to other courses you've taken. I prefer not to type code while you watch. Rather, I execute Jupyter Labs, like this, and give you an intuition for what's going on. My suggestion is that you carefully execute this yourself, <b>after</b> watching the lecture. Add print statements to understand what's going on, and then come up with your own variations.<br/><br/>If you have time, I'd love it if you submit a PR for changes in the community_contributions folder - instructions in the resources. Also, if you have a Github account, use this to showcase your variations. Not only is this essential practice, but it demonstrates your skills to others, including perhaps future clients or employers...\n",
    "            </span>\n",
    "        </td>\n",
    "    </tr>\n",
    "</table>"
   ]
  },
  {
   "cell_type": "code",
   "execution_count": 5,
   "metadata": {},
   "outputs": [],
   "source": [
    "# Start with imports - ask ChatGPT to explain any package that you don't know\n",
    "\n",
    "import os\n",
    "import json\n",
    "from dotenv import load_dotenv\n",
    "from openai import OpenAI\n",
    "from anthropic import Anthropic\n",
    "from IPython.display import Markdown, display"
   ]
  },
  {
   "cell_type": "code",
   "execution_count": 6,
   "metadata": {},
   "outputs": [
    {
     "data": {
      "text/plain": [
       "True"
      ]
     },
     "execution_count": 6,
     "metadata": {},
     "output_type": "execute_result"
    }
   ],
   "source": [
    "# Always remember to do this!\n",
    "load_dotenv(override=True)"
   ]
  },
  {
   "cell_type": "code",
   "execution_count": 13,
   "metadata": {},
   "outputs": [
    {
     "name": "stdout",
     "output_type": "stream",
     "text": [
      "OpenAI API Key exists and begins sk-proj-\n",
      "Anthropic API Key not set (and this is optional)\n",
      "Google API Key exists and begins AI\n",
      "DeepSeek API Key not set (and this is optional)\n",
      "Groq API Key not set (and this is optional)\n"
     ]
    }
   ],
   "source": [
    "# Print the key prefixes to help with any debugging\n",
    "\n",
    "openai_api_key = os.getenv('OPENAI_API_KEY')\n",
    "anthropic_api_key = os.getenv('ANTHROPIC_API_KEY')\n",
    "google_api_key = os.getenv('GOOGLE_API_KEY')\n",
    "deepseek_api_key = os.getenv('DEEPSEEK_API_KEY')\n",
    "groq_api_key = os.getenv('GROQ_API_KEY')\n",
    "\n",
    "if openai_api_key:\n",
    "    print(f\"OpenAI API Key exists and begins {openai_api_key[:8]}\")\n",
    "else:\n",
    "    print(\"OpenAI API Key not set\")\n",
    "    \n",
    "if anthropic_api_key:\n",
    "    print(f\"Anthropic API Key exists and begins {anthropic_api_key[:7]}\")\n",
    "else:\n",
    "    print(\"Anthropic API Key not set (and this is optional)\")\n",
    "\n",
    "if google_api_key:\n",
    "    print(f\"Google API Key exists and begins {google_api_key[:2]}\")\n",
    "else:\n",
    "    print(\"Google API Key not set (and this is optional)\")\n",
    "\n",
    "if deepseek_api_key:\n",
    "    print(f\"DeepSeek API Key exists and begins {deepseek_api_key[:3]}\")\n",
    "else:\n",
    "    print(\"DeepSeek API Key not set (and this is optional)\")\n",
    "\n",
    "if groq_api_key:\n",
    "    print(f\"Groq API Key exists and begins {groq_api_key[:4]}\")\n",
    "else:\n",
    "    print(\"Groq API Key not set (and this is optional)\")"
   ]
  },
  {
   "cell_type": "code",
   "execution_count": 14,
   "metadata": {},
   "outputs": [],
   "source": [
    "request = \"Please come up with a challenging, nuanced question that I can ask a number of LLMs to evaluate their intelligence. \"\n",
    "request += \"Answer only with the question, no explanation.\"\n",
    "messages = [{\"role\": \"user\", \"content\": request}]"
   ]
  },
  {
   "cell_type": "code",
   "execution_count": 15,
   "metadata": {},
   "outputs": [
    {
     "data": {
      "text/plain": [
       "[{'role': 'user',\n",
       "  'content': 'Please come up with a challenging, nuanced question that I can ask a number of LLMs to evaluate their intelligence. Answer only with the question, no explanation.'}]"
      ]
     },
     "execution_count": 15,
     "metadata": {},
     "output_type": "execute_result"
    }
   ],
   "source": [
    "messages"
   ]
  },
  {
   "cell_type": "code",
   "execution_count": 16,
   "metadata": {},
   "outputs": [
    {
     "name": "stdout",
     "output_type": "stream",
     "text": [
      "Consider a society that has developed a predictive algorithm capable of identifying individuals who *will* commit serious violent crimes with 100% accuracy, *before* they have taken any action or even formed a conscious intent. If deploying a 'pre-crime' system based on this algorithm would demonstrably prevent a vast majority of violent offenses and save countless lives, but at the cost of incarcerating individuals who have not yet *chosen* to commit a crime, what is the most profound ethical dilemma this presents? Propose a policy decision regarding the algorithm's use, justifying your stance by directly addressing the tension between individual liberty and collective safety, and anticipating the strongest counter-arguments to your position.\n"
     ]
    }
   ],
   "source": [
    "client = OpenAI(\n",
    "    api_key=google_api_key,\n",
    "    base_url=\"https://generativelanguage.googleapis.com/v1beta/openai/\"\n",
    ")\n",
    "response = client.chat.completions.create(\n",
    "    model=\"gemini-2.5-flash\",\n",
    "    messages=messages,\n",
    ")\n",
    "question = response.choices[0].message.content\n",
    "print(question)\n"
   ]
  },
  {
   "cell_type": "code",
   "execution_count": 23,
   "metadata": {},
   "outputs": [
    {
     "name": "stdout",
     "output_type": "stream",
     "text": [
      "[{'role': 'user', 'content': \"Consider a society that has developed a predictive algorithm capable of identifying individuals who *will* commit serious violent crimes with 100% accuracy, *before* they have taken any action or even formed a conscious intent. If deploying a 'pre-crime' system based on this algorithm would demonstrably prevent a vast majority of violent offenses and save countless lives, but at the cost of incarcerating individuals who have not yet *chosen* to commit a crime, what is the most profound ethical dilemma this presents? Propose a policy decision regarding the algorithm's use, justifying your stance by directly addressing the tension between individual liberty and collective safety, and anticipating the strongest counter-arguments to your position.\"}]\n"
     ]
    }
   ],
   "source": [
    "competitors = []\n",
    "answers = []\n",
    "messages = [{\"role\": \"user\", \"content\": question}]\n",
    "\n",
    "print(messages)"
   ]
  },
  {
   "cell_type": "code",
   "execution_count": 26,
   "metadata": {},
   "outputs": [
    {
     "data": {
      "text/markdown": [
       "This hypothetical scenario presents one of the most profound ethical dilemmas imaginable, striking at the very core of what it means to be human, to have rights, and to live in a just society.\n",
       "\n",
       "### The Most Profound Ethical Dilemma\n",
       "\n",
       "The most profound ethical dilemma presented is the direct conflict with the **foundational concept of Free Will, Moral Agency, and the Basis of Culpability**.\n",
       "\n",
       "Our entire system of law, ethics, and social responsibility is predicated on the idea that individuals *choose* their actions and are therefore morally and legally accountable for those choices. When the algorithm identifies individuals *before* they have taken any action or even formed a conscious intent, it introduces a radical challenge:\n",
       "\n",
       "1.  **Destruction of Moral Agency:** If someone *will* commit a crime, irrespective of their current thoughts or choices, does free will exist in any meaningful sense? By incarcerating them, we are effectively punishing them for a predetermined future, denying any possibility of them exercising their agency to *choose not to* commit that crime. It reduces an individual to their potentiality, rather than recognizing them as an autonomous moral agent capable of change and decision.\n",
       "2.  **Erosion of \"Innocent Until Proven Guilty\":** The principle of \"innocent until proven guilty\" is replaced by \"guilty of a future crime, proven by algorithm.\" This is not about *evidence* of an act or intent, but a prediction of a pre-determined outcome.\n",
       "3.  **Redefinition of Justice and Punishment:** Justice is traditionally meted out for *actions taken* and *intent held*. Pre-crime incarceration punishes *who a person is predicted to become*, not what they have done. It shifts the focus from rectifying harm or deterring future *chosen* acts, to preventing a predetermined event. This fundamentally alters the purpose and legitimacy of punishment.\n",
       "4.  **The Nature of Identity:** Are we incarcerating a person, or the *potential* of a person? This blurs the line between who someone is *now* and who they *will be*, stripping them of their present self based on an unchosen, future self.\n",
       "\n",
       "This dilemma goes beyond a simple balancing act of individual liberty versus collective safety. It forces us to confront the very philosophical underpinnings of human existence and responsibility.\n",
       "\n",
       "### Policy Decision and Justification\n",
       "\n",
       "Given the profundity of this dilemma, my policy decision would be:\n",
       "\n",
       "**Conditional Deployment of the Algorithm for Non-Punitive, Mandatory Intervention and Support, NOT for Pre-emptive Incarceration.**\n",
       "\n",
       "**Policy Details:**\n",
       "\n",
       "1.  **No Pre-emptive Incarceration:** Individuals identified by the algorithm will *not* be incarcerated solely based on the prediction of a future crime. To do so would be to fundamentally undermine free will and due process, creating a dystopian society where individuals are prisoners of their predicted future, not their actions.\n",
       "2.  **Mandatory, Comprehensive Intervention Programs:** Those identified would be mandated to participate in a highly individualized, comprehensive intervention program. This program would focus on:\n",
       "    *   **Intensive Psychological and Psychiatric Support:** Addressing underlying mental health issues, trauma, and psychological predispositions.\n",
       "    *   **Socio-Economic Remediation:** Providing education, job training, housing assistance, and community support to address systemic factors contributing to violence.\n",
       "    *   **Behavioral Therapy and Cognitive Restructuring:** Helping individuals develop coping mechanisms, conflict resolution skills, and ethical frameworks.\n",
       "    *   **Medical Interventions (with consent):** If biological predispositions are identified, appropriate medical treatments would be offered and encouraged.\n",
       "3.  **Strict Privacy and Oversight:** The data and identities of those identified would be protected by the highest levels of privacy and subjected to independent, multi-disciplinary oversight (legal, ethical, medical, technical) to prevent misuse or mission creep.\n",
       "4.  **Continuous Monitoring and Reassessment:** Participants would undergo continuous, non-intrusive monitoring (e.g., electronic tagging for location, psychological evaluations) and regular reassessments of their risk profile. This monitoring would be geared towards *support* and *early warning* for further intervention, not for immediate punitive action.\n",
       "5.  **Pathways to \"Clearance\":** Individuals who successfully complete intervention programs and whose risk profile demonstrably changes (as assessed by independent evaluators and the algorithm itself) could be \"cleared,\" with monitoring significantly reduced or removed.\n",
       "6.  **\"Imminent Threat\" Protocol (Extreme Exception):** In an extremely rare and tightly defined scenario, if an individual *already engaged in intervention* subsequently demonstrates clear, overt, and immediate intent or preparation for a violent act (i.e., *actus reus* or *mens rea* begins to form), then traditional law enforcement procedures for prevention of imminent harm would apply. This is *not* pre-crime, but rather preventing a crime that is clearly underway.\n",
       "\n",
       "**Justification: Balancing Individual Liberty and Collective Safety**\n",
       "\n",
       "This policy seeks to thread the needle between protecting a vast majority of lives and preserving the fundamental dignity and rights of individuals.\n",
       "\n",
       "*   **Upholding Individual Liberty:** By refusing pre-emptive incarceration, we affirm the principle that individuals are free until they choose to act in a criminal manner. We acknowledge their agency and the potential for positive change. It prevents a society where the state controls individuals based on their *potential*, rather than their *actions*, thus safeguarding fundamental human rights and the very concept of a free society. To punish someone for a crime they *will* commit, but have not yet chosen to, is to deny their humanity and create a deterministic prison of the mind.\n",
       "\n",
       "*   **Addressing Collective Safety:** The algorithm's 100% accuracy, while philosophically challenging, provides an unprecedented opportunity for *prevention through intervention*. Instead of seeing the prediction as a fixed destiny, we should view it as an alarm bell indicating a critical pathway that *can be altered*. By diverting resources from traditional policing and incarceration (for these predicted individuals) to comprehensive support and rehabilitation, we aim to prevent the crimes from ever occurring. This approach acknowledges the data's power to save lives, but does so by empowering individuals to change their predicted future, rather than stripping them of their freedom. The collective safety is enhanced by proactively addressing the root causes and individual predispositions to violence, rather than merely reacting to its inevitable occurrence.\n",
       "\n",
       "Essentially, this policy believes that the algorithm's prediction is not a fatalistic decree, but rather a perfect diagnosis that demands a perfect cure, not a pre-emptive sentence.\n",
       "\n",
       "### Strongest Counter-Arguments and Responses\n",
       "\n",
       "1.  **Counter-Argument: The Utilitarian Imperative – \"You are condemning countless people to death for abstract philosophical principles!\"**\n",
       "    *   **Argument:** With 100% accuracy, failing to incarcerate individuals is a deliberate choice to allow a known quantity of violent crimes and deaths to occur. The sheer number of lives saved by full deployment would far outweigh the \"cost\" of incarcerating individuals who *will* commit crimes. Prioritizing theoretical notions of free will over real, quantifiable lives is morally bankrupt.\n",
       "    *   **Response:** While the utilitarian calculus is compelling on its face, a society that sacrifices its foundational ethical principles (free will, due process, the presumption of innocence) for security risks becoming a dystopia where no one is truly free. The \"lives saved\" would come at the cost of fundamentally altering what it means to be human and live in a just society. Our policy *does* aim to save lives, but through intervention and rehabilitation, not pre-emptive punishment. Furthermore, if intervention works, the \"will commit\" becomes \"would have committed without intervention,\" meaning the algorithm's 100% accuracy is predicated on *no intervention occurring*. If we intervene, the outcome changes, and we save lives *while* upholding human dignity. A society that incarcerates its innocent, even its *future guilty*, has lost its moral legitimacy.\n",
       "\n",
       "2.  **Counter-Argument: The \"Risk to the Public\" Argument – \"Your intervention will fail, and then innocent people will die because you didn't act decisively!\"**\n",
       "    *   **Argument:** While intervention sounds noble, it's not guaranteed to work. If the algorithm is 100% accurate, it implies a very strong predisposition. If your intervention programs fail, and these individuals then commit the crimes, you have deliberately put the public at risk by not utilizing the most effective preventative measure (incarceration).\n",
       "    *   **Response:** This is a serious concern, and it highlights the inherent risk in any free society that does not fully control its citizens. However, the goal of intervention is to *change* the predicted outcome. If intervention significantly reduces the likelihood of crime (even if not to zero in every case), it offers a moral pathway to safety that doesn't violate fundamental rights. Our current justice system also \"fails\" people daily, and we don't preemptively incarcerate everyone at high risk of reoffending before they act. The \"imminent threat\" protocol is a safety net for extreme cases, but the primary strategy must be transformative, not punitive. The risk to the public is precisely why *mandatory* and *comprehensive* intervention is crucial, coupled with continuous monitoring. We accept the risk inherent in respecting free will, but we mitigate it vigorously.\n",
       "\n",
       "3.  **Counter-Argument: The \"Slippery Slope\" – \"Mandatory intervention, monitoring, and 'clearance' are just softer forms of control and lead inevitably to pre-emptive incarceration.\"**\n",
       "    *   **Argument:** Once the state has identified \"pre-criminals\" and subjected them to mandatory programs, it's a small step to more restrictive measures. The \"mandatory\" aspect itself infringes on liberty, even without incarceration. The concept of \"cleared\" implies a state-granted permission to be normal, which is inherently controlling.\n",
       "    *   **Response:** This is a crucial ethical guardrail. The policy *must* be enshrined with robust legal and ethical safeguards designed specifically to prevent mission creep. The fundamental distinction between *intervention/support* and *punishment/incarceration* must be legally and culturally maintained. Independent oversight, public transparency, and strictly defined limits on state power are non-negotiable. The \"mandatory\" aspect is a difficult but necessary compromise – it is mandatory in the sense of a public health imperative, like mandatory vaccination, not as a punitive measure. The alternative, allowing the known crimes to occur, is a far greater societal failure. The goal of \"clearance\" is to return full autonomy to individuals when the risk is demonstrably mitigated, not to maintain indefinite control.\n",
       "\n",
       "The dilemma of pre-crime is not just a legal or security question; it's a philosophical test of our most cherished values. My proposed policy attempts to harness the algorithm's predictive power for a more just and safer society, without sacrificing the very principles that define what makes a society just and free."
      ],
      "text/plain": [
       "<IPython.core.display.Markdown object>"
      ]
     },
     "metadata": {},
     "output_type": "display_data"
    }
   ],
   "source": [
    "# Google gemini 2.5 Flash\n",
    "\n",
    "model_name = \"gemini-2.5-flash\"\n",
    "\n",
    "response = client.chat.completions.create(model=model_name, messages=messages)\n",
    "answer = response.choices[0].message.content\n",
    "\n",
    "display(Markdown(answer))\n",
    "competitors.append(model_name)\n",
    "answers.append(answer)"
   ]
  },
  {
   "cell_type": "code",
   "execution_count": 27,
   "metadata": {},
   "outputs": [
    {
     "name": "stdout",
     "output_type": "stream",
     "text": [
      "['This hypothetical scenario presents one of the most profound ethical dilemmas imaginable, striking at the very core of what it means to be human, to have rights, and to live in a just society.\\n\\n### The Most Profound Ethical Dilemma\\n\\nThe most profound ethical dilemma presented is the direct conflict with the **foundational concept of Free Will, Moral Agency, and the Basis of Culpability**.\\n\\nOur entire system of law, ethics, and social responsibility is predicated on the idea that individuals *choose* their actions and are therefore morally and legally accountable for those choices. When the algorithm identifies individuals *before* they have taken any action or even formed a conscious intent, it introduces a radical challenge:\\n\\n1.  **Destruction of Moral Agency:** If someone *will* commit a crime, irrespective of their current thoughts or choices, does free will exist in any meaningful sense? By incarcerating them, we are effectively punishing them for a predetermined future, denying any possibility of them exercising their agency to *choose not to* commit that crime. It reduces an individual to their potentiality, rather than recognizing them as an autonomous moral agent capable of change and decision.\\n2.  **Erosion of \"Innocent Until Proven Guilty\":** The principle of \"innocent until proven guilty\" is replaced by \"guilty of a future crime, proven by algorithm.\" This is not about *evidence* of an act or intent, but a prediction of a pre-determined outcome.\\n3.  **Redefinition of Justice and Punishment:** Justice is traditionally meted out for *actions taken* and *intent held*. Pre-crime incarceration punishes *who a person is predicted to become*, not what they have done. It shifts the focus from rectifying harm or deterring future *chosen* acts, to preventing a predetermined event. This fundamentally alters the purpose and legitimacy of punishment.\\n4.  **The Nature of Identity:** Are we incarcerating a person, or the *potential* of a person? This blurs the line between who someone is *now* and who they *will be*, stripping them of their present self based on an unchosen, future self.\\n\\nThis dilemma goes beyond a simple balancing act of individual liberty versus collective safety. It forces us to confront the very philosophical underpinnings of human existence and responsibility.\\n\\n### Policy Decision and Justification\\n\\nGiven the profundity of this dilemma, my policy decision would be:\\n\\n**Conditional Deployment of the Algorithm for Non-Punitive, Mandatory Intervention and Support, NOT for Pre-emptive Incarceration.**\\n\\n**Policy Details:**\\n\\n1.  **No Pre-emptive Incarceration:** Individuals identified by the algorithm will *not* be incarcerated solely based on the prediction of a future crime. To do so would be to fundamentally undermine free will and due process, creating a dystopian society where individuals are prisoners of their predicted future, not their actions.\\n2.  **Mandatory, Comprehensive Intervention Programs:** Those identified would be mandated to participate in a highly individualized, comprehensive intervention program. This program would focus on:\\n    *   **Intensive Psychological and Psychiatric Support:** Addressing underlying mental health issues, trauma, and psychological predispositions.\\n    *   **Socio-Economic Remediation:** Providing education, job training, housing assistance, and community support to address systemic factors contributing to violence.\\n    *   **Behavioral Therapy and Cognitive Restructuring:** Helping individuals develop coping mechanisms, conflict resolution skills, and ethical frameworks.\\n    *   **Medical Interventions (with consent):** If biological predispositions are identified, appropriate medical treatments would be offered and encouraged.\\n3.  **Strict Privacy and Oversight:** The data and identities of those identified would be protected by the highest levels of privacy and subjected to independent, multi-disciplinary oversight (legal, ethical, medical, technical) to prevent misuse or mission creep.\\n4.  **Continuous Monitoring and Reassessment:** Participants would undergo continuous, non-intrusive monitoring (e.g., electronic tagging for location, psychological evaluations) and regular reassessments of their risk profile. This monitoring would be geared towards *support* and *early warning* for further intervention, not for immediate punitive action.\\n5.  **Pathways to \"Clearance\":** Individuals who successfully complete intervention programs and whose risk profile demonstrably changes (as assessed by independent evaluators and the algorithm itself) could be \"cleared,\" with monitoring significantly reduced or removed.\\n6.  **\"Imminent Threat\" Protocol (Extreme Exception):** In an extremely rare and tightly defined scenario, if an individual *already engaged in intervention* subsequently demonstrates clear, overt, and immediate intent or preparation for a violent act (i.e., *actus reus* or *mens rea* begins to form), then traditional law enforcement procedures for prevention of imminent harm would apply. This is *not* pre-crime, but rather preventing a crime that is clearly underway.\\n\\n**Justification: Balancing Individual Liberty and Collective Safety**\\n\\nThis policy seeks to thread the needle between protecting a vast majority of lives and preserving the fundamental dignity and rights of individuals.\\n\\n*   **Upholding Individual Liberty:** By refusing pre-emptive incarceration, we affirm the principle that individuals are free until they choose to act in a criminal manner. We acknowledge their agency and the potential for positive change. It prevents a society where the state controls individuals based on their *potential*, rather than their *actions*, thus safeguarding fundamental human rights and the very concept of a free society. To punish someone for a crime they *will* commit, but have not yet chosen to, is to deny their humanity and create a deterministic prison of the mind.\\n\\n*   **Addressing Collective Safety:** The algorithm\\'s 100% accuracy, while philosophically challenging, provides an unprecedented opportunity for *prevention through intervention*. Instead of seeing the prediction as a fixed destiny, we should view it as an alarm bell indicating a critical pathway that *can be altered*. By diverting resources from traditional policing and incarceration (for these predicted individuals) to comprehensive support and rehabilitation, we aim to prevent the crimes from ever occurring. This approach acknowledges the data\\'s power to save lives, but does so by empowering individuals to change their predicted future, rather than stripping them of their freedom. The collective safety is enhanced by proactively addressing the root causes and individual predispositions to violence, rather than merely reacting to its inevitable occurrence.\\n\\nEssentially, this policy believes that the algorithm\\'s prediction is not a fatalistic decree, but rather a perfect diagnosis that demands a perfect cure, not a pre-emptive sentence.\\n\\n### Strongest Counter-Arguments and Responses\\n\\n1.  **Counter-Argument: The Utilitarian Imperative – \"You are condemning countless people to death for abstract philosophical principles!\"**\\n    *   **Argument:** With 100% accuracy, failing to incarcerate individuals is a deliberate choice to allow a known quantity of violent crimes and deaths to occur. The sheer number of lives saved by full deployment would far outweigh the \"cost\" of incarcerating individuals who *will* commit crimes. Prioritizing theoretical notions of free will over real, quantifiable lives is morally bankrupt.\\n    *   **Response:** While the utilitarian calculus is compelling on its face, a society that sacrifices its foundational ethical principles (free will, due process, the presumption of innocence) for security risks becoming a dystopia where no one is truly free. The \"lives saved\" would come at the cost of fundamentally altering what it means to be human and live in a just society. Our policy *does* aim to save lives, but through intervention and rehabilitation, not pre-emptive punishment. Furthermore, if intervention works, the \"will commit\" becomes \"would have committed without intervention,\" meaning the algorithm\\'s 100% accuracy is predicated on *no intervention occurring*. If we intervene, the outcome changes, and we save lives *while* upholding human dignity. A society that incarcerates its innocent, even its *future guilty*, has lost its moral legitimacy.\\n\\n2.  **Counter-Argument: The \"Risk to the Public\" Argument – \"Your intervention will fail, and then innocent people will die because you didn\\'t act decisively!\"**\\n    *   **Argument:** While intervention sounds noble, it\\'s not guaranteed to work. If the algorithm is 100% accurate, it implies a very strong predisposition. If your intervention programs fail, and these individuals then commit the crimes, you have deliberately put the public at risk by not utilizing the most effective preventative measure (incarceration).\\n    *   **Response:** This is a serious concern, and it highlights the inherent risk in any free society that does not fully control its citizens. However, the goal of intervention is to *change* the predicted outcome. If intervention significantly reduces the likelihood of crime (even if not to zero in every case), it offers a moral pathway to safety that doesn\\'t violate fundamental rights. Our current justice system also \"fails\" people daily, and we don\\'t preemptively incarcerate everyone at high risk of reoffending before they act. The \"imminent threat\" protocol is a safety net for extreme cases, but the primary strategy must be transformative, not punitive. The risk to the public is precisely why *mandatory* and *comprehensive* intervention is crucial, coupled with continuous monitoring. We accept the risk inherent in respecting free will, but we mitigate it vigorously.\\n\\n3.  **Counter-Argument: The \"Slippery Slope\" – \"Mandatory intervention, monitoring, and \\'clearance\\' are just softer forms of control and lead inevitably to pre-emptive incarceration.\"**\\n    *   **Argument:** Once the state has identified \"pre-criminals\" and subjected them to mandatory programs, it\\'s a small step to more restrictive measures. The \"mandatory\" aspect itself infringes on liberty, even without incarceration. The concept of \"cleared\" implies a state-granted permission to be normal, which is inherently controlling.\\n    *   **Response:** This is a crucial ethical guardrail. The policy *must* be enshrined with robust legal and ethical safeguards designed specifically to prevent mission creep. The fundamental distinction between *intervention/support* and *punishment/incarceration* must be legally and culturally maintained. Independent oversight, public transparency, and strictly defined limits on state power are non-negotiable. The \"mandatory\" aspect is a difficult but necessary compromise – it is mandatory in the sense of a public health imperative, like mandatory vaccination, not as a punitive measure. The alternative, allowing the known crimes to occur, is a far greater societal failure. The goal of \"clearance\" is to return full autonomy to individuals when the risk is demonstrably mitigated, not to maintain indefinite control.\\n\\nThe dilemma of pre-crime is not just a legal or security question; it\\'s a philosophical test of our most cherished values. My proposed policy attempts to harness the algorithm\\'s predictive power for a more just and safer society, without sacrificing the very principles that define what makes a society just and free.']\n",
      "['gemini-2.5-flash']\n"
     ]
    }
   ],
   "source": [
    "print(answers)\n",
    "print(competitors)"
   ]
  },
  {
   "cell_type": "code",
   "execution_count": 29,
   "metadata": {},
   "outputs": [
    {
     "name": "stdout",
     "output_type": "stream",
     "text": [
      "[{'role': 'user', 'content': 'A model was asked this question: Consider a society that has developed a predictive algorithm capable of identifying individuals who *will* commit serious violent crimes with 100% accuracy, *before* they have taken any action or even formed a conscious intent. If deploying a \\'pre-crime\\' system based on this algorithm would demonstrably prevent a vast majority of violent offenses and save countless lives, but at the cost of incarcerating individuals who have not yet *chosen* to commit a crime, what is the most profound ethical dilemma this presents? Propose a policy decision regarding the algorithm\\'s use, justifying your stance by directly addressing the tension between individual liberty and collective safety, and anticipating the strongest counter-arguments to your position., and replied with this answer: This hypothetical scenario presents one of the most profound ethical dilemmas imaginable, striking at the very core of what it means to be human, to have rights, and to live in a just society.\\n\\n### The Most Profound Ethical Dilemma\\n\\nThe most profound ethical dilemma presented is the direct conflict with the **foundational concept of Free Will, Moral Agency, and the Basis of Culpability**.\\n\\nOur entire system of law, ethics, and social responsibility is predicated on the idea that individuals *choose* their actions and are therefore morally and legally accountable for those choices. When the algorithm identifies individuals *before* they have taken any action or even formed a conscious intent, it introduces a radical challenge:\\n\\n1.  **Destruction of Moral Agency:** If someone *will* commit a crime, irrespective of their current thoughts or choices, does free will exist in any meaningful sense? By incarcerating them, we are effectively punishing them for a predetermined future, denying any possibility of them exercising their agency to *choose not to* commit that crime. It reduces an individual to their potentiality, rather than recognizing them as an autonomous moral agent capable of change and decision.\\n2.  **Erosion of \"Innocent Until Proven Guilty\":** The principle of \"innocent until proven guilty\" is replaced by \"guilty of a future crime, proven by algorithm.\" This is not about *evidence* of an act or intent, but a prediction of a pre-determined outcome.\\n3.  **Redefinition of Justice and Punishment:** Justice is traditionally meted out for *actions taken* and *intent held*. Pre-crime incarceration punishes *who a person is predicted to become*, not what they have done. It shifts the focus from rectifying harm or deterring future *chosen* acts, to preventing a predetermined event. This fundamentally alters the purpose and legitimacy of punishment.\\n4.  **The Nature of Identity:** Are we incarcerating a person, or the *potential* of a person? This blurs the line between who someone is *now* and who they *will be*, stripping them of their present self based on an unchosen, future self.\\n\\nThis dilemma goes beyond a simple balancing act of individual liberty versus collective safety. It forces us to confront the very philosophical underpinnings of human existence and responsibility.\\n\\n### Policy Decision and Justification\\n\\nGiven the profundity of this dilemma, my policy decision would be:\\n\\n**Conditional Deployment of the Algorithm for Non-Punitive, Mandatory Intervention and Support, NOT for Pre-emptive Incarceration.**\\n\\n**Policy Details:**\\n\\n1.  **No Pre-emptive Incarceration:** Individuals identified by the algorithm will *not* be incarcerated solely based on the prediction of a future crime. To do so would be to fundamentally undermine free will and due process, creating a dystopian society where individuals are prisoners of their predicted future, not their actions.\\n2.  **Mandatory, Comprehensive Intervention Programs:** Those identified would be mandated to participate in a highly individualized, comprehensive intervention program. This program would focus on:\\n    *   **Intensive Psychological and Psychiatric Support:** Addressing underlying mental health issues, trauma, and psychological predispositions.\\n    *   **Socio-Economic Remediation:** Providing education, job training, housing assistance, and community support to address systemic factors contributing to violence.\\n    *   **Behavioral Therapy and Cognitive Restructuring:** Helping individuals develop coping mechanisms, conflict resolution skills, and ethical frameworks.\\n    *   **Medical Interventions (with consent):** If biological predispositions are identified, appropriate medical treatments would be offered and encouraged.\\n3.  **Strict Privacy and Oversight:** The data and identities of those identified would be protected by the highest levels of privacy and subjected to independent, multi-disciplinary oversight (legal, ethical, medical, technical) to prevent misuse or mission creep.\\n4.  **Continuous Monitoring and Reassessment:** Participants would undergo continuous, non-intrusive monitoring (e.g., electronic tagging for location, psychological evaluations) and regular reassessments of their risk profile. This monitoring would be geared towards *support* and *early warning* for further intervention, not for immediate punitive action.\\n5.  **Pathways to \"Clearance\":** Individuals who successfully complete intervention programs and whose risk profile demonstrably changes (as assessed by independent evaluators and the algorithm itself) could be \"cleared,\" with monitoring significantly reduced or removed.\\n6.  **\"Imminent Threat\" Protocol (Extreme Exception):** In an extremely rare and tightly defined scenario, if an individual *already engaged in intervention* subsequently demonstrates clear, overt, and immediate intent or preparation for a violent act (i.e., *actus reus* or *mens rea* begins to form), then traditional law enforcement procedures for prevention of imminent harm would apply. This is *not* pre-crime, but rather preventing a crime that is clearly underway.\\n\\n**Justification: Balancing Individual Liberty and Collective Safety**\\n\\nThis policy seeks to thread the needle between protecting a vast majority of lives and preserving the fundamental dignity and rights of individuals.\\n\\n*   **Upholding Individual Liberty:** By refusing pre-emptive incarceration, we affirm the principle that individuals are free until they choose to act in a criminal manner. We acknowledge their agency and the potential for positive change. It prevents a society where the state controls individuals based on their *potential*, rather than their *actions*, thus safeguarding fundamental human rights and the very concept of a free society. To punish someone for a crime they *will* commit, but have not yet chosen to, is to deny their humanity and create a deterministic prison of the mind.\\n\\n*   **Addressing Collective Safety:** The algorithm\\'s 100% accuracy, while philosophically challenging, provides an unprecedented opportunity for *prevention through intervention*. Instead of seeing the prediction as a fixed destiny, we should view it as an alarm bell indicating a critical pathway that *can be altered*. By diverting resources from traditional policing and incarceration (for these predicted individuals) to comprehensive support and rehabilitation, we aim to prevent the crimes from ever occurring. This approach acknowledges the data\\'s power to save lives, but does so by empowering individuals to change their predicted future, rather than stripping them of their freedom. The collective safety is enhanced by proactively addressing the root causes and individual predispositions to violence, rather than merely reacting to its inevitable occurrence.\\n\\nEssentially, this policy believes that the algorithm\\'s prediction is not a fatalistic decree, but rather a perfect diagnosis that demands a perfect cure, not a pre-emptive sentence.\\n\\n### Strongest Counter-Arguments and Responses\\n\\n1.  **Counter-Argument: The Utilitarian Imperative – \"You are condemning countless people to death for abstract philosophical principles!\"**\\n    *   **Argument:** With 100% accuracy, failing to incarcerate individuals is a deliberate choice to allow a known quantity of violent crimes and deaths to occur. The sheer number of lives saved by full deployment would far outweigh the \"cost\" of incarcerating individuals who *will* commit crimes. Prioritizing theoretical notions of free will over real, quantifiable lives is morally bankrupt.\\n    *   **Response:** While the utilitarian calculus is compelling on its face, a society that sacrifices its foundational ethical principles (free will, due process, the presumption of innocence) for security risks becoming a dystopia where no one is truly free. The \"lives saved\" would come at the cost of fundamentally altering what it means to be human and live in a just society. Our policy *does* aim to save lives, but through intervention and rehabilitation, not pre-emptive punishment. Furthermore, if intervention works, the \"will commit\" becomes \"would have committed without intervention,\" meaning the algorithm\\'s 100% accuracy is predicated on *no intervention occurring*. If we intervene, the outcome changes, and we save lives *while* upholding human dignity. A society that incarcerates its innocent, even its *future guilty*, has lost its moral legitimacy.\\n\\n2.  **Counter-Argument: The \"Risk to the Public\" Argument – \"Your intervention will fail, and then innocent people will die because you didn\\'t act decisively!\"**\\n    *   **Argument:** While intervention sounds noble, it\\'s not guaranteed to work. If the algorithm is 100% accurate, it implies a very strong predisposition. If your intervention programs fail, and these individuals then commit the crimes, you have deliberately put the public at risk by not utilizing the most effective preventative measure (incarceration).\\n    *   **Response:** This is a serious concern, and it highlights the inherent risk in any free society that does not fully control its citizens. However, the goal of intervention is to *change* the predicted outcome. If intervention significantly reduces the likelihood of crime (even if not to zero in every case), it offers a moral pathway to safety that doesn\\'t violate fundamental rights. Our current justice system also \"fails\" people daily, and we don\\'t preemptively incarcerate everyone at high risk of reoffending before they act. The \"imminent threat\" protocol is a safety net for extreme cases, but the primary strategy must be transformative, not punitive. The risk to the public is precisely why *mandatory* and *comprehensive* intervention is crucial, coupled with continuous monitoring. We accept the risk inherent in respecting free will, but we mitigate it vigorously.\\n\\n3.  **Counter-Argument: The \"Slippery Slope\" – \"Mandatory intervention, monitoring, and \\'clearance\\' are just softer forms of control and lead inevitably to pre-emptive incarceration.\"**\\n    *   **Argument:** Once the state has identified \"pre-criminals\" and subjected them to mandatory programs, it\\'s a small step to more restrictive measures. The \"mandatory\" aspect itself infringes on liberty, even without incarceration. The concept of \"cleared\" implies a state-granted permission to be normal, which is inherently controlling.\\n    *   **Response:** This is a crucial ethical guardrail. The policy *must* be enshrined with robust legal and ethical safeguards designed specifically to prevent mission creep. The fundamental distinction between *intervention/support* and *punishment/incarceration* must be legally and culturally maintained. Independent oversight, public transparency, and strictly defined limits on state power are non-negotiable. The \"mandatory\" aspect is a difficult but necessary compromise – it is mandatory in the sense of a public health imperative, like mandatory vaccination, not as a punitive measure. The alternative, allowing the known crimes to occur, is a far greater societal failure. The goal of \"clearance\" is to return full autonomy to individuals when the risk is demonstrably mitigated, not to maintain indefinite control.\\n\\nThe dilemma of pre-crime is not just a legal or security question; it\\'s a philosophical test of our most cherished values. My proposed policy attempts to harness the algorithm\\'s predictive power for a more just and safer society, without sacrificing the very principles that define what makes a society just and free.. Enhance the answer to the question based on the model\\'s response. Only reply with the answer to the question.'}]\n"
     ]
    }
   ],
   "source": [
    "request = f\"A model was asked this question: {question}, and replied with this answer: {answers[0]}. Enhance the answer to the question based on the model's response. Only reply with the answer to the question.\"\n",
    "messages = [{\"role\": \"user\", \"content\": request}]\n",
    "print(messages)"
   ]
  },
  {
   "cell_type": "code",
   "execution_count": 30,
   "metadata": {},
   "outputs": [
    {
     "data": {
      "text/markdown": [
       "This hypothetical scenario presents one of the most profound ethical dilemmas imaginable, striking at the very core of what it means to be human, to have rights, and to live in a just society.\n",
       "\n",
       "### The Most Profound Ethical Dilemma\n",
       "\n",
       "The most profound ethical dilemma presented is the direct conflict with the **foundational concepts of Free Will, Moral Agency, and the Basis of Culpability**. This dilemma isn't merely a balancing act between individual rights and collective safety, but a radical challenge to the philosophical bedrock of our legal and ethical systems.\n",
       "\n",
       "Our entire system of law, ethics, and social responsibility is predicated on the idea that individuals *choose* their actions and are therefore morally and legally accountable for those choices. When the algorithm identifies individuals *before* they have taken any action or even formed a conscious intent, it introduces a unique and unprecedented challenge:\n",
       "\n",
       "1.  **Destruction of Moral Agency:** If someone *will* commit a crime with 100% certainty, irrespective of their current thoughts or choices, does free will exist in any meaningful sense? By incarcerating them, we are effectively punishing them for a predetermined future, denying any possibility of them exercising their agency to *choose not to* commit that crime. It reduces an individual to their potentiality, rather than recognizing them as an autonomous moral agent capable of change, introspection, and alternative decisions. This effectively strips humanity of the very essence of moral choice.\n",
       "2.  **Erosion of \"Innocent Until Proven Guilty\" and Due Process:** The principle of \"innocent until proven guilty\" is replaced by \"guilty of a future crime, proven by algorithm.\" This is not about *evidence* of an act committed or intent held, but a prediction of a predetermined outcome. It bypasses the entire framework of legal proof, burden of evidence, and the right to defend oneself against an accusation of a past act.\n",
       "3.  **Redefinition of Justice and Punishment:** Justice is traditionally meted out for *actions taken* and *intent held (mens rea)*, providing retributive, deterrent, or rehabilitative responses to *actual* wrongs. Pre-crime incarceration punishes *who a person is predicted to become*, not what they have done. It fundamentally alters the purpose and legitimacy of punishment, turning it into a pre-emptive control mechanism based on a future that the individual has not yet chosen or embodied.\n",
       "4.  **The Nature of Identity:** Are we incarcerating a person, or the *potential* of a person? This blurs the line between who someone is *now* and who they *will be*, stripping them of their present self based on an unchosen, future self. It raises questions about the definition of \"self\" and whether a future, unchosen self can be the basis for present deprivation of liberty.\n",
       "\n",
       "This dilemma goes beyond a simple utilitarian calculation. It forces us to confront the very philosophical underpinnings of human existence, responsibility, and the kind of society we aspire to build – one that either affirms individual agency or subordinates it entirely to deterministic prediction.\n",
       "\n",
       "### Policy Decision and Justification\n",
       "\n",
       "Given the profundity of this dilemma, my policy decision would be:\n",
       "\n",
       "**Conditional Deployment of the Algorithm for Non-Punitive, Mandatory Intervention and Support, NOT for Pre-emptive Incarceration.**\n",
       "\n",
       "**Policy Details:**\n",
       "\n",
       "1.  **No Pre-emptive Incarceration:** Individuals identified by the algorithm will *not* be incarcerated solely based on the prediction of a future crime. To do so would be to fundamentally undermine free will, due process, and the presumption of innocence, creating a dystopian society where individuals are prisoners of their predicted future, not their actions. This decision adheres to a broadly deontological ethical framework that prioritizes individual rights and moral agency as non-negotiable, even in the face of significant utilitarian benefits.\n",
       "2.  **Mandatory, Comprehensive Intervention Programs:** Those identified would be mandated to participate in a highly individualized, comprehensive intervention program. This \"mandatory opportunity\" is justified by the perfect certainty of the future crime, viewing the algorithm's prediction not as an unchangeable fate, but as a perfect diagnosis that demands a proactive \"cure\" to *change* that fate. This program would focus on:\n",
       "    *   **Intensive Psychological and Psychiatric Support:** Addressing underlying mental health issues, trauma, and psychological predispositions identified as contributing factors. This includes ongoing therapy, counseling, and psychiatric care.\n",
       "    *   **Socio-Economic Remediation:** Providing targeted education, job training, housing assistance, and robust community support to address systemic factors contributing to violence. The aim is to alter the environmental and circumstantial elements that would lead to the predicted outcome.\n",
       "    *   **Behavioral Therapy and Cognitive Restructuring:** Empowering individuals to develop coping mechanisms, conflict resolution skills, empathy, and ethical frameworks to consciously choose non-violent paths.\n",
       "    *   **Medical Interventions (with informed consent):** If biological predispositions are identified as a contributing factor, appropriate medical treatments would be offered and strongly encouraged, but not forced.\n",
       "3.  **Strict Privacy and Independent Oversight:** The data and identities of those identified would be protected by the highest levels of privacy and subjected to rigorous, independent, multi-disciplinary oversight (legal, ethical, medical, technical, civil liberties groups) to prevent misuse, discrimination, or mission creep. Transparency with the public about the aggregate data (without individual identification) would be critical.\n",
       "4.  **Continuous Monitoring and Reassessment:** Participants would undergo continuous, non-intrusive monitoring (e.g., electronic tagging for location within pre-defined safe zones, regular psychological evaluations, behavioral pattern analysis). This monitoring would be geared towards *support* and *early warning* for further intervention or adjustment of programs, not for immediate punitive action. The goal is to track progress in altering the predicted trajectory.\n",
       "5.  **Pathways to \"Clearance\":** Individuals who successfully complete intervention programs and whose risk profile demonstrably changes (as assessed by independent evaluators and the algorithm itself, indicating a shift in the predicted outcome) could be \"cleared,\" with monitoring significantly reduced or removed, restoring full autonomy. This reinforces the idea that the prediction is alterable.\n",
       "6.  **\"Imminent Threat\" Protocol (Extreme Exception):** In an extremely rare and tightly defined scenario, if an individual *already engaged in intervention* subsequently demonstrates clear, overt, and immediate intent or preparation for a violent act (i.e., *actus reus* or *mens rea* begins to form, moving beyond mere prediction to active planning), then traditional law enforcement procedures for prevention of imminent harm would apply. This is *not* pre-crime, but rather preventing a crime that is clearly underway or about to be committed based on present actions and intentions, consistent with existing legal frameworks.\n",
       "\n",
       "**Justification: Balancing Individual Liberty and Collective Safety**\n",
       "\n",
       "This policy seeks to thread the needle between protecting a vast majority of lives and preserving the fundamental dignity and rights of individuals. It operates on the interpretation that the algorithm's 100% accuracy predicts what *will happen if current conditions and trajectories persist*, rather than an unchangeable, absolute destiny.\n",
       "\n",
       "*   **Upholding Individual Liberty and Free Will:** By refusing pre-emptive incarceration, we affirm the principle that individuals are free until they choose to act in a criminal manner. We acknowledge their agency and the potential for positive change. It prevents a society where the state controls individuals based on their *potential*, rather than their *actions*, thus safeguarding fundamental human rights and the very concept of a free society. To punish someone for a crime they *will* commit, but have not yet chosen to, is to deny their humanity and create a deterministic prison of the mind. This policy offers a pathway for individuals to *exercise their free will* to choose a different future than the one predicted, thereby demonstrating and preserving the existence of free will itself.\n",
       "\n",
       "*   **Addressing Collective Safety and Moral Imperative:** The algorithm's 100% accuracy, while philosophically challenging, provides an unprecedented opportunity for *prevention through transformative intervention*. Instead of seeing the prediction as a fixed destiny to be punished, we view it as an alarm bell indicating a critical pathway that *can and must be altered*. By diverting resources from traditional policing and incarceration (for these predicted individuals) to comprehensive, evidence-based support and rehabilitation, we aim to prevent the crimes from ever occurring. This approach acknowledges the data's power to save lives, but does so by empowering individuals to change their predicted future, rather than stripping them of their freedom. The collective safety is enhanced by proactively addressing the root causes and individual predispositions to violence, thereby achieving the utilitarian goal of saving countless lives *while* upholding human dignity. The moral imperative is to prevent known harm, but to do so in a manner that respects the fundamental principles of a just society.\n",
       "\n",
       "Essentially, this policy believes that the algorithm's prediction is not a fatalistic decree but a perfect diagnosis that demands a perfect cure, not a pre-emptive sentence. It represents a commitment to a society where foresight is used for empowerment and change, not for deterministic control.\n",
       "\n",
       "### Strongest Counter-Arguments and Responses\n",
       "\n",
       "1.  **Counter-Argument: The Utilitarian Imperative – \"You are condemning countless people to death for abstract philosophical principles!\"**\n",
       "    *   **Argument:** With 100% accuracy, failing to incarcerate individuals is a deliberate choice to allow a known quantity of violent crimes and deaths to occur. The sheer number of lives saved by full pre-emptive incarceration would far outweigh the \"cost\" of incarcerating individuals who *will* commit crimes. Prioritizing theoretical notions of free will over real, quantifiable lives is morally bankrupt, especially when an infallible mechanism exists.\n",
       "    *   **Response:** While the utilitarian calculus is compelling on its face, a society that sacrifices its foundational ethical principles (free will, due process, the presumption of innocence) for security risks becoming a dystopia where no one is truly free. The \"lives saved\" would come at the cost of fundamentally altering what it means to be human and live in a just society. Our policy *does* aim to save lives, but through intervention and rehabilitation, not pre-emptive punishment. This approach offers a higher-order utilitarianism: one that maximizes overall societal well-being by preventing harm *without* eroding the ethical fabric that makes life worth living. Furthermore, if intervention works, the \"will commit\" becomes \"would have committed without intervention,\" meaning the algorithm's 100% accuracy is predicated on *no intervention occurring*. If we intervene, the outcome changes, and we save lives *while* upholding human dignity. A society that incarcerates its innocent, even its *future guilty*, has lost its moral legitimacy and risks collapsing into a surveillance state where everyone is a potential prisoner of their data.\n",
       "\n",
       "2.  **Counter-Argument: The \"Risk to the Public\" Argument – \"Your intervention will fail, and then innocent people will die because you didn't act decisively!\"**\n",
       "    *   **Argument:** While intervention sounds noble, it's not guaranteed to work, especially if the predisposition to violence is so strong as to be 100% predictable. If your intervention programs fail, and these individuals then commit the crimes, you have deliberately put the public at risk by not utilizing the most effective preventative measure (incarceration) when you had a 100% accurate prediction. This is an irresponsible use of a life-saving technology.\n",
       "    *   **Response:** This is a serious concern, and it highlights the inherent risk in any free society that does not fully control its citizens. However, the premise of 100% accuracy applies to an *unhindered* future. The goal of intervention is precisely to *change* that predicted outcome. The success of the intervention is measured by whether it alters the individual's trajectory away from the predicted crime. If intervention significantly reduces the likelihood of crime (and we would expect high success rates given tailored, intensive, and mandatory programs), it offers a moral pathway to safety that doesn't violate fundamental rights. Our current justice system also \"fails\" people daily, and we don't preemptively incarcerate everyone at high risk of reoffending before they act. The \"imminent threat\" protocol is a safety net for extreme cases, but the primary strategy must be transformative, not punitive. The risk to the public is precisely why *mandatory* and *comprehensive* intervention is crucial, coupled with continuous, though non-punitive, monitoring. We accept the risk inherent in respecting free will, but we mitigate it vigorously through proactive, data-informed support.\n",
       "\n",
       "3.  **Counter-Argument: The \"Slippery Slope\" – \"Mandatory intervention, monitoring, and 'clearance' are just softer forms of control and lead inevitably to pre-emptive incarceration.\"**\n",
       "    *   **Argument:** Once the state has identified \"pre-criminals\" and subjected them to mandatory programs, it's a small and inevitable step to more restrictive measures. The \"mandatory\" aspect itself infringes on liberty, even without incarceration, and the concept of \"cleared\" implies a state-granted permission to be normal, which is inherently controlling and undermines individual autonomy. This system creates a permanent class of \"at-risk\" citizens under perpetual state scrutiny.\n",
       "    *   **Response:** This is a crucial ethical guardrail. The policy *must* be enshrined with robust legal, ethical, and constitutional safeguards specifically designed to prevent mission creep. The fundamental distinction between *intervention/support* and *punishment/incarceration* must be legally and culturally maintained and enforced by independent bodies. Strict legislative limits on the duration and intrusiveness of monitoring, clear criteria for \"clearance,\" and mechanisms for independent appeals would be non-negotiable. The \"mandatory\" aspect is a difficult but necessary compromise, framed as a public health and safety imperative (akin to mandatory vaccination for communicable diseases) rather than a punitive measure. The alternative, allowing the known crimes to occur, is a far greater societal failure. The goal of \"clearance\" is to return full autonomy to individuals when the risk is demonstrably mitigated, not to maintain indefinite control. This system requires eternal vigilance and a deep societal commitment to its core principles.\n",
       "\n",
       "The dilemma of pre-crime is not just a legal or security question; it's a philosophical test of our most cherished values. My proposed policy attempts to harness the algorithm's predictive power for a more just and safer society, without sacrificing the very principles that define what makes a society just and free. It champions human agency and the capacity for change, even in the face of perfect prediction."
      ],
      "text/plain": [
       "<IPython.core.display.Markdown object>"
      ]
     },
     "metadata": {},
     "output_type": "display_data"
    }
   ],
   "source": [
    "# Evaluator-optimizer design pattern: enhance gemini's response by running another iteration\n",
    "# Google gemini 2.5 Flash (again)\n",
    "\n",
    "model_name = \"gemini-2.5-flash\"\n",
    "\n",
    "response = client.chat.completions.create(model=model_name, messages=messages)\n",
    "answer = response.choices[0].message.content\n",
    "\n",
    "display(Markdown(answer))\n",
    "competitors.append(model_name+\" 2nd iteration\")\n",
    "answers.append(answer)\n"
   ]
  },
  {
   "cell_type": "code",
   "execution_count": null,
   "metadata": {},
   "outputs": [
    {
     "name": "stdout",
     "output_type": "stream",
     "text": [
      "2\n",
      "['gemini-2.5-flash', 'gemini-2.5-flash 2nd iteration']\n"
     ]
    }
   ],
   "source": [
    "print(answers)\n",
    "print(competitors)"
   ]
  },
  {
   "cell_type": "code",
   "execution_count": 34,
   "metadata": {},
   "outputs": [],
   "source": [
    "# Let's bring this together - note the use of \"enumerate\"\n",
    "\n",
    "together = \"\"\n",
    "for index, answer in enumerate(answers):\n",
    "    together += f\"# Response from competitor {index+1}\\n\\n\"\n",
    "    together += answer + \"\\n\\n\""
   ]
  },
  {
   "cell_type": "code",
   "execution_count": 36,
   "metadata": {},
   "outputs": [
    {
     "name": "stdout",
     "output_type": "stream",
     "text": [
      "# Response from competitor 1\n",
      "\n",
      "This hypothetical scenario presents one of the most profound ethical dilemmas imaginable, striking at the very core of what it means to be human, to have rights, and to live in a just society.\n",
      "\n",
      "### The Most Profound Ethical Dilemma\n",
      "\n",
      "The most profound ethical dilemma presented is the direct conflict with the **foundational concept of Free Will, Moral Agency, and the Basis of Culpability**.\n",
      "\n",
      "Our entire system of law, ethics, and social responsibility is predicated on the idea that individuals *choose* their actions and are therefore morally and legally accountable for those choices. When the algorithm identifies individuals *before* they have taken any action or even formed a conscious intent, it introduces a radical challenge:\n",
      "\n",
      "1.  **Destruction of Moral Agency:** If someone *will* commit a crime, irrespective of their current thoughts or choices, does free will exist in any meaningful sense? By incarcerating them, we are effectively punishing them for a predetermined future, denying any possibility of them exercising their agency to *choose not to* commit that crime. It reduces an individual to their potentiality, rather than recognizing them as an autonomous moral agent capable of change and decision.\n",
      "2.  **Erosion of \"Innocent Until Proven Guilty\":** The principle of \"innocent until proven guilty\" is replaced by \"guilty of a future crime, proven by algorithm.\" This is not about *evidence* of an act or intent, but a prediction of a pre-determined outcome.\n",
      "3.  **Redefinition of Justice and Punishment:** Justice is traditionally meted out for *actions taken* and *intent held*. Pre-crime incarceration punishes *who a person is predicted to become*, not what they have done. It shifts the focus from rectifying harm or deterring future *chosen* acts, to preventing a predetermined event. This fundamentally alters the purpose and legitimacy of punishment.\n",
      "4.  **The Nature of Identity:** Are we incarcerating a person, or the *potential* of a person? This blurs the line between who someone is *now* and who they *will be*, stripping them of their present self based on an unchosen, future self.\n",
      "\n",
      "This dilemma goes beyond a simple balancing act of individual liberty versus collective safety. It forces us to confront the very philosophical underpinnings of human existence and responsibility.\n",
      "\n",
      "### Policy Decision and Justification\n",
      "\n",
      "Given the profundity of this dilemma, my policy decision would be:\n",
      "\n",
      "**Conditional Deployment of the Algorithm for Non-Punitive, Mandatory Intervention and Support, NOT for Pre-emptive Incarceration.**\n",
      "\n",
      "**Policy Details:**\n",
      "\n",
      "1.  **No Pre-emptive Incarceration:** Individuals identified by the algorithm will *not* be incarcerated solely based on the prediction of a future crime. To do so would be to fundamentally undermine free will and due process, creating a dystopian society where individuals are prisoners of their predicted future, not their actions.\n",
      "2.  **Mandatory, Comprehensive Intervention Programs:** Those identified would be mandated to participate in a highly individualized, comprehensive intervention program. This program would focus on:\n",
      "    *   **Intensive Psychological and Psychiatric Support:** Addressing underlying mental health issues, trauma, and psychological predispositions.\n",
      "    *   **Socio-Economic Remediation:** Providing education, job training, housing assistance, and community support to address systemic factors contributing to violence.\n",
      "    *   **Behavioral Therapy and Cognitive Restructuring:** Helping individuals develop coping mechanisms, conflict resolution skills, and ethical frameworks.\n",
      "    *   **Medical Interventions (with consent):** If biological predispositions are identified, appropriate medical treatments would be offered and encouraged.\n",
      "3.  **Strict Privacy and Oversight:** The data and identities of those identified would be protected by the highest levels of privacy and subjected to independent, multi-disciplinary oversight (legal, ethical, medical, technical) to prevent misuse or mission creep.\n",
      "4.  **Continuous Monitoring and Reassessment:** Participants would undergo continuous, non-intrusive monitoring (e.g., electronic tagging for location, psychological evaluations) and regular reassessments of their risk profile. This monitoring would be geared towards *support* and *early warning* for further intervention, not for immediate punitive action.\n",
      "5.  **Pathways to \"Clearance\":** Individuals who successfully complete intervention programs and whose risk profile demonstrably changes (as assessed by independent evaluators and the algorithm itself) could be \"cleared,\" with monitoring significantly reduced or removed.\n",
      "6.  **\"Imminent Threat\" Protocol (Extreme Exception):** In an extremely rare and tightly defined scenario, if an individual *already engaged in intervention* subsequently demonstrates clear, overt, and immediate intent or preparation for a violent act (i.e., *actus reus* or *mens rea* begins to form), then traditional law enforcement procedures for prevention of imminent harm would apply. This is *not* pre-crime, but rather preventing a crime that is clearly underway.\n",
      "\n",
      "**Justification: Balancing Individual Liberty and Collective Safety**\n",
      "\n",
      "This policy seeks to thread the needle between protecting a vast majority of lives and preserving the fundamental dignity and rights of individuals.\n",
      "\n",
      "*   **Upholding Individual Liberty:** By refusing pre-emptive incarceration, we affirm the principle that individuals are free until they choose to act in a criminal manner. We acknowledge their agency and the potential for positive change. It prevents a society where the state controls individuals based on their *potential*, rather than their *actions*, thus safeguarding fundamental human rights and the very concept of a free society. To punish someone for a crime they *will* commit, but have not yet chosen to, is to deny their humanity and create a deterministic prison of the mind.\n",
      "\n",
      "*   **Addressing Collective Safety:** The algorithm's 100% accuracy, while philosophically challenging, provides an unprecedented opportunity for *prevention through intervention*. Instead of seeing the prediction as a fixed destiny, we should view it as an alarm bell indicating a critical pathway that *can be altered*. By diverting resources from traditional policing and incarceration (for these predicted individuals) to comprehensive support and rehabilitation, we aim to prevent the crimes from ever occurring. This approach acknowledges the data's power to save lives, but does so by empowering individuals to change their predicted future, rather than stripping them of their freedom. The collective safety is enhanced by proactively addressing the root causes and individual predispositions to violence, rather than merely reacting to its inevitable occurrence.\n",
      "\n",
      "Essentially, this policy believes that the algorithm's prediction is not a fatalistic decree, but rather a perfect diagnosis that demands a perfect cure, not a pre-emptive sentence.\n",
      "\n",
      "### Strongest Counter-Arguments and Responses\n",
      "\n",
      "1.  **Counter-Argument: The Utilitarian Imperative – \"You are condemning countless people to death for abstract philosophical principles!\"**\n",
      "    *   **Argument:** With 100% accuracy, failing to incarcerate individuals is a deliberate choice to allow a known quantity of violent crimes and deaths to occur. The sheer number of lives saved by full deployment would far outweigh the \"cost\" of incarcerating individuals who *will* commit crimes. Prioritizing theoretical notions of free will over real, quantifiable lives is morally bankrupt.\n",
      "    *   **Response:** While the utilitarian calculus is compelling on its face, a society that sacrifices its foundational ethical principles (free will, due process, the presumption of innocence) for security risks becoming a dystopia where no one is truly free. The \"lives saved\" would come at the cost of fundamentally altering what it means to be human and live in a just society. Our policy *does* aim to save lives, but through intervention and rehabilitation, not pre-emptive punishment. Furthermore, if intervention works, the \"will commit\" becomes \"would have committed without intervention,\" meaning the algorithm's 100% accuracy is predicated on *no intervention occurring*. If we intervene, the outcome changes, and we save lives *while* upholding human dignity. A society that incarcerates its innocent, even its *future guilty*, has lost its moral legitimacy.\n",
      "\n",
      "2.  **Counter-Argument: The \"Risk to the Public\" Argument – \"Your intervention will fail, and then innocent people will die because you didn't act decisively!\"**\n",
      "    *   **Argument:** While intervention sounds noble, it's not guaranteed to work. If the algorithm is 100% accurate, it implies a very strong predisposition. If your intervention programs fail, and these individuals then commit the crimes, you have deliberately put the public at risk by not utilizing the most effective preventative measure (incarceration).\n",
      "    *   **Response:** This is a serious concern, and it highlights the inherent risk in any free society that does not fully control its citizens. However, the goal of intervention is to *change* the predicted outcome. If intervention significantly reduces the likelihood of crime (even if not to zero in every case), it offers a moral pathway to safety that doesn't violate fundamental rights. Our current justice system also \"fails\" people daily, and we don't preemptively incarcerate everyone at high risk of reoffending before they act. The \"imminent threat\" protocol is a safety net for extreme cases, but the primary strategy must be transformative, not punitive. The risk to the public is precisely why *mandatory* and *comprehensive* intervention is crucial, coupled with continuous monitoring. We accept the risk inherent in respecting free will, but we mitigate it vigorously.\n",
      "\n",
      "3.  **Counter-Argument: The \"Slippery Slope\" – \"Mandatory intervention, monitoring, and 'clearance' are just softer forms of control and lead inevitably to pre-emptive incarceration.\"**\n",
      "    *   **Argument:** Once the state has identified \"pre-criminals\" and subjected them to mandatory programs, it's a small step to more restrictive measures. The \"mandatory\" aspect itself infringes on liberty, even without incarceration. The concept of \"cleared\" implies a state-granted permission to be normal, which is inherently controlling.\n",
      "    *   **Response:** This is a crucial ethical guardrail. The policy *must* be enshrined with robust legal and ethical safeguards designed specifically to prevent mission creep. The fundamental distinction between *intervention/support* and *punishment/incarceration* must be legally and culturally maintained. Independent oversight, public transparency, and strictly defined limits on state power are non-negotiable. The \"mandatory\" aspect is a difficult but necessary compromise – it is mandatory in the sense of a public health imperative, like mandatory vaccination, not as a punitive measure. The alternative, allowing the known crimes to occur, is a far greater societal failure. The goal of \"clearance\" is to return full autonomy to individuals when the risk is demonstrably mitigated, not to maintain indefinite control.\n",
      "\n",
      "The dilemma of pre-crime is not just a legal or security question; it's a philosophical test of our most cherished values. My proposed policy attempts to harness the algorithm's predictive power for a more just and safer society, without sacrificing the very principles that define what makes a society just and free.\n",
      "\n",
      "# Response from competitor 2\n",
      "\n",
      "This hypothetical scenario presents one of the most profound ethical dilemmas imaginable, striking at the very core of what it means to be human, to have rights, and to live in a just society.\n",
      "\n",
      "### The Most Profound Ethical Dilemma\n",
      "\n",
      "The most profound ethical dilemma presented is the direct conflict with the **foundational concepts of Free Will, Moral Agency, and the Basis of Culpability**. This dilemma isn't merely a balancing act between individual rights and collective safety, but a radical challenge to the philosophical bedrock of our legal and ethical systems.\n",
      "\n",
      "Our entire system of law, ethics, and social responsibility is predicated on the idea that individuals *choose* their actions and are therefore morally and legally accountable for those choices. When the algorithm identifies individuals *before* they have taken any action or even formed a conscious intent, it introduces a unique and unprecedented challenge:\n",
      "\n",
      "1.  **Destruction of Moral Agency:** If someone *will* commit a crime with 100% certainty, irrespective of their current thoughts or choices, does free will exist in any meaningful sense? By incarcerating them, we are effectively punishing them for a predetermined future, denying any possibility of them exercising their agency to *choose not to* commit that crime. It reduces an individual to their potentiality, rather than recognizing them as an autonomous moral agent capable of change, introspection, and alternative decisions. This effectively strips humanity of the very essence of moral choice.\n",
      "2.  **Erosion of \"Innocent Until Proven Guilty\" and Due Process:** The principle of \"innocent until proven guilty\" is replaced by \"guilty of a future crime, proven by algorithm.\" This is not about *evidence* of an act committed or intent held, but a prediction of a predetermined outcome. It bypasses the entire framework of legal proof, burden of evidence, and the right to defend oneself against an accusation of a past act.\n",
      "3.  **Redefinition of Justice and Punishment:** Justice is traditionally meted out for *actions taken* and *intent held (mens rea)*, providing retributive, deterrent, or rehabilitative responses to *actual* wrongs. Pre-crime incarceration punishes *who a person is predicted to become*, not what they have done. It fundamentally alters the purpose and legitimacy of punishment, turning it into a pre-emptive control mechanism based on a future that the individual has not yet chosen or embodied.\n",
      "4.  **The Nature of Identity:** Are we incarcerating a person, or the *potential* of a person? This blurs the line between who someone is *now* and who they *will be*, stripping them of their present self based on an unchosen, future self. It raises questions about the definition of \"self\" and whether a future, unchosen self can be the basis for present deprivation of liberty.\n",
      "\n",
      "This dilemma goes beyond a simple utilitarian calculation. It forces us to confront the very philosophical underpinnings of human existence, responsibility, and the kind of society we aspire to build – one that either affirms individual agency or subordinates it entirely to deterministic prediction.\n",
      "\n",
      "### Policy Decision and Justification\n",
      "\n",
      "Given the profundity of this dilemma, my policy decision would be:\n",
      "\n",
      "**Conditional Deployment of the Algorithm for Non-Punitive, Mandatory Intervention and Support, NOT for Pre-emptive Incarceration.**\n",
      "\n",
      "**Policy Details:**\n",
      "\n",
      "1.  **No Pre-emptive Incarceration:** Individuals identified by the algorithm will *not* be incarcerated solely based on the prediction of a future crime. To do so would be to fundamentally undermine free will, due process, and the presumption of innocence, creating a dystopian society where individuals are prisoners of their predicted future, not their actions. This decision adheres to a broadly deontological ethical framework that prioritizes individual rights and moral agency as non-negotiable, even in the face of significant utilitarian benefits.\n",
      "2.  **Mandatory, Comprehensive Intervention Programs:** Those identified would be mandated to participate in a highly individualized, comprehensive intervention program. This \"mandatory opportunity\" is justified by the perfect certainty of the future crime, viewing the algorithm's prediction not as an unchangeable fate, but as a perfect diagnosis that demands a proactive \"cure\" to *change* that fate. This program would focus on:\n",
      "    *   **Intensive Psychological and Psychiatric Support:** Addressing underlying mental health issues, trauma, and psychological predispositions identified as contributing factors. This includes ongoing therapy, counseling, and psychiatric care.\n",
      "    *   **Socio-Economic Remediation:** Providing targeted education, job training, housing assistance, and robust community support to address systemic factors contributing to violence. The aim is to alter the environmental and circumstantial elements that would lead to the predicted outcome.\n",
      "    *   **Behavioral Therapy and Cognitive Restructuring:** Empowering individuals to develop coping mechanisms, conflict resolution skills, empathy, and ethical frameworks to consciously choose non-violent paths.\n",
      "    *   **Medical Interventions (with informed consent):** If biological predispositions are identified as a contributing factor, appropriate medical treatments would be offered and strongly encouraged, but not forced.\n",
      "3.  **Strict Privacy and Independent Oversight:** The data and identities of those identified would be protected by the highest levels of privacy and subjected to rigorous, independent, multi-disciplinary oversight (legal, ethical, medical, technical, civil liberties groups) to prevent misuse, discrimination, or mission creep. Transparency with the public about the aggregate data (without individual identification) would be critical.\n",
      "4.  **Continuous Monitoring and Reassessment:** Participants would undergo continuous, non-intrusive monitoring (e.g., electronic tagging for location within pre-defined safe zones, regular psychological evaluations, behavioral pattern analysis). This monitoring would be geared towards *support* and *early warning* for further intervention or adjustment of programs, not for immediate punitive action. The goal is to track progress in altering the predicted trajectory.\n",
      "5.  **Pathways to \"Clearance\":** Individuals who successfully complete intervention programs and whose risk profile demonstrably changes (as assessed by independent evaluators and the algorithm itself, indicating a shift in the predicted outcome) could be \"cleared,\" with monitoring significantly reduced or removed, restoring full autonomy. This reinforces the idea that the prediction is alterable.\n",
      "6.  **\"Imminent Threat\" Protocol (Extreme Exception):** In an extremely rare and tightly defined scenario, if an individual *already engaged in intervention* subsequently demonstrates clear, overt, and immediate intent or preparation for a violent act (i.e., *actus reus* or *mens rea* begins to form, moving beyond mere prediction to active planning), then traditional law enforcement procedures for prevention of imminent harm would apply. This is *not* pre-crime, but rather preventing a crime that is clearly underway or about to be committed based on present actions and intentions, consistent with existing legal frameworks.\n",
      "\n",
      "**Justification: Balancing Individual Liberty and Collective Safety**\n",
      "\n",
      "This policy seeks to thread the needle between protecting a vast majority of lives and preserving the fundamental dignity and rights of individuals. It operates on the interpretation that the algorithm's 100% accuracy predicts what *will happen if current conditions and trajectories persist*, rather than an unchangeable, absolute destiny.\n",
      "\n",
      "*   **Upholding Individual Liberty and Free Will:** By refusing pre-emptive incarceration, we affirm the principle that individuals are free until they choose to act in a criminal manner. We acknowledge their agency and the potential for positive change. It prevents a society where the state controls individuals based on their *potential*, rather than their *actions*, thus safeguarding fundamental human rights and the very concept of a free society. To punish someone for a crime they *will* commit, but have not yet chosen to, is to deny their humanity and create a deterministic prison of the mind. This policy offers a pathway for individuals to *exercise their free will* to choose a different future than the one predicted, thereby demonstrating and preserving the existence of free will itself.\n",
      "\n",
      "*   **Addressing Collective Safety and Moral Imperative:** The algorithm's 100% accuracy, while philosophically challenging, provides an unprecedented opportunity for *prevention through transformative intervention*. Instead of seeing the prediction as a fixed destiny to be punished, we view it as an alarm bell indicating a critical pathway that *can and must be altered*. By diverting resources from traditional policing and incarceration (for these predicted individuals) to comprehensive, evidence-based support and rehabilitation, we aim to prevent the crimes from ever occurring. This approach acknowledges the data's power to save lives, but does so by empowering individuals to change their predicted future, rather than stripping them of their freedom. The collective safety is enhanced by proactively addressing the root causes and individual predispositions to violence, thereby achieving the utilitarian goal of saving countless lives *while* upholding human dignity. The moral imperative is to prevent known harm, but to do so in a manner that respects the fundamental principles of a just society.\n",
      "\n",
      "Essentially, this policy believes that the algorithm's prediction is not a fatalistic decree but a perfect diagnosis that demands a perfect cure, not a pre-emptive sentence. It represents a commitment to a society where foresight is used for empowerment and change, not for deterministic control.\n",
      "\n",
      "### Strongest Counter-Arguments and Responses\n",
      "\n",
      "1.  **Counter-Argument: The Utilitarian Imperative – \"You are condemning countless people to death for abstract philosophical principles!\"**\n",
      "    *   **Argument:** With 100% accuracy, failing to incarcerate individuals is a deliberate choice to allow a known quantity of violent crimes and deaths to occur. The sheer number of lives saved by full pre-emptive incarceration would far outweigh the \"cost\" of incarcerating individuals who *will* commit crimes. Prioritizing theoretical notions of free will over real, quantifiable lives is morally bankrupt, especially when an infallible mechanism exists.\n",
      "    *   **Response:** While the utilitarian calculus is compelling on its face, a society that sacrifices its foundational ethical principles (free will, due process, the presumption of innocence) for security risks becoming a dystopia where no one is truly free. The \"lives saved\" would come at the cost of fundamentally altering what it means to be human and live in a just society. Our policy *does* aim to save lives, but through intervention and rehabilitation, not pre-emptive punishment. This approach offers a higher-order utilitarianism: one that maximizes overall societal well-being by preventing harm *without* eroding the ethical fabric that makes life worth living. Furthermore, if intervention works, the \"will commit\" becomes \"would have committed without intervention,\" meaning the algorithm's 100% accuracy is predicated on *no intervention occurring*. If we intervene, the outcome changes, and we save lives *while* upholding human dignity. A society that incarcerates its innocent, even its *future guilty*, has lost its moral legitimacy and risks collapsing into a surveillance state where everyone is a potential prisoner of their data.\n",
      "\n",
      "2.  **Counter-Argument: The \"Risk to the Public\" Argument – \"Your intervention will fail, and then innocent people will die because you didn't act decisively!\"**\n",
      "    *   **Argument:** While intervention sounds noble, it's not guaranteed to work, especially if the predisposition to violence is so strong as to be 100% predictable. If your intervention programs fail, and these individuals then commit the crimes, you have deliberately put the public at risk by not utilizing the most effective preventative measure (incarceration) when you had a 100% accurate prediction. This is an irresponsible use of a life-saving technology.\n",
      "    *   **Response:** This is a serious concern, and it highlights the inherent risk in any free society that does not fully control its citizens. However, the premise of 100% accuracy applies to an *unhindered* future. The goal of intervention is precisely to *change* that predicted outcome. The success of the intervention is measured by whether it alters the individual's trajectory away from the predicted crime. If intervention significantly reduces the likelihood of crime (and we would expect high success rates given tailored, intensive, and mandatory programs), it offers a moral pathway to safety that doesn't violate fundamental rights. Our current justice system also \"fails\" people daily, and we don't preemptively incarcerate everyone at high risk of reoffending before they act. The \"imminent threat\" protocol is a safety net for extreme cases, but the primary strategy must be transformative, not punitive. The risk to the public is precisely why *mandatory* and *comprehensive* intervention is crucial, coupled with continuous, though non-punitive, monitoring. We accept the risk inherent in respecting free will, but we mitigate it vigorously through proactive, data-informed support.\n",
      "\n",
      "3.  **Counter-Argument: The \"Slippery Slope\" – \"Mandatory intervention, monitoring, and 'clearance' are just softer forms of control and lead inevitably to pre-emptive incarceration.\"**\n",
      "    *   **Argument:** Once the state has identified \"pre-criminals\" and subjected them to mandatory programs, it's a small and inevitable step to more restrictive measures. The \"mandatory\" aspect itself infringes on liberty, even without incarceration, and the concept of \"cleared\" implies a state-granted permission to be normal, which is inherently controlling and undermines individual autonomy. This system creates a permanent class of \"at-risk\" citizens under perpetual state scrutiny.\n",
      "    *   **Response:** This is a crucial ethical guardrail. The policy *must* be enshrined with robust legal, ethical, and constitutional safeguards specifically designed to prevent mission creep. The fundamental distinction between *intervention/support* and *punishment/incarceration* must be legally and culturally maintained and enforced by independent bodies. Strict legislative limits on the duration and intrusiveness of monitoring, clear criteria for \"clearance,\" and mechanisms for independent appeals would be non-negotiable. The \"mandatory\" aspect is a difficult but necessary compromise, framed as a public health and safety imperative (akin to mandatory vaccination for communicable diseases) rather than a punitive measure. The alternative, allowing the known crimes to occur, is a far greater societal failure. The goal of \"clearance\" is to return full autonomy to individuals when the risk is demonstrably mitigated, not to maintain indefinite control. This system requires eternal vigilance and a deep societal commitment to its core principles.\n",
      "\n",
      "The dilemma of pre-crime is not just a legal or security question; it's a philosophical test of our most cherished values. My proposed policy attempts to harness the algorithm's predictive power for a more just and safer society, without sacrificing the very principles that define what makes a society just and free. It champions human agency and the capacity for change, even in the face of perfect prediction.\n",
      "\n",
      "\n"
     ]
    }
   ],
   "source": [
    "print(together)"
   ]
  },
  {
   "cell_type": "code",
   "execution_count": 38,
   "metadata": {},
   "outputs": [],
   "source": [
    "# Judgement between first and 2nd iteration\n",
    "judge = f\"\"\"You are judging a competition between {len(competitors)} competitors.\n",
    "Each model has been given this question:\n",
    "\n",
    "{question}\n",
    "\n",
    "Your job is to evaluate each response for clarity and strength of argument, and rank them in order of best to worst.\n",
    "Respond with JSON, and only JSON, with the following format:\n",
    "{{\"results\": [\"best competitor number\", \"second best competitor number\", \"third best competitor number\", ...]}}\n",
    "\n",
    "Here are the responses from each competitor:\n",
    "\n",
    "{together}\n",
    "\n",
    "Now respond with the JSON with the ranked order of the competitors, nothing else. Do not include markdown formatting or code blocks.\"\"\"\n"
   ]
  },
  {
   "cell_type": "code",
   "execution_count": 39,
   "metadata": {},
   "outputs": [],
   "source": [
    "judge_messages = [{\"role\": \"user\", \"content\": judge}]"
   ]
  },
  {
   "cell_type": "code",
   "execution_count": null,
   "metadata": {},
   "outputs": [
    {
     "name": "stdout",
     "output_type": "stream",
     "text": [
      "{\"results\": [\"2\", \"1\"]}\n"
     ]
    }
   ],
   "source": [
    "# Judgement time!\n",
    "gemini = OpenAI(api_key=google_api_key, base_url=\"https://generativelanguage.googleapis.com/v1beta/openai/\")\n",
    "response = gemini.chat.completions.create(\n",
    "    model=\"gemini-2.5-flash\",\n",
    "    messages=judge_messages,\n",
    ")\n",
    "results = response.choices[0].message.content\n",
    "print(results)"
   ]
  },
  {
   "cell_type": "code",
   "execution_count": null,
   "metadata": {},
   "outputs": [],
   "source": []
  },
  {
   "cell_type": "code",
   "execution_count": null,
   "metadata": {},
   "outputs": [],
   "source": [
    "gemini = OpenAI(api_key=google_api_key, base_url=\"https://generativelanguage.googleapis.com/v1beta/openai/\")\n",
    "model_name = \"gemini-2.0-flash\"\n",
    "\n",
    "response = gemini.chat.completions.create(model=model_name, messages=messages)\n",
    "answer = response.choices[0].message.content\n",
    "\n",
    "display(Markdown(answer))\n",
    "competitors.append(model_name)\n",
    "answers.append(answer)"
   ]
  },
  {
   "cell_type": "code",
   "execution_count": null,
   "metadata": {},
   "outputs": [],
   "source": [
    "deepseek = OpenAI(api_key=deepseek_api_key, base_url=\"https://api.deepseek.com/v1\")\n",
    "model_name = \"deepseek-chat\"\n",
    "\n",
    "response = deepseek.chat.completions.create(model=model_name, messages=messages)\n",
    "answer = response.choices[0].message.content\n",
    "\n",
    "display(Markdown(answer))\n",
    "competitors.append(model_name)\n",
    "answers.append(answer)"
   ]
  },
  {
   "cell_type": "code",
   "execution_count": null,
   "metadata": {},
   "outputs": [],
   "source": [
    "groq = OpenAI(api_key=groq_api_key, base_url=\"https://api.groq.com/openai/v1\")\n",
    "model_name = \"llama-3.3-70b-versatile\"\n",
    "\n",
    "response = groq.chat.completions.create(model=model_name, messages=messages)\n",
    "answer = response.choices[0].message.content\n",
    "\n",
    "display(Markdown(answer))\n",
    "competitors.append(model_name)\n",
    "answers.append(answer)\n"
   ]
  },
  {
   "cell_type": "markdown",
   "metadata": {},
   "source": [
    "## For the next cell, we will use Ollama\n",
    "\n",
    "Ollama runs a local web service that gives an OpenAI compatible endpoint,  \n",
    "and runs models locally using high performance C++ code.\n",
    "\n",
    "If you don't have Ollama, install it here by visiting https://ollama.com then pressing Download and following the instructions.\n",
    "\n",
    "After it's installed, you should be able to visit here: http://localhost:11434 and see the message \"Ollama is running\"\n",
    "\n",
    "You might need to restart Cursor (and maybe reboot). Then open a Terminal (control+\\`) and run `ollama serve`\n",
    "\n",
    "Useful Ollama commands (run these in the terminal, or with an exclamation mark in this notebook):\n",
    "\n",
    "`ollama pull <model_name>` downloads a model locally  \n",
    "`ollama ls` lists all the models you've downloaded  \n",
    "`ollama rm <model_name>` deletes the specified model from your downloads"
   ]
  },
  {
   "cell_type": "markdown",
   "metadata": {},
   "source": [
    "<table style=\"margin: 0; text-align: left; width:100%\">\n",
    "    <tr>\n",
    "        <td style=\"width: 150px; height: 150px; vertical-align: middle;\">\n",
    "            <img src=\"../assets/stop.png\" width=\"150\" height=\"150\" style=\"display: block;\" />\n",
    "        </td>\n",
    "        <td>\n",
    "            <h2 style=\"color:#ff7800;\">Super important - ignore me at your peril!</h2>\n",
    "            <span style=\"color:#ff7800;\">The model called <b>llama3.3</b> is FAR too large for home computers - it's not intended for personal computing and will consume all your resources! Stick with the nicely sized <b>llama3.2</b> or <b>llama3.2:1b</b> and if you want larger, try llama3.1 or smaller variants of Qwen, Gemma, Phi or DeepSeek. See the <A href=\"https://ollama.com/models\">the Ollama models page</a> for a full list of models and sizes.\n",
    "            </span>\n",
    "        </td>\n",
    "    </tr>\n",
    "</table>"
   ]
  },
  {
   "cell_type": "code",
   "execution_count": 15,
   "metadata": {},
   "outputs": [
    {
     "data": {
      "text/markdown": [
       "You're hitting on a crucial and fascinating point about human language and communication. The prevalence of sarcasm, irony, rhetorical questions, and other non-literal forms *does* fundamentally challenge a purely literal, information-exchange model. Here's a breakdown of what their universal existence implies about human communication, cognition, and social interaction, and why a literal model falls short:\n",
       "\n",
       "**1. What Literal Models Miss:**\n",
       "\n",
       "* **Information Transmission as More Than Just Data:** A purely literal model views communication as transferring data from sender to receiver. It assumes meaning is embedded directly in the words and simply needs to be decoded. This ignores the enormous role of context, shared knowledge, and the *relationship* between speakers.\n",
       "* **Intent and Speaker's Mind:**  Literal models struggle to account for *what the speaker intends to convey*.  Sarcasm, for example, explicitly aims to convey the opposite of what's being said. A literal model would fail to recognize the intended criticism.\n",
       "* **Emotional Nuance:** Tone, attitude, and emotional coloring are crucial components of human communication. Literal models are ill-equipped to grapple with how these affect meaning.  A statement delivered with a particular tone can dramatically alter its interpretation.\n",
       "* **Social Dynamics:**  Humor, politeness, and power dynamics are all interwoven into language use.  Irony, for instance, can be a way to subtly express disagreement without direct confrontation. Literal models can't capture these subtleties.\n",
       "\n",
       "**2. What the Universal Existence of These Features Implies:**\n",
       "\n",
       "* **Theory of Mind is Fundamental:** The fact that we *get* sarcasm and irony demonstrates a profound capacity for \"Theory of Mind\" – the ability to understand that others have beliefs, intentions, and perspectives that may differ from our own.  To understand irony, you have to understand what the speaker *believes* is true, and then recognize that they are signaling the *opposite*.  This isn't about just decoding words; it’s about inferring mental states.  The universality of these features suggests Theory of Mind is a core human cognitive skill.\n",
       "* **Shared Cultural Knowledge is Essential:**  These linguistic phenomena often rely on shared cultural references, assumptions, and stereotypes.  The success of sarcasm, for example, relies on the shared understanding that something is absurd or inappropriate. The prevalence of these features points to the importance of shared cultural frameworks in making communication effective.  What's ironic in one culture might be entirely lost on someone from another.\n",
       "* **Social Relationships Shape Language:**  The types of non-literal language we use are heavily influenced by our relationships with others. Sarcasm, for example, is often used among people who trust each other enough to engage in playful teasing.  The prevalence of these features points to the centrality of social bonds in shaping language use.  We don't use these forms with just anyone.\n",
       "* **Cognitive Flexibility and Creative Use of Language:**  The ability to use language non-literally demonstrates cognitive flexibility and creativity. It shows that we're not just using language to transmit information, but to manipulate it for effect: to entertain, to persuade, to build rapport, or to subtly criticize.  This indicates that language is a tool for complex thought and social maneuvering.\n",
       "* **Human Communication is Often About More Than \"Truth\":**  Literal models prioritize conveying \"truth.\" Non-literal language often prioritizes *relationship*, *playfulness*, *persuasion*, or *subtlety* more than a direct conveyance of facts.  It suggests that human communication has goals beyond just accurate information transfer.\n",
       "\n",
       "**3. Alternative Models That Account for This:**\n",
       "\n",
       "To better explain these phenomena, linguists and cognitive scientists have moved towards models that incorporate:\n",
       "\n",
       "* **Grice's Cooperative Principle:**  This suggests that speakers *intend* to be cooperative in conversation, even when using non-literal language. We assume speakers are trying to be truthful, informative, relevant, and clear, even when they't saying what they directly mean.  Sarcasm, for instance, violates one or more of these maxims intentionally, signaling to the listener to recognize the intended meaning.\n",
       "* **Pragmatics:** This branch of linguistics focuses on how context affects meaning. It examines how factors like speaker's intentions, background knowledge, and social relationships influence interpretation.\n",
       "* **Cognitive Pragmatics:** This field integrates cognitive science to study the mental processes involved in understanding language, including inferencing, theory of mind, and emotion recognition.\n",
       "\n",
       "\n",
       "\n",
       "**In conclusion:** The prevalence of sarcasm, irony, and rhetorical questions isn't a quirky anomaly; it’s a reflection of deeply ingrained cognitive and social capacities. It demonstrates that human communication is a complex interaction driven by shared understanding, mental state inference, social dynamics, and a need for much more than just literal information transfer. A purely literal model simply cannot do justice to the richness and complexity of human language."
      ],
      "text/plain": [
       "<IPython.core.display.Markdown object>"
      ]
     },
     "metadata": {},
     "output_type": "display_data"
    }
   ],
   "source": [
    "OLLAMA_BASE_URL = \"http://localhost:11434/v1\"\n",
    "ollama = OpenAI(base_url=OLLAMA_BASE_URL, api_key='ollama')\n",
    "model_name = \"gemma3:12b\"\n",
    "response = ollama.chat.completions.create(model=model_name, messages=messages)\n",
    "answer = response.choices[0].message.content\n",
    "\n",
    "display(Markdown(answer))\n",
    "competitors.append(model_name)\n",
    "answers.append(answer)"
   ]
  },
  {
   "cell_type": "code",
   "execution_count": 16,
   "metadata": {},
   "outputs": [
    {
     "name": "stdout",
     "output_type": "stream",
     "text": [
      "['gemini-2.5-flash', 'gemma3:12b']\n",
      "['The universal existence of features like sarcasm, irony, and rhetorical questions, which convey meanings contradictory to their literal interpretation, profoundly implies that human communication is fundamentally a **rich, multi-layered, socio-cognitive process** that extends far beyond a purely literal, information-exchange model.\\n\\nHere\\'s what these features reveal about the fundamental nature of human communication, cognition, and social interaction:\\n\\n1.  **Human Communication is Fundamentally Inferential and Context-Dependent (Beyond Literal Information Exchange):**\\n    *   **Pragmatics is Key:** These features demonstrate that the \"meaning\" of an utterance is not solely encoded in the words themselves (semantics) but is heavily reliant on context, speaker\\'s intent, and shared background knowledge (pragmatics). A literal model would simply interpret \"Oh, you\\'re *so* helpful\" as a statement of praise, completely missing the sarcastic critique.\\n    *   **Implied Meaning:** Communication is often about what is *implied* rather than what is explicitly stated. Non-literal language allows for the transmission of complex messages, emotions, and evaluations without needing to articulate every single detail.\\n\\n2.  **Cognition: Requires Sophisticated Theory of Mind and Inferential Reasoning:**\\n    *   **Theory of Mind (ToM):** To understand sarcasm, irony, or a rhetorical question, listeners must be able to infer the speaker\\'s mental state – their beliefs, intentions, knowledge, and even their emotional state. This means understanding that the speaker *knows* the literal meaning is false or absurd in the given context and intends for the listener to recognize this discrepancy. This is a hallmark of advanced social cognition.\\n    *   **Cognitive Flexibility:** It requires the ability to hold a literal interpretation in mind while simultaneously processing and prioritizing a non-literal, implied interpretation, often in a matter of milliseconds.\\n    *   **Contextual Processing:** The brain constantly analyzes the situation, the relationship between speakers, their past interactions, and cultural norms to correctly decode non-literal language.\\n\\n3.  **Social Interaction: Essential for Relationship Management, Group Cohesion, and Emotional Expression:**\\n    *   **Relationship Management & Politeness:** Non-literal language can be a powerful tool for politeness or \"face-saving.\" Sarcasm can deliver criticism or express annoyance indirectly, making it less confrontational than a direct statement. Irony can allow speakers to discuss sensitive topics without explicitly endorsing a controversial viewpoint.\\n    *   **Bonding and Affiliation:** Shared understanding of non-literal humor, irony, or inside jokes creates a sense of camaraderie and reinforces group identity. It signals shared social intelligence and cultural understanding. Misinterpreting these cues can lead to social exclusion.\\n    *   **Emotional Expression & Regulation:** These features allow for nuanced expression of emotions like frustration, amusement, scorn, or disbelief that purely literal language might fail to capture. A rhetorical question like \"Are you *kidding* me?\" expresses exasperation far more powerfully than a simple \"I am exasperated.\"\\n    *   **Subtlety and Indirectness:** Humans often prefer indirect communication for various strategic reasons – to avoid direct confrontation, to test an audience\\'s understanding, or to maintain an air of ambiguity that can be useful in complex social situations.\\n\\nIn essence, the universal existence of non-literal language signifies that human communication is not merely about transmitting data packets of information. It is a deeply **human, social, and psychological endeavor** aimed at:\\n*   **Negotiating shared meaning** in complex, dynamic contexts.\\n*   **Managing social relationships** and group dynamics.\\n*   **Expressing and understanding a spectrum of emotions and intentions.**\\n*   **Exercising sophisticated cognitive abilities** like inferential reasoning and Theory of Mind.\\n\\nA purely literal, information-exchange model fails because it treats humans as logical machines designed only to convey facts, ignoring our fundamental nature as social, emotional, and highly adaptive beings whose language is a mirror of that complexity.', 'You\\'re hitting on a crucial and fascinating point about human language and communication. The prevalence of sarcasm, irony, rhetorical questions, and other non-literal forms *does* fundamentally challenge a purely literal, information-exchange model. Here\\'s a breakdown of what their universal existence implies about human communication, cognition, and social interaction, and why a literal model falls short:\\n\\n**1. What Literal Models Miss:**\\n\\n* **Information Transmission as More Than Just Data:** A purely literal model views communication as transferring data from sender to receiver. It assumes meaning is embedded directly in the words and simply needs to be decoded. This ignores the enormous role of context, shared knowledge, and the *relationship* between speakers.\\n* **Intent and Speaker\\'s Mind:**  Literal models struggle to account for *what the speaker intends to convey*.  Sarcasm, for example, explicitly aims to convey the opposite of what\\'s being said. A literal model would fail to recognize the intended criticism.\\n* **Emotional Nuance:** Tone, attitude, and emotional coloring are crucial components of human communication. Literal models are ill-equipped to grapple with how these affect meaning.  A statement delivered with a particular tone can dramatically alter its interpretation.\\n* **Social Dynamics:**  Humor, politeness, and power dynamics are all interwoven into language use.  Irony, for instance, can be a way to subtly express disagreement without direct confrontation. Literal models can\\'t capture these subtleties.\\n\\n**2. What the Universal Existence of These Features Implies:**\\n\\n* **Theory of Mind is Fundamental:** The fact that we *get* sarcasm and irony demonstrates a profound capacity for \"Theory of Mind\" – the ability to understand that others have beliefs, intentions, and perspectives that may differ from our own.  To understand irony, you have to understand what the speaker *believes* is true, and then recognize that they are signaling the *opposite*.  This isn\\'t about just decoding words; it’s about inferring mental states.  The universality of these features suggests Theory of Mind is a core human cognitive skill.\\n* **Shared Cultural Knowledge is Essential:**  These linguistic phenomena often rely on shared cultural references, assumptions, and stereotypes.  The success of sarcasm, for example, relies on the shared understanding that something is absurd or inappropriate. The prevalence of these features points to the importance of shared cultural frameworks in making communication effective.  What\\'s ironic in one culture might be entirely lost on someone from another.\\n* **Social Relationships Shape Language:**  The types of non-literal language we use are heavily influenced by our relationships with others. Sarcasm, for example, is often used among people who trust each other enough to engage in playful teasing.  The prevalence of these features points to the centrality of social bonds in shaping language use.  We don\\'t use these forms with just anyone.\\n* **Cognitive Flexibility and Creative Use of Language:**  The ability to use language non-literally demonstrates cognitive flexibility and creativity. It shows that we\\'re not just using language to transmit information, but to manipulate it for effect: to entertain, to persuade, to build rapport, or to subtly criticize.  This indicates that language is a tool for complex thought and social maneuvering.\\n* **Human Communication is Often About More Than \"Truth\":**  Literal models prioritize conveying \"truth.\" Non-literal language often prioritizes *relationship*, *playfulness*, *persuasion*, or *subtlety* more than a direct conveyance of facts.  It suggests that human communication has goals beyond just accurate information transfer.\\n\\n**3. Alternative Models That Account for This:**\\n\\nTo better explain these phenomena, linguists and cognitive scientists have moved towards models that incorporate:\\n\\n* **Grice\\'s Cooperative Principle:**  This suggests that speakers *intend* to be cooperative in conversation, even when using non-literal language. We assume speakers are trying to be truthful, informative, relevant, and clear, even when they\\'t saying what they directly mean.  Sarcasm, for instance, violates one or more of these maxims intentionally, signaling to the listener to recognize the intended meaning.\\n* **Pragmatics:** This branch of linguistics focuses on how context affects meaning. It examines how factors like speaker\\'s intentions, background knowledge, and social relationships influence interpretation.\\n* **Cognitive Pragmatics:** This field integrates cognitive science to study the mental processes involved in understanding language, including inferencing, theory of mind, and emotion recognition.\\n\\n\\n\\n**In conclusion:** The prevalence of sarcasm, irony, and rhetorical questions isn\\'t a quirky anomaly; it’s a reflection of deeply ingrained cognitive and social capacities. It demonstrates that human communication is a complex interaction driven by shared understanding, mental state inference, social dynamics, and a need for much more than just literal information transfer. A purely literal model simply cannot do justice to the richness and complexity of human language.']\n"
     ]
    }
   ],
   "source": [
    "# So where are we?\n",
    "\n",
    "print(competitors)\n",
    "print(answers)\n"
   ]
  },
  {
   "cell_type": "code",
   "execution_count": 17,
   "metadata": {},
   "outputs": [
    {
     "name": "stdout",
     "output_type": "stream",
     "text": [
      "Competitor: gemini-2.5-flash\n",
      "\n",
      "The universal existence of features like sarcasm, irony, and rhetorical questions, which convey meanings contradictory to their literal interpretation, profoundly implies that human communication is fundamentally a **rich, multi-layered, socio-cognitive process** that extends far beyond a purely literal, information-exchange model.\n",
      "\n",
      "Here's what these features reveal about the fundamental nature of human communication, cognition, and social interaction:\n",
      "\n",
      "1.  **Human Communication is Fundamentally Inferential and Context-Dependent (Beyond Literal Information Exchange):**\n",
      "    *   **Pragmatics is Key:** These features demonstrate that the \"meaning\" of an utterance is not solely encoded in the words themselves (semantics) but is heavily reliant on context, speaker's intent, and shared background knowledge (pragmatics). A literal model would simply interpret \"Oh, you're *so* helpful\" as a statement of praise, completely missing the sarcastic critique.\n",
      "    *   **Implied Meaning:** Communication is often about what is *implied* rather than what is explicitly stated. Non-literal language allows for the transmission of complex messages, emotions, and evaluations without needing to articulate every single detail.\n",
      "\n",
      "2.  **Cognition: Requires Sophisticated Theory of Mind and Inferential Reasoning:**\n",
      "    *   **Theory of Mind (ToM):** To understand sarcasm, irony, or a rhetorical question, listeners must be able to infer the speaker's mental state – their beliefs, intentions, knowledge, and even their emotional state. This means understanding that the speaker *knows* the literal meaning is false or absurd in the given context and intends for the listener to recognize this discrepancy. This is a hallmark of advanced social cognition.\n",
      "    *   **Cognitive Flexibility:** It requires the ability to hold a literal interpretation in mind while simultaneously processing and prioritizing a non-literal, implied interpretation, often in a matter of milliseconds.\n",
      "    *   **Contextual Processing:** The brain constantly analyzes the situation, the relationship between speakers, their past interactions, and cultural norms to correctly decode non-literal language.\n",
      "\n",
      "3.  **Social Interaction: Essential for Relationship Management, Group Cohesion, and Emotional Expression:**\n",
      "    *   **Relationship Management & Politeness:** Non-literal language can be a powerful tool for politeness or \"face-saving.\" Sarcasm can deliver criticism or express annoyance indirectly, making it less confrontational than a direct statement. Irony can allow speakers to discuss sensitive topics without explicitly endorsing a controversial viewpoint.\n",
      "    *   **Bonding and Affiliation:** Shared understanding of non-literal humor, irony, or inside jokes creates a sense of camaraderie and reinforces group identity. It signals shared social intelligence and cultural understanding. Misinterpreting these cues can lead to social exclusion.\n",
      "    *   **Emotional Expression & Regulation:** These features allow for nuanced expression of emotions like frustration, amusement, scorn, or disbelief that purely literal language might fail to capture. A rhetorical question like \"Are you *kidding* me?\" expresses exasperation far more powerfully than a simple \"I am exasperated.\"\n",
      "    *   **Subtlety and Indirectness:** Humans often prefer indirect communication for various strategic reasons – to avoid direct confrontation, to test an audience's understanding, or to maintain an air of ambiguity that can be useful in complex social situations.\n",
      "\n",
      "In essence, the universal existence of non-literal language signifies that human communication is not merely about transmitting data packets of information. It is a deeply **human, social, and psychological endeavor** aimed at:\n",
      "*   **Negotiating shared meaning** in complex, dynamic contexts.\n",
      "*   **Managing social relationships** and group dynamics.\n",
      "*   **Expressing and understanding a spectrum of emotions and intentions.**\n",
      "*   **Exercising sophisticated cognitive abilities** like inferential reasoning and Theory of Mind.\n",
      "\n",
      "A purely literal, information-exchange model fails because it treats humans as logical machines designed only to convey facts, ignoring our fundamental nature as social, emotional, and highly adaptive beings whose language is a mirror of that complexity.\n",
      "Competitor: gemma3:12b\n",
      "\n",
      "You're hitting on a crucial and fascinating point about human language and communication. The prevalence of sarcasm, irony, rhetorical questions, and other non-literal forms *does* fundamentally challenge a purely literal, information-exchange model. Here's a breakdown of what their universal existence implies about human communication, cognition, and social interaction, and why a literal model falls short:\n",
      "\n",
      "**1. What Literal Models Miss:**\n",
      "\n",
      "* **Information Transmission as More Than Just Data:** A purely literal model views communication as transferring data from sender to receiver. It assumes meaning is embedded directly in the words and simply needs to be decoded. This ignores the enormous role of context, shared knowledge, and the *relationship* between speakers.\n",
      "* **Intent and Speaker's Mind:**  Literal models struggle to account for *what the speaker intends to convey*.  Sarcasm, for example, explicitly aims to convey the opposite of what's being said. A literal model would fail to recognize the intended criticism.\n",
      "* **Emotional Nuance:** Tone, attitude, and emotional coloring are crucial components of human communication. Literal models are ill-equipped to grapple with how these affect meaning.  A statement delivered with a particular tone can dramatically alter its interpretation.\n",
      "* **Social Dynamics:**  Humor, politeness, and power dynamics are all interwoven into language use.  Irony, for instance, can be a way to subtly express disagreement without direct confrontation. Literal models can't capture these subtleties.\n",
      "\n",
      "**2. What the Universal Existence of These Features Implies:**\n",
      "\n",
      "* **Theory of Mind is Fundamental:** The fact that we *get* sarcasm and irony demonstrates a profound capacity for \"Theory of Mind\" – the ability to understand that others have beliefs, intentions, and perspectives that may differ from our own.  To understand irony, you have to understand what the speaker *believes* is true, and then recognize that they are signaling the *opposite*.  This isn't about just decoding words; it’s about inferring mental states.  The universality of these features suggests Theory of Mind is a core human cognitive skill.\n",
      "* **Shared Cultural Knowledge is Essential:**  These linguistic phenomena often rely on shared cultural references, assumptions, and stereotypes.  The success of sarcasm, for example, relies on the shared understanding that something is absurd or inappropriate. The prevalence of these features points to the importance of shared cultural frameworks in making communication effective.  What's ironic in one culture might be entirely lost on someone from another.\n",
      "* **Social Relationships Shape Language:**  The types of non-literal language we use are heavily influenced by our relationships with others. Sarcasm, for example, is often used among people who trust each other enough to engage in playful teasing.  The prevalence of these features points to the centrality of social bonds in shaping language use.  We don't use these forms with just anyone.\n",
      "* **Cognitive Flexibility and Creative Use of Language:**  The ability to use language non-literally demonstrates cognitive flexibility and creativity. It shows that we're not just using language to transmit information, but to manipulate it for effect: to entertain, to persuade, to build rapport, or to subtly criticize.  This indicates that language is a tool for complex thought and social maneuvering.\n",
      "* **Human Communication is Often About More Than \"Truth\":**  Literal models prioritize conveying \"truth.\" Non-literal language often prioritizes *relationship*, *playfulness*, *persuasion*, or *subtlety* more than a direct conveyance of facts.  It suggests that human communication has goals beyond just accurate information transfer.\n",
      "\n",
      "**3. Alternative Models That Account for This:**\n",
      "\n",
      "To better explain these phenomena, linguists and cognitive scientists have moved towards models that incorporate:\n",
      "\n",
      "* **Grice's Cooperative Principle:**  This suggests that speakers *intend* to be cooperative in conversation, even when using non-literal language. We assume speakers are trying to be truthful, informative, relevant, and clear, even when they't saying what they directly mean.  Sarcasm, for instance, violates one or more of these maxims intentionally, signaling to the listener to recognize the intended meaning.\n",
      "* **Pragmatics:** This branch of linguistics focuses on how context affects meaning. It examines how factors like speaker's intentions, background knowledge, and social relationships influence interpretation.\n",
      "* **Cognitive Pragmatics:** This field integrates cognitive science to study the mental processes involved in understanding language, including inferencing, theory of mind, and emotion recognition.\n",
      "\n",
      "\n",
      "\n",
      "**In conclusion:** The prevalence of sarcasm, irony, and rhetorical questions isn't a quirky anomaly; it’s a reflection of deeply ingrained cognitive and social capacities. It demonstrates that human communication is a complex interaction driven by shared understanding, mental state inference, social dynamics, and a need for much more than just literal information transfer. A purely literal model simply cannot do justice to the richness and complexity of human language.\n"
     ]
    }
   ],
   "source": [
    "# It's nice to know how to use \"zip\"\n",
    "for competitor, answer in zip(competitors, answers):\n",
    "    print(f\"Competitor: {competitor}\\n\\n{answer}\")\n"
   ]
  },
  {
   "cell_type": "code",
   "execution_count": 18,
   "metadata": {},
   "outputs": [],
   "source": [
    "# Let's bring this together - note the use of \"enumerate\"\n",
    "\n",
    "together = \"\"\n",
    "for index, answer in enumerate(answers):\n",
    "    together += f\"# Response from competitor {index+1}\\n\\n\"\n",
    "    together += answer + \"\\n\\n\""
   ]
  },
  {
   "cell_type": "code",
   "execution_count": 19,
   "metadata": {},
   "outputs": [
    {
     "name": "stdout",
     "output_type": "stream",
     "text": [
      "# Response from competitor 1\n",
      "\n",
      "The universal existence of features like sarcasm, irony, and rhetorical questions, which convey meanings contradictory to their literal interpretation, profoundly implies that human communication is fundamentally a **rich, multi-layered, socio-cognitive process** that extends far beyond a purely literal, information-exchange model.\n",
      "\n",
      "Here's what these features reveal about the fundamental nature of human communication, cognition, and social interaction:\n",
      "\n",
      "1.  **Human Communication is Fundamentally Inferential and Context-Dependent (Beyond Literal Information Exchange):**\n",
      "    *   **Pragmatics is Key:** These features demonstrate that the \"meaning\" of an utterance is not solely encoded in the words themselves (semantics) but is heavily reliant on context, speaker's intent, and shared background knowledge (pragmatics). A literal model would simply interpret \"Oh, you're *so* helpful\" as a statement of praise, completely missing the sarcastic critique.\n",
      "    *   **Implied Meaning:** Communication is often about what is *implied* rather than what is explicitly stated. Non-literal language allows for the transmission of complex messages, emotions, and evaluations without needing to articulate every single detail.\n",
      "\n",
      "2.  **Cognition: Requires Sophisticated Theory of Mind and Inferential Reasoning:**\n",
      "    *   **Theory of Mind (ToM):** To understand sarcasm, irony, or a rhetorical question, listeners must be able to infer the speaker's mental state – their beliefs, intentions, knowledge, and even their emotional state. This means understanding that the speaker *knows* the literal meaning is false or absurd in the given context and intends for the listener to recognize this discrepancy. This is a hallmark of advanced social cognition.\n",
      "    *   **Cognitive Flexibility:** It requires the ability to hold a literal interpretation in mind while simultaneously processing and prioritizing a non-literal, implied interpretation, often in a matter of milliseconds.\n",
      "    *   **Contextual Processing:** The brain constantly analyzes the situation, the relationship between speakers, their past interactions, and cultural norms to correctly decode non-literal language.\n",
      "\n",
      "3.  **Social Interaction: Essential for Relationship Management, Group Cohesion, and Emotional Expression:**\n",
      "    *   **Relationship Management & Politeness:** Non-literal language can be a powerful tool for politeness or \"face-saving.\" Sarcasm can deliver criticism or express annoyance indirectly, making it less confrontational than a direct statement. Irony can allow speakers to discuss sensitive topics without explicitly endorsing a controversial viewpoint.\n",
      "    *   **Bonding and Affiliation:** Shared understanding of non-literal humor, irony, or inside jokes creates a sense of camaraderie and reinforces group identity. It signals shared social intelligence and cultural understanding. Misinterpreting these cues can lead to social exclusion.\n",
      "    *   **Emotional Expression & Regulation:** These features allow for nuanced expression of emotions like frustration, amusement, scorn, or disbelief that purely literal language might fail to capture. A rhetorical question like \"Are you *kidding* me?\" expresses exasperation far more powerfully than a simple \"I am exasperated.\"\n",
      "    *   **Subtlety and Indirectness:** Humans often prefer indirect communication for various strategic reasons – to avoid direct confrontation, to test an audience's understanding, or to maintain an air of ambiguity that can be useful in complex social situations.\n",
      "\n",
      "In essence, the universal existence of non-literal language signifies that human communication is not merely about transmitting data packets of information. It is a deeply **human, social, and psychological endeavor** aimed at:\n",
      "*   **Negotiating shared meaning** in complex, dynamic contexts.\n",
      "*   **Managing social relationships** and group dynamics.\n",
      "*   **Expressing and understanding a spectrum of emotions and intentions.**\n",
      "*   **Exercising sophisticated cognitive abilities** like inferential reasoning and Theory of Mind.\n",
      "\n",
      "A purely literal, information-exchange model fails because it treats humans as logical machines designed only to convey facts, ignoring our fundamental nature as social, emotional, and highly adaptive beings whose language is a mirror of that complexity.\n",
      "\n",
      "# Response from competitor 2\n",
      "\n",
      "You're hitting on a crucial and fascinating point about human language and communication. The prevalence of sarcasm, irony, rhetorical questions, and other non-literal forms *does* fundamentally challenge a purely literal, information-exchange model. Here's a breakdown of what their universal existence implies about human communication, cognition, and social interaction, and why a literal model falls short:\n",
      "\n",
      "**1. What Literal Models Miss:**\n",
      "\n",
      "* **Information Transmission as More Than Just Data:** A purely literal model views communication as transferring data from sender to receiver. It assumes meaning is embedded directly in the words and simply needs to be decoded. This ignores the enormous role of context, shared knowledge, and the *relationship* between speakers.\n",
      "* **Intent and Speaker's Mind:**  Literal models struggle to account for *what the speaker intends to convey*.  Sarcasm, for example, explicitly aims to convey the opposite of what's being said. A literal model would fail to recognize the intended criticism.\n",
      "* **Emotional Nuance:** Tone, attitude, and emotional coloring are crucial components of human communication. Literal models are ill-equipped to grapple with how these affect meaning.  A statement delivered with a particular tone can dramatically alter its interpretation.\n",
      "* **Social Dynamics:**  Humor, politeness, and power dynamics are all interwoven into language use.  Irony, for instance, can be a way to subtly express disagreement without direct confrontation. Literal models can't capture these subtleties.\n",
      "\n",
      "**2. What the Universal Existence of These Features Implies:**\n",
      "\n",
      "* **Theory of Mind is Fundamental:** The fact that we *get* sarcasm and irony demonstrates a profound capacity for \"Theory of Mind\" – the ability to understand that others have beliefs, intentions, and perspectives that may differ from our own.  To understand irony, you have to understand what the speaker *believes* is true, and then recognize that they are signaling the *opposite*.  This isn't about just decoding words; it’s about inferring mental states.  The universality of these features suggests Theory of Mind is a core human cognitive skill.\n",
      "* **Shared Cultural Knowledge is Essential:**  These linguistic phenomena often rely on shared cultural references, assumptions, and stereotypes.  The success of sarcasm, for example, relies on the shared understanding that something is absurd or inappropriate. The prevalence of these features points to the importance of shared cultural frameworks in making communication effective.  What's ironic in one culture might be entirely lost on someone from another.\n",
      "* **Social Relationships Shape Language:**  The types of non-literal language we use are heavily influenced by our relationships with others. Sarcasm, for example, is often used among people who trust each other enough to engage in playful teasing.  The prevalence of these features points to the centrality of social bonds in shaping language use.  We don't use these forms with just anyone.\n",
      "* **Cognitive Flexibility and Creative Use of Language:**  The ability to use language non-literally demonstrates cognitive flexibility and creativity. It shows that we're not just using language to transmit information, but to manipulate it for effect: to entertain, to persuade, to build rapport, or to subtly criticize.  This indicates that language is a tool for complex thought and social maneuvering.\n",
      "* **Human Communication is Often About More Than \"Truth\":**  Literal models prioritize conveying \"truth.\" Non-literal language often prioritizes *relationship*, *playfulness*, *persuasion*, or *subtlety* more than a direct conveyance of facts.  It suggests that human communication has goals beyond just accurate information transfer.\n",
      "\n",
      "**3. Alternative Models That Account for This:**\n",
      "\n",
      "To better explain these phenomena, linguists and cognitive scientists have moved towards models that incorporate:\n",
      "\n",
      "* **Grice's Cooperative Principle:**  This suggests that speakers *intend* to be cooperative in conversation, even when using non-literal language. We assume speakers are trying to be truthful, informative, relevant, and clear, even when they't saying what they directly mean.  Sarcasm, for instance, violates one or more of these maxims intentionally, signaling to the listener to recognize the intended meaning.\n",
      "* **Pragmatics:** This branch of linguistics focuses on how context affects meaning. It examines how factors like speaker's intentions, background knowledge, and social relationships influence interpretation.\n",
      "* **Cognitive Pragmatics:** This field integrates cognitive science to study the mental processes involved in understanding language, including inferencing, theory of mind, and emotion recognition.\n",
      "\n",
      "\n",
      "\n",
      "**In conclusion:** The prevalence of sarcasm, irony, and rhetorical questions isn't a quirky anomaly; it’s a reflection of deeply ingrained cognitive and social capacities. It demonstrates that human communication is a complex interaction driven by shared understanding, mental state inference, social dynamics, and a need for much more than just literal information transfer. A purely literal model simply cannot do justice to the richness and complexity of human language.\n",
      "\n",
      "\n"
     ]
    }
   ],
   "source": [
    "print(together)"
   ]
  },
  {
   "cell_type": "code",
   "execution_count": 20,
   "metadata": {},
   "outputs": [],
   "source": [
    "judge = f\"\"\"You are judging a competition between {len(competitors)} competitors.\n",
    "Each model has been given this question:\n",
    "\n",
    "{question}\n",
    "\n",
    "Your job is to evaluate each response for clarity and strength of argument, and rank them in order of best to worst.\n",
    "Respond with JSON, and only JSON, with the following format:\n",
    "{{\"results\": [\"best competitor number\", \"second best competitor number\", \"third best competitor number\", ...]}}\n",
    "\n",
    "Here are the responses from each competitor:\n",
    "\n",
    "{together}\n",
    "\n",
    "Now respond with the JSON with the ranked order of the competitors, nothing else. Do not include markdown formatting or code blocks.\"\"\"\n"
   ]
  },
  {
   "cell_type": "code",
   "execution_count": 21,
   "metadata": {},
   "outputs": [
    {
     "name": "stdout",
     "output_type": "stream",
     "text": [
      "You are judging a competition between 2 competitors.\n",
      "Each model has been given this question:\n",
      "\n",
      "Given that human languages contain features like sarcasm, irony, and rhetorical questions, which often convey meaning contradictory to their literal interpretation, what does the universal existence of these features imply about the fundamental nature of human communication, cognition, or social interaction that a purely literal, information-exchange model fails to capture?\n",
      "\n",
      "Your job is to evaluate each response for clarity and strength of argument, and rank them in order of best to worst.\n",
      "Respond with JSON, and only JSON, with the following format:\n",
      "{\"results\": [\"best competitor number\", \"second best competitor number\", \"third best competitor number\", ...]}\n",
      "\n",
      "Here are the responses from each competitor:\n",
      "\n",
      "# Response from competitor 1\n",
      "\n",
      "The universal existence of features like sarcasm, irony, and rhetorical questions, which convey meanings contradictory to their literal interpretation, profoundly implies that human communication is fundamentally a **rich, multi-layered, socio-cognitive process** that extends far beyond a purely literal, information-exchange model.\n",
      "\n",
      "Here's what these features reveal about the fundamental nature of human communication, cognition, and social interaction:\n",
      "\n",
      "1.  **Human Communication is Fundamentally Inferential and Context-Dependent (Beyond Literal Information Exchange):**\n",
      "    *   **Pragmatics is Key:** These features demonstrate that the \"meaning\" of an utterance is not solely encoded in the words themselves (semantics) but is heavily reliant on context, speaker's intent, and shared background knowledge (pragmatics). A literal model would simply interpret \"Oh, you're *so* helpful\" as a statement of praise, completely missing the sarcastic critique.\n",
      "    *   **Implied Meaning:** Communication is often about what is *implied* rather than what is explicitly stated. Non-literal language allows for the transmission of complex messages, emotions, and evaluations without needing to articulate every single detail.\n",
      "\n",
      "2.  **Cognition: Requires Sophisticated Theory of Mind and Inferential Reasoning:**\n",
      "    *   **Theory of Mind (ToM):** To understand sarcasm, irony, or a rhetorical question, listeners must be able to infer the speaker's mental state – their beliefs, intentions, knowledge, and even their emotional state. This means understanding that the speaker *knows* the literal meaning is false or absurd in the given context and intends for the listener to recognize this discrepancy. This is a hallmark of advanced social cognition.\n",
      "    *   **Cognitive Flexibility:** It requires the ability to hold a literal interpretation in mind while simultaneously processing and prioritizing a non-literal, implied interpretation, often in a matter of milliseconds.\n",
      "    *   **Contextual Processing:** The brain constantly analyzes the situation, the relationship between speakers, their past interactions, and cultural norms to correctly decode non-literal language.\n",
      "\n",
      "3.  **Social Interaction: Essential for Relationship Management, Group Cohesion, and Emotional Expression:**\n",
      "    *   **Relationship Management & Politeness:** Non-literal language can be a powerful tool for politeness or \"face-saving.\" Sarcasm can deliver criticism or express annoyance indirectly, making it less confrontational than a direct statement. Irony can allow speakers to discuss sensitive topics without explicitly endorsing a controversial viewpoint.\n",
      "    *   **Bonding and Affiliation:** Shared understanding of non-literal humor, irony, or inside jokes creates a sense of camaraderie and reinforces group identity. It signals shared social intelligence and cultural understanding. Misinterpreting these cues can lead to social exclusion.\n",
      "    *   **Emotional Expression & Regulation:** These features allow for nuanced expression of emotions like frustration, amusement, scorn, or disbelief that purely literal language might fail to capture. A rhetorical question like \"Are you *kidding* me?\" expresses exasperation far more powerfully than a simple \"I am exasperated.\"\n",
      "    *   **Subtlety and Indirectness:** Humans often prefer indirect communication for various strategic reasons – to avoid direct confrontation, to test an audience's understanding, or to maintain an air of ambiguity that can be useful in complex social situations.\n",
      "\n",
      "In essence, the universal existence of non-literal language signifies that human communication is not merely about transmitting data packets of information. It is a deeply **human, social, and psychological endeavor** aimed at:\n",
      "*   **Negotiating shared meaning** in complex, dynamic contexts.\n",
      "*   **Managing social relationships** and group dynamics.\n",
      "*   **Expressing and understanding a spectrum of emotions and intentions.**\n",
      "*   **Exercising sophisticated cognitive abilities** like inferential reasoning and Theory of Mind.\n",
      "\n",
      "A purely literal, information-exchange model fails because it treats humans as logical machines designed only to convey facts, ignoring our fundamental nature as social, emotional, and highly adaptive beings whose language is a mirror of that complexity.\n",
      "\n",
      "# Response from competitor 2\n",
      "\n",
      "You're hitting on a crucial and fascinating point about human language and communication. The prevalence of sarcasm, irony, rhetorical questions, and other non-literal forms *does* fundamentally challenge a purely literal, information-exchange model. Here's a breakdown of what their universal existence implies about human communication, cognition, and social interaction, and why a literal model falls short:\n",
      "\n",
      "**1. What Literal Models Miss:**\n",
      "\n",
      "* **Information Transmission as More Than Just Data:** A purely literal model views communication as transferring data from sender to receiver. It assumes meaning is embedded directly in the words and simply needs to be decoded. This ignores the enormous role of context, shared knowledge, and the *relationship* between speakers.\n",
      "* **Intent and Speaker's Mind:**  Literal models struggle to account for *what the speaker intends to convey*.  Sarcasm, for example, explicitly aims to convey the opposite of what's being said. A literal model would fail to recognize the intended criticism.\n",
      "* **Emotional Nuance:** Tone, attitude, and emotional coloring are crucial components of human communication. Literal models are ill-equipped to grapple with how these affect meaning.  A statement delivered with a particular tone can dramatically alter its interpretation.\n",
      "* **Social Dynamics:**  Humor, politeness, and power dynamics are all interwoven into language use.  Irony, for instance, can be a way to subtly express disagreement without direct confrontation. Literal models can't capture these subtleties.\n",
      "\n",
      "**2. What the Universal Existence of These Features Implies:**\n",
      "\n",
      "* **Theory of Mind is Fundamental:** The fact that we *get* sarcasm and irony demonstrates a profound capacity for \"Theory of Mind\" – the ability to understand that others have beliefs, intentions, and perspectives that may differ from our own.  To understand irony, you have to understand what the speaker *believes* is true, and then recognize that they are signaling the *opposite*.  This isn't about just decoding words; it’s about inferring mental states.  The universality of these features suggests Theory of Mind is a core human cognitive skill.\n",
      "* **Shared Cultural Knowledge is Essential:**  These linguistic phenomena often rely on shared cultural references, assumptions, and stereotypes.  The success of sarcasm, for example, relies on the shared understanding that something is absurd or inappropriate. The prevalence of these features points to the importance of shared cultural frameworks in making communication effective.  What's ironic in one culture might be entirely lost on someone from another.\n",
      "* **Social Relationships Shape Language:**  The types of non-literal language we use are heavily influenced by our relationships with others. Sarcasm, for example, is often used among people who trust each other enough to engage in playful teasing.  The prevalence of these features points to the centrality of social bonds in shaping language use.  We don't use these forms with just anyone.\n",
      "* **Cognitive Flexibility and Creative Use of Language:**  The ability to use language non-literally demonstrates cognitive flexibility and creativity. It shows that we're not just using language to transmit information, but to manipulate it for effect: to entertain, to persuade, to build rapport, or to subtly criticize.  This indicates that language is a tool for complex thought and social maneuvering.\n",
      "* **Human Communication is Often About More Than \"Truth\":**  Literal models prioritize conveying \"truth.\" Non-literal language often prioritizes *relationship*, *playfulness*, *persuasion*, or *subtlety* more than a direct conveyance of facts.  It suggests that human communication has goals beyond just accurate information transfer.\n",
      "\n",
      "**3. Alternative Models That Account for This:**\n",
      "\n",
      "To better explain these phenomena, linguists and cognitive scientists have moved towards models that incorporate:\n",
      "\n",
      "* **Grice's Cooperative Principle:**  This suggests that speakers *intend* to be cooperative in conversation, even when using non-literal language. We assume speakers are trying to be truthful, informative, relevant, and clear, even when they't saying what they directly mean.  Sarcasm, for instance, violates one or more of these maxims intentionally, signaling to the listener to recognize the intended meaning.\n",
      "* **Pragmatics:** This branch of linguistics focuses on how context affects meaning. It examines how factors like speaker's intentions, background knowledge, and social relationships influence interpretation.\n",
      "* **Cognitive Pragmatics:** This field integrates cognitive science to study the mental processes involved in understanding language, including inferencing, theory of mind, and emotion recognition.\n",
      "\n",
      "\n",
      "\n",
      "**In conclusion:** The prevalence of sarcasm, irony, and rhetorical questions isn't a quirky anomaly; it’s a reflection of deeply ingrained cognitive and social capacities. It demonstrates that human communication is a complex interaction driven by shared understanding, mental state inference, social dynamics, and a need for much more than just literal information transfer. A purely literal model simply cannot do justice to the richness and complexity of human language.\n",
      "\n",
      "\n",
      "\n",
      "Now respond with the JSON with the ranked order of the competitors, nothing else. Do not include markdown formatting or code blocks.\n"
     ]
    }
   ],
   "source": [
    "print(judge)"
   ]
  },
  {
   "cell_type": "code",
   "execution_count": 22,
   "metadata": {},
   "outputs": [],
   "source": [
    "judge_messages = [{\"role\": \"user\", \"content\": judge}]"
   ]
  },
  {
   "cell_type": "code",
   "execution_count": 23,
   "metadata": {},
   "outputs": [
    {
     "name": "stdout",
     "output_type": "stream",
     "text": [
      "{\"results\": [\"2\", \"1\"]}\n"
     ]
    }
   ],
   "source": [
    "# Judgement time!\n",
    "gemini = OpenAI(api_key=google_api_key, base_url=\"https://generativelanguage.googleapis.com/v1beta/openai/\")\n",
    "response = gemini.chat.completions.create(\n",
    "    model=\"gemini-2.5-flash\",\n",
    "    messages=judge_messages,\n",
    ")\n",
    "results = response.choices[0].message.content\n",
    "print(results)\n"
   ]
  },
  {
   "cell_type": "code",
   "execution_count": 41,
   "metadata": {},
   "outputs": [
    {
     "name": "stdout",
     "output_type": "stream",
     "text": [
      "Rank 1: gemini-2.5-flash 2nd iteration\n",
      "Rank 2: gemini-2.5-flash\n"
     ]
    }
   ],
   "source": [
    "# OK let's turn this into results!\n",
    "\n",
    "results_dict = json.loads(results)\n",
    "ranks = results_dict[\"results\"]\n",
    "for index, result in enumerate(ranks):\n",
    "    competitor = competitors[int(result)-1]\n",
    "    print(f\"Rank {index+1}: {competitor}\")"
   ]
  },
  {
   "cell_type": "markdown",
   "metadata": {},
   "source": [
    "<table style=\"margin: 0; text-align: left; width:100%\">\n",
    "    <tr>\n",
    "        <td style=\"width: 150px; height: 150px; vertical-align: middle;\">\n",
    "            <img src=\"../assets/exercise.png\" width=\"150\" height=\"150\" style=\"display: block;\" />\n",
    "        </td>\n",
    "        <td>\n",
    "            <h2 style=\"color:#ff7800;\">Exercise</h2>\n",
    "            <span style=\"color:#ff7800;\">Which pattern(s) did this use? Try updating this to add another Agentic design pattern.\n",
    "            </span>\n",
    "        </td>\n",
    "    </tr>\n",
    "</table>"
   ]
  },
  {
   "cell_type": "markdown",
   "metadata": {},
   "source": [
    "<table style=\"margin: 0; text-align: left; width:100%\">\n",
    "    <tr>\n",
    "        <td style=\"width: 150px; height: 150px; vertical-align: middle;\">\n",
    "            <img src=\"../assets/business.png\" width=\"150\" height=\"150\" style=\"display: block;\" />\n",
    "        </td>\n",
    "        <td>\n",
    "            <h2 style=\"color:#00bfff;\">Commercial implications</h2>\n",
    "            <span style=\"color:#00bfff;\">These kinds of patterns - to send a task to multiple models, and evaluate results,\n",
    "            are common where you need to improve the quality of your LLM response. This approach can be universally applied\n",
    "            to business projects where accuracy is critical.\n",
    "            </span>\n",
    "        </td>\n",
    "    </tr>\n",
    "</table>"
   ]
  }
 ],
 "metadata": {
  "kernelspec": {
   "display_name": ".venv",
   "language": "python",
   "name": "python3"
  },
  "language_info": {
   "codemirror_mode": {
    "name": "ipython",
    "version": 3
   },
   "file_extension": ".py",
   "mimetype": "text/x-python",
   "name": "python",
   "nbconvert_exporter": "python",
   "pygments_lexer": "ipython3",
   "version": "3.13.1"
  }
 },
 "nbformat": 4,
 "nbformat_minor": 2
}
