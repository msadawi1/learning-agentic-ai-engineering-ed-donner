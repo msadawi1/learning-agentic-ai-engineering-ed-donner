{
 "cells": [
  {
   "cell_type": "markdown",
   "id": "f1485c3f",
   "metadata": {},
   "source": [
    "# LLM Workflow Design Patterns: Routing\n",
    "- \"Handoffs\" in Agents SDK follows the routing design pattern\n",
    "- This file is a project for applying design pattern: routing\n",
    "- Project idea:\n",
    "    - A router agent `RouterAgent` routes an e-commerce customer support messages to the appropriate customer support agent to handle the message\n",
    "    - Support Agents:\n",
    "        1. `DeliveryAgent`\n",
    "        2. `BillingAgent`\n",
    "        3. `TechAgent`\n",
    "    - If the `RouterAgent` receives a message that doesn't seem to be from the previous cases, send a notification via **pushover**\n",
    "\n",
    "``` python\n",
    "def main():\n",
    "    with open(\"./article.txt\", \"r\", encoding=\"utf-8\") as f:\n",
    "        article = f.read()\n",
    "    summary = summarize(article)\n",
    "    keywords = extract_keywords(summary)\n",
    "    quiz = generate_quiz(keywords=keywords, num_questions=5) # change here\n",
    "    display_quiz(quiz)\n",
    "```\n",
    "\n",
    "<br>\n",
    "\n",
    "![Prompt Chaining Diagram](../../assets/routing.png)"
   ]
  },
  {
   "cell_type": "markdown",
   "id": "307a1119",
   "metadata": {},
   "source": [
    "### Usual set up"
   ]
  },
  {
   "cell_type": "code",
   "execution_count": 187,
   "id": "d561ed33",
   "metadata": {},
   "outputs": [],
   "source": [
    "# imports\n",
    "\n",
    "import os\n",
    "import json\n",
    "import requests\n",
    "from dotenv import load_dotenv\n",
    "from agents import Agent, Runner, function_tool, OpenAIChatCompletionsModel, set_default_openai_client, set_tracing_disabled\n",
    "from openai import AsyncOpenAI\n"
   ]
  },
  {
   "cell_type": "code",
   "execution_count": 188,
   "id": "30b74c65",
   "metadata": {},
   "outputs": [
    {
     "name": "stdout",
     "output_type": "stream",
     "text": [
      "Model API key loaded successfully\n",
      "Gemini URL loaded successfully\n"
     ]
    }
   ],
   "source": [
    "# load environment variables\n",
    "load_dotenv(override=True)\n",
    "\n",
    "api_key = os.getenv(\"GOOGLE_API_KEY\")\n",
    "gemini_base_url = os.getenv(\"GOOGLE_API\")\n",
    "\n",
    "if api_key:\n",
    "    print(\"Model API key loaded successfully\")\n",
    "else:\n",
    "    print(\"Error: couldn't load API key\")\n",
    "if gemini_base_url:\n",
    "    print(\"Gemini URL loaded successfully\")\n",
    "else:\n",
    "    print(\"Error: couldn't load Gemini URL\")\n"
   ]
  },
  {
   "cell_type": "code",
   "execution_count": 189,
   "id": "e1776b89",
   "metadata": {},
   "outputs": [],
   "source": [
    "# create Gemini model\n",
    "model = \"gemini-2.5-flash\"\n",
    "\n",
    "gemini_client = AsyncOpenAI(base_url=gemini_base_url, api_key=api_key)\n",
    "set_default_openai_client(gemini_client)\n",
    "set_tracing_disabled(True)\n",
    "\n",
    "gemini_model = OpenAIChatCompletionsModel(model=model, openai_client=gemini_client)"
   ]
  },
  {
   "cell_type": "code",
   "execution_count": 190,
   "id": "9255bcfa",
   "metadata": {},
   "outputs": [
    {
     "name": "stdout",
     "output_type": "stream",
     "text": [
      "Pushover user found and starts with u\n",
      "Pushover token found and starts with a\n"
     ]
    }
   ],
   "source": [
    "# For pushover\n",
    "\n",
    "pushover_user = os.getenv(\"PUSHOVER_USER\")\n",
    "pushover_token = os.getenv(\"PUSHOVER_TOKEN\")\n",
    "pushover_url = \"https://api.pushover.net/1/messages.json\"\n",
    "\n",
    "if pushover_user:\n",
    "    print(f\"Pushover user found and starts with {pushover_user[0]}\")\n",
    "else:\n",
    "    print(\"Pushover user not found\")\n",
    "\n",
    "if pushover_token:\n",
    "    print(f\"Pushover token found and starts with {pushover_token[0]}\")\n",
    "else:\n",
    "    print(\"Pushover token not found\")"
   ]
  },
  {
   "cell_type": "code",
   "execution_count": 191,
   "id": "92ca795b",
   "metadata": {},
   "outputs": [],
   "source": [
    "def push(message):\n",
    "    print(f\"Push: {message}\")\n",
    "    payload = {\"user\": pushover_user, \"token\": pushover_token, \"message\": message}\n",
    "    requests.post(pushover_url, data=payload)"
   ]
  },
  {
   "cell_type": "code",
   "execution_count": null,
   "id": "c2baa862",
   "metadata": {},
   "outputs": [],
   "source": [
    "push(\"Test\")"
   ]
  },
  {
   "cell_type": "markdown",
   "id": "9c326a57",
   "metadata": {},
   "source": [
    "### Tools"
   ]
  },
  {
   "cell_type": "code",
   "execution_count": 192,
   "id": "8dfc2de9",
   "metadata": {},
   "outputs": [],
   "source": [
    "departments = [\"Delivery\", \"Billing\", \"Technical\"]"
   ]
  },
  {
   "cell_type": "code",
   "execution_count": 193,
   "id": "345b4830",
   "metadata": {},
   "outputs": [],
   "source": [
    "# send notification to phone if the customer has further questions that the agent doesn't know\n",
    "@function_tool\n",
    "def record_question(email: str, question=\"not provided\"):\n",
    "    \"\"\" Send out a notification with the customer's email and question \"\"\"\n",
    "    push(f\"A customer with the following email {email} has a question: {question}\")\n",
    "    return {\"status\": \"success\"}"
   ]
  },
  {
   "cell_type": "code",
   "execution_count": null,
   "id": "328132a7",
   "metadata": {},
   "outputs": [
    {
     "data": {
      "text/plain": [
       "FunctionTool(name='record_user_details', description=\"Send out a notification with the customer's email and question\", params_json_schema={'properties': {'email': {'title': 'Email', 'type': 'string'}, 'question': {'default': 'not provided', 'title': 'Question'}}, 'required': ['email', 'question'], 'title': 'record_user_details_args', 'type': 'object', 'additionalProperties': False}, on_invoke_tool=<function function_tool.<locals>._create_function_tool.<locals>._on_invoke_tool at 0x000001BD23F45760>, strict_json_schema=True, is_enabled=True)"
      ]
     },
     "execution_count": 91,
     "metadata": {},
     "output_type": "execute_result"
    }
   ],
   "source": [
    "record_question"
   ]
  },
  {
   "cell_type": "code",
   "execution_count": 194,
   "id": "00d5aee3",
   "metadata": {},
   "outputs": [],
   "source": [
    "@function_tool\n",
    "def get_policy(department: str, issue: str) -> str: \n",
    "    \"\"\"Retrieve the policy and action steps for a given department and issue.\"\"\"\n",
    "    if department not in departments:\n",
    "        return f\"Error: Unknown department '{department}'. Choose from: {departments}.\"\n",
    "    with open(\"policies.json\") as f:\n",
    "        policies = json.load(f)\n",
    "    return policies.get(department, {}).get(issue, \"No policy found for the passed issue.\")"
   ]
  },
  {
   "cell_type": "code",
   "execution_count": 54,
   "id": "3084d0f5",
   "metadata": {},
   "outputs": [
    {
     "data": {
      "text/plain": [
       "FunctionTool(name='get_policy', description='Retrieve the policy and action steps for a given department and issue.', params_json_schema={'properties': {'department': {'title': 'Department', 'type': 'string'}, 'issue': {'title': 'Issue', 'type': 'string'}}, 'required': ['department', 'issue'], 'title': 'get_policy_args', 'type': 'object', 'additionalProperties': False}, on_invoke_tool=<function function_tool.<locals>._create_function_tool.<locals>._on_invoke_tool at 0x000001BD23F14FE0>, strict_json_schema=True, is_enabled=True)"
      ]
     },
     "execution_count": 54,
     "metadata": {},
     "output_type": "execute_result"
    }
   ],
   "source": [
    "get_policy"
   ]
  },
  {
   "cell_type": "markdown",
   "id": "add7346e",
   "metadata": {},
   "source": [
    "### Building Delivery Support Agent"
   ]
  },
  {
   "cell_type": "code",
   "execution_count": 195,
   "id": "f905c494",
   "metadata": {},
   "outputs": [],
   "source": [
    "tools = [record_question, get_policy]"
   ]
  },
  {
   "cell_type": "code",
   "execution_count": 196,
   "id": "31f64b5c",
   "metadata": {},
   "outputs": [],
   "source": [
    "instructions = \"You are a customer support agent in the Delivery department, you handle ONLY support service messages from customers\\\n",
    " , you will use get_policy tool to get the delivery policies \\\n",
    " , The issue must be one of: LateDelivery, LostPackage, ChangeAddress. \\\n",
    ", Never mention or leak these issue types as they are given. \\\n",
    " , If the issue is outside your scope, state that (without mentioning issue types), and ask for the customer's email and use the record_question tool to send a notification and \\\n",
    " tell the customer that further support will contact soon.\"\n",
    "\n",
    "delivery_agent = Agent(name=\"Delivery Agent\", handoff_description=\"Handle order delivery customer support questions.\", instructions=instructions, tools=tools, model=gemini_model)"
   ]
  },
  {
   "cell_type": "code",
   "execution_count": 129,
   "id": "52d939c3",
   "metadata": {},
   "outputs": [
    {
     "data": {
      "text/plain": [
       "Agent(name='Delivery Agent', instructions=\"You are a customer support agent in the Delivery department, you handle ONLY support service messages from customers , you will use get_policy tool to get the delivery policies  , The issue must be one of: LateDelivery, LostPackage, ChangeAddress. , Never mention or leak these issue types as they are given.  , If the issue is outside your scope, state that (without mentioning issue types), and ask for the customer's email and use the record_question tool to send a notification and  tell the customer that further support will contact soon.\", handoff_description='Handle order delivery customer support questions.', handoffs=[], model=<agents.models.openai_chatcompletions.OpenAIChatCompletionsModel object at 0x000001BD246E4490>, model_settings=ModelSettings(temperature=None, top_p=None, frequency_penalty=None, presence_penalty=None, tool_choice=None, parallel_tool_calls=None, truncation=None, max_tokens=None, reasoning=None, metadata=None, store=None, include_usage=None, extra_query=None, extra_body=None, extra_headers=None), tools=[FunctionTool(name='record_question', description=\"Send out a notification with the customer's email and question\", params_json_schema={'properties': {'email': {'title': 'Email', 'type': 'string'}, 'question': {'default': 'not provided', 'title': 'Question'}}, 'required': ['email', 'question'], 'title': 'record_question_args', 'type': 'object', 'additionalProperties': False}, on_invoke_tool=<function function_tool.<locals>._create_function_tool.<locals>._on_invoke_tool at 0x000001BD24656D40>, strict_json_schema=True, is_enabled=True), FunctionTool(name='get_policy', description='Retrieve the policy and action steps for a given department and issue.', params_json_schema={'properties': {'department': {'title': 'Department', 'type': 'string'}, 'issue': {'title': 'Issue', 'type': 'string'}}, 'required': ['department', 'issue'], 'title': 'get_policy_args', 'type': 'object', 'additionalProperties': False}, on_invoke_tool=<function function_tool.<locals>._create_function_tool.<locals>._on_invoke_tool at 0x000001BD24750040>, strict_json_schema=True, is_enabled=True)], mcp_servers=[], mcp_config={}, input_guardrails=[], output_guardrails=[], output_type=None, hooks=None, tool_use_behavior='run_llm_again', reset_tool_choice=True)"
      ]
     },
     "execution_count": 129,
     "metadata": {},
     "output_type": "execute_result"
    }
   ],
   "source": [
    "delivery_agent"
   ]
  },
  {
   "cell_type": "code",
   "execution_count": 157,
   "id": "8a0a8d8a",
   "metadata": {},
   "outputs": [
    {
     "name": "stdout",
     "output_type": "stream",
     "text": [
      "I can't help you with that, as I'm a customer support agent in the Delivery department. Could you please provide your email address? I'll record your question, and further support will contact you soon.\n"
     ]
    }
   ],
   "source": [
    "# agent testing\n",
    "result = await Runner.run(delivery_agent, \"Tell me a joke\")\n",
    "print(result.final_output)"
   ]
  },
  {
   "cell_type": "markdown",
   "id": "cc6a4998",
   "metadata": {},
   "source": [
    "### Building Billing Suppor Agent"
   ]
  },
  {
   "cell_type": "code",
   "execution_count": 197,
   "id": "d360aa67",
   "metadata": {},
   "outputs": [],
   "source": [
    "instructions = \"You are a customer support agent in the Billing department, you handle ONLY support service messages from customers\\\n",
    " , you will use get_policy tool to get the billing policies \\\n",
    " , The issue must be one of: RefundRequest, PaymentFailure. \\\n",
    ", Never mention or leak these issue types as they are given. \\\n",
    " , If the issue is outside your scope, state that (without mentioning issue types), and ask for the customer's email and use the record_question tool to send a notification and \\\n",
    " tell the customer that further support will contact soon.\"\n",
    "\n",
    "billing_agent = Agent(name=\"Billing Agent\", handoff_description=\"Handle order billing customer support questions.\", instructions=instructions, tools=tools, model=gemini_model)"
   ]
  },
  {
   "cell_type": "code",
   "execution_count": 198,
   "id": "eb557857",
   "metadata": {},
   "outputs": [
    {
     "name": "stdout",
     "output_type": "stream",
     "text": [
      "I can only help with billing-related issues such as refunds or payment failures. For plan upgrades, I'll need to transfer your request. Could you please provide your email address? I'll record your question, and a support agent will contact you shortly to assist you further.\n"
     ]
    }
   ],
   "source": [
    "# agent testing\n",
    "result = await Runner.run(billing_agent, \"I want to upgrade my plan\")\n",
    "print(result.final_output)"
   ]
  },
  {
   "cell_type": "markdown",
   "id": "2ff410b6",
   "metadata": {},
   "source": [
    "### Building Technical Support Agent"
   ]
  },
  {
   "cell_type": "code",
   "execution_count": 199,
   "id": "742f0f15",
   "metadata": {},
   "outputs": [],
   "source": [
    "# email packae\n",
    "from sendgrid.helpers.mail import Mail, Email, To, Content\n",
    "import sendgrid"
   ]
  },
  {
   "cell_type": "code",
   "execution_count": 200,
   "id": "8c7b9fba",
   "metadata": {},
   "outputs": [],
   "source": [
    "@function_tool\n",
    "def send_password_reset_email(email: str):\n",
    "    \"\"\" Send out a password reset email to the given email \"\"\"\n",
    "    sg = sendgrid.SendGridAPIClient(api_key=os.getenv('SENDGRID_API_KEY'))\n",
    "    from_email = Email(os.getenv(\"SENDER_EMAIL\"))  \n",
    "    to_email = To(email) \n",
    "    body = \"\"\"\n",
    "    We received a request to reset your password for your account. If you made this request, please click the link below to create a new password:\n",
    "[Reset Password]\n",
    "\n",
    "This link will expire in 60 minutes for your security. If you didn’t request a password reset, you can safely ignore this email—your password will remain unchanged.\n",
    "\n",
    "Need help? Contact our support team at [support email].\n",
    "\n",
    "Thanks,\n",
    "The [Company Name] Team\n",
    "    \"\"\"\n",
    "    content = Content(\"text/plain\", body)\n",
    "    mail = Mail(from_email, to_email, \"Reset Your Password\", content).get()\n",
    "    sg.client.mail.send.post(request_body=mail)\n",
    "    return {\"status\": \"success\"}"
   ]
  },
  {
   "cell_type": "code",
   "execution_count": 134,
   "id": "ca99befe",
   "metadata": {},
   "outputs": [
    {
     "data": {
      "text/plain": [
       "FunctionTool(name='send_password_reset_email', description='Send out a password reset email to the given email', params_json_schema={'properties': {'email': {'title': 'Email', 'type': 'string'}}, 'required': ['email'], 'title': 'send_password_reset_email_args', 'type': 'object', 'additionalProperties': False}, on_invoke_tool=<function function_tool.<locals>._create_function_tool.<locals>._on_invoke_tool at 0x000001BD24750B80>, strict_json_schema=True, is_enabled=True)"
      ]
     },
     "execution_count": 134,
     "metadata": {},
     "output_type": "execute_result"
    }
   ],
   "source": [
    "send_password_reset_email"
   ]
  },
  {
   "cell_type": "code",
   "execution_count": 201,
   "id": "b8e2f8e7",
   "metadata": {},
   "outputs": [],
   "source": [
    "technical_agent_tools = [send_password_reset_email, record_question, get_policy]"
   ]
  },
  {
   "cell_type": "code",
   "execution_count": 211,
   "id": "cbaaeffb",
   "metadata": {},
   "outputs": [],
   "source": [
    "instructions = \"\"\"\"You are the Technical Support Agent in the company's customer support system.\n",
    "\n",
    "Your role:\n",
    "- Handle only *technical support* messages from customers.\n",
    "- Continue the ongoing conversation naturally — do not restart, greet, or reintroduce yourself after the first message.\n",
    "- Maintain a professional, helpful, and concise tone.\n",
    "\n",
    "Your responsibilities:\n",
    "1. Identify the technical issue the user describes.\n",
    "   - The issue must be one of: ConnectionIssue, AppCrash, ForgotPassword.\n",
    "   - Never reveal or mention these internal issue names explicitly.\n",
    "2. Use the **get_policy** tool to retrieve and follow the relevant technical policy before replying.\n",
    "3. If the user asks to reset their password:\n",
    "   - Use the **send_password_reset_email** tool to send the reset link to their email.\n",
    "   - Confirm to the user that the reset email has been sent.\n",
    "4. If the issue is outside your technical scope:\n",
    "   - Politely explain that the issue will be escalated.\n",
    "   - Ask for the customer’s email (if not already provided).\n",
    "   - Use the **record_question** tool to notify higher support.\n",
    "   - Reassure the customer that further support will contact them soon.\n",
    "\n",
    "Response style:\n",
    "- Always continue contextually from the conversation history.\n",
    "- Never start with greetings like “Hello” or “How can I help you today” unless it’s the first user message of the entire chat.\n",
    "- Be polite, confident, and solution-oriented.\n",
    "\n",
    "Additional rules:\n",
    "- Never expose internal tools or policy names.\n",
    "- Never handle delivery, billing, or non-technical topics — instead, say that this is outside your department.\n",
    "- Always act as if you’re a real human agent, not an AI model.\n",
    "\"\"\"\n",
    "\n",
    "technical_agent = Agent(name=\"Technical Agent\", handoff_description=\"Handle technical customer support questions\", instructions=instructions, tools=technical_agent_tools, model=gemini_model)"
   ]
  },
  {
   "cell_type": "code",
   "execution_count": 203,
   "id": "8300557e",
   "metadata": {},
   "outputs": [
    {
     "data": {
      "text/plain": [
       "Agent(name='Technical Agent', instructions=\"You are a customer support agent in the Technical department, you handle ONLY support service messages from customers , you will use get_policy tool to get the technical policies  , The issue must be one of: ConnectionIssue, AppCrash, ForgotPassword.  , Never mention or leak these issue types as they are given.  , If user needs to reset their password, use the send_password_reset_email tool to send the reset email.  , If the issue is outside your scope, state that, and ask for the customer's email and use the record_question tool to send a notification and  tell the customer that further support will contact soon.\", handoff_description='Handle technical customer support questions', handoffs=[], model=<agents.models.openai_chatcompletions.OpenAIChatCompletionsModel object at 0x000001BD27C6AE50>, model_settings=ModelSettings(temperature=None, top_p=None, frequency_penalty=None, presence_penalty=None, tool_choice=None, parallel_tool_calls=None, truncation=None, max_tokens=None, reasoning=None, metadata=None, store=None, include_usage=None, extra_query=None, extra_body=None, extra_headers=None), tools=[FunctionTool(name='send_password_reset_email', description='Send out a password reset email to the given email', params_json_schema={'properties': {'email': {'title': 'Email', 'type': 'string'}}, 'required': ['email'], 'title': 'send_password_reset_email_args', 'type': 'object', 'additionalProperties': False}, on_invoke_tool=<function function_tool.<locals>._create_function_tool.<locals>._on_invoke_tool at 0x000001BD27D274C0>, strict_json_schema=True, is_enabled=True), FunctionTool(name='record_question', description=\"Send out a notification with the customer's email and question\", params_json_schema={'properties': {'email': {'title': 'Email', 'type': 'string'}, 'question': {'default': 'not provided', 'title': 'Question'}}, 'required': ['email', 'question'], 'title': 'record_question_args', 'type': 'object', 'additionalProperties': False}, on_invoke_tool=<function function_tool.<locals>._create_function_tool.<locals>._on_invoke_tool at 0x000001BD26CDC040>, strict_json_schema=True, is_enabled=True), FunctionTool(name='get_policy', description='Retrieve the policy and action steps for a given department and issue.', params_json_schema={'properties': {'department': {'title': 'Department', 'type': 'string'}, 'issue': {'title': 'Issue', 'type': 'string'}}, 'required': ['department', 'issue'], 'title': 'get_policy_args', 'type': 'object', 'additionalProperties': False}, on_invoke_tool=<function function_tool.<locals>._create_function_tool.<locals>._on_invoke_tool at 0x000001BD27D268E0>, strict_json_schema=True, is_enabled=True)], mcp_servers=[], mcp_config={}, input_guardrails=[], output_guardrails=[], output_type=None, hooks=None, tool_use_behavior='run_llm_again', reset_tool_choice=True)"
      ]
     },
     "execution_count": 203,
     "metadata": {},
     "output_type": "execute_result"
    }
   ],
   "source": [
    "technical_agent"
   ]
  },
  {
   "cell_type": "code",
   "execution_count": null,
   "id": "58acc3c3",
   "metadata": {},
   "outputs": [
    {
     "name": "stdout",
     "output_type": "stream",
     "text": [
      "Push: A customer with the following email das@gmail.com has a question: User wants to download their data.\n",
      "Thank you for providing your email. We will get back to you shortly regarding your request to download your data.\n"
     ]
    }
   ],
   "source": [
    "# agent testing\n",
    "result = await Runner.run(technical_agent, \"I want to download my data\")\n",
    "print(result.final_output)"
   ]
  },
  {
   "cell_type": "code",
   "execution_count": 212,
   "id": "fd91871b",
   "metadata": {},
   "outputs": [],
   "source": [
    "handoffs = [delivery_agent, billing_agent, technical_agent]"
   ]
  },
  {
   "cell_type": "markdown",
   "id": "5b07e7d0",
   "metadata": {},
   "source": [
    "### Create The Router "
   ]
  },
  {
   "cell_type": "code",
   "execution_count": 213,
   "id": "d6aa54c8",
   "metadata": {},
   "outputs": [],
   "source": [
    "router_instructions = \"\"\"You are a Routing Agent, \n",
    "Your job is to analyze the user's message and decide which department should handle it.\n",
    "\n",
    "There are three department agents available:\n",
    "1. Delivery Agent – handles order status, delays, shipping, and address change issues.\n",
    "2. Billing Agent – handles refunds and payment failures.\n",
    "3. Technical Agent – handles connection problems, app crashes, and password reset.\n",
    "\n",
    "Your responsibilities:\n",
    "- Read the user's message carefully.\n",
    "- Identify the issue type and select ONE department that is best suited to handle it.\n",
    "- When confident, perform a HANDOFF to the selected department agent.\n",
    "- Once the handoff is done, do not continue processing the conversation.\n",
    "- If the message is unclear or does not match any known category, ask the user a short clarifying question before routing.\n",
    "- Never attempt to solve the problem yourself — your only job is to route messages.\n",
    "\n",
    "Response style:\n",
    "- Be concise and professional.\n",
    "- If clarification is needed, use a friendly and direct question.\n",
    "- If routing, state which department you’re routing to and then perform the handoff.\n",
    "\n",
    "Your only valid actions:\n",
    "- Ask for clarification, OR\n",
    "- Handoff to one of: DeliveryAgent, BillingAgent, TechAgent. OR\n",
    "- If the customer's problem can't be handled by the previous agents, ask for customer's email and send a notification using record_question tool\n",
    "\"\"\"\n",
    "\n",
    "routing_agent = Agent(name=\"Routing Agent\", instructions=router_instructions, handoffs=handoffs, tools=[record_question], model=gemini_model)"
   ]
  },
  {
   "cell_type": "code",
   "execution_count": 167,
   "id": "2de67352",
   "metadata": {},
   "outputs": [
    {
     "name": "stdout",
     "output_type": "stream",
     "text": [
      "RunResult:\n",
      "- Last agent: Agent(name=\"Technical Agent\", ...)\n",
      "- Final output (str):\n",
      "    Please provide your email address to reset your password.\n",
      "- 4 new item(s)\n",
      "- 2 raw response(s)\n",
      "- 0 input guardrail result(s)\n",
      "- 0 output guardrail result(s)\n",
      "(See `RunResult` for more details)\n",
      "Please provide your email address to reset your password.\n"
     ]
    }
   ],
   "source": [
    "# agent testing\n",
    "result = await Runner.run(routing_agent, \"I want to reset my password\")\n",
    "print(result)\n",
    "print(result.final_output)"
   ]
  },
  {
   "cell_type": "markdown",
   "id": "16c1fa6b",
   "metadata": {},
   "source": [
    "### Building The Chat"
   ]
  },
  {
   "cell_type": "code",
   "execution_count": 214,
   "id": "eaefaa98",
   "metadata": {},
   "outputs": [
    {
     "name": "stdout",
     "output_type": "stream",
     "text": [
      "[{'role': 'user', 'content': 'Hello, i need technical help'}, {'role': 'assistant', 'content': \"Please describe your technical issue, and I'll do my best to help.\"}]\n",
      "Technical Agent\n",
      "Please describe your technical issue, and I'll do my best to help.\n",
      "[{'role': 'user', 'content': 'Hello, i need technical help'}, {'role': 'assistant', 'content': \"Please describe your technical issue, and I'll do my best to help.\"}, {'role': 'user', 'content': 'i need to reset my password'}, {'role': 'assistant', 'content': 'Please provide your email address so I can send you a password reset link.'}]\n",
      "Technical Agent\n",
      "Please provide your email address so I can send you a password reset link.\n",
      "[{'role': 'user', 'content': 'Hello, i need technical help'}, {'role': 'assistant', 'content': \"Please describe your technical issue, and I'll do my best to help.\"}, {'role': 'user', 'content': 'i need to reset my password'}, {'role': 'assistant', 'content': 'Please provide your email address so I can send you a password reset link.'}, {'role': 'user', 'content': 'sadawe147@gmail.com'}, {'role': 'assistant', 'content': 'Please describe the technical issue you are experiencing.'}]\n",
      "Technical Agent\n",
      "Please describe the technical issue you are experiencing.\n"
     ]
    }
   ],
   "source": [
    "history = []\n",
    "starting_agent = routing_agent\n",
    "while True:\n",
    "    prompt = input(\"Enter You Questions: \")\n",
    "    if prompt == \"end\":\n",
    "        break\n",
    "    result = await Runner.run(\n",
    "        starting_agent=starting_agent,\n",
    "        input=prompt,\n",
    "        context=history,\n",
    "    )\n",
    "    history.extend([{\n",
    "        \"role\": \"user\",\n",
    "        \"content\": prompt\n",
    "    },\n",
    "    {\n",
    "        \"role\": \"assistant\",\n",
    "        \"content\": result.final_output\n",
    "    }])\n",
    "    starting_agent = result.last_agent\n",
    "    print(history)\n",
    "    print(result.last_agent.name)\n",
    "    print(result.final_output)"
   ]
  },
  {
   "cell_type": "code",
   "execution_count": null,
   "id": "8ddb9121",
   "metadata": {},
   "outputs": [],
   "source": [
    "async def chat(message, history):\n",
    "    history = [{\"role\": h[\"role\"], \"content\": h[\"content\"]} for h in history]\n",
    "    print(history)\n",
    "    result = await Runner.run(starting_agent=routing_agent, input=message, context=history)\n",
    "    print(result)\n",
    "    return result.final_output"
   ]
  },
  {
   "cell_type": "code",
   "execution_count": null,
   "id": "2bfed7dc",
   "metadata": {},
   "outputs": [
    {
     "name": "stdout",
     "output_type": "stream",
     "text": [
      "* Running on local URL:  http://127.0.0.1:7864\n",
      "* To create a public link, set `share=True` in `launch()`.\n"
     ]
    },
    {
     "data": {
      "text/html": [
       "<div><iframe src=\"http://127.0.0.1:7864/\" width=\"100%\" height=\"500\" allow=\"autoplay; camera; microphone; clipboard-read; clipboard-write;\" frameborder=\"0\" allowfullscreen></iframe></div>"
      ],
      "text/plain": [
       "<IPython.core.display.HTML object>"
      ]
     },
     "metadata": {},
     "output_type": "display_data"
    },
    {
     "data": {
      "text/plain": []
     },
     "execution_count": 177,
     "metadata": {},
     "output_type": "execute_result"
    },
    {
     "name": "stdout",
     "output_type": "stream",
     "text": [
      "[]\n",
      "RunResult:\n",
      "- Last agent: Agent(name=\"Technical Agent\", ...)\n",
      "- Final output (str):\n",
      "    I can help with technical issues. What is your issue about?\n",
      "- 3 new item(s)\n",
      "- 2 raw response(s)\n",
      "- 0 input guardrail result(s)\n",
      "- 0 output guardrail result(s)\n",
      "(See `RunResult` for more details)\n",
      "[{'role': 'user', 'metadata': None, 'content': 'Hi i have a technical question', 'options': None}, {'role': 'assistant', 'metadata': None, 'content': 'I can help with technical issues. What is your issue about?', 'options': None}]\n",
      "RunResult:\n",
      "- Last agent: Agent(name=\"Technical Agent\", ...)\n",
      "- Final output (str):\n",
      "    It looks like you're having trouble with your password. To help you with this, I can send you a password reset email. Could you please provide the email address associated with your account?\n",
      "- 4 new item(s)\n",
      "- 2 raw response(s)\n",
      "- 0 input guardrail result(s)\n",
      "- 0 output guardrail result(s)\n",
      "(See `RunResult` for more details)\n",
      "[{'role': 'user', 'metadata': None, 'content': 'Hi i have a technical question', 'options': None}, {'role': 'assistant', 'metadata': None, 'content': 'I can help with technical issues. What is your issue about?', 'options': None}, {'role': 'user', 'metadata': None, 'content': 'I forgot my password', 'options': None}, {'role': 'assistant', 'metadata': None, 'content': \"It looks like you're having trouble with your password. To help you with this, I can send you a password reset email. Could you please provide the email address associated with your account?\", 'options': None}]\n",
      "RunResult:\n",
      "- Last agent: Agent(name=\"Routing Agent\", ...)\n",
      "- Final output (str):\n",
      "    Could you please tell me more about what you don't want to do?\n",
      "- 1 new item(s)\n",
      "- 1 raw response(s)\n",
      "- 0 input guardrail result(s)\n",
      "- 0 output guardrail result(s)\n",
      "(See `RunResult` for more details)\n"
     ]
    }
   ],
   "source": [
    "gr.ChatInterface(chat, type=\"messages\").launch()"
   ]
  }
 ],
 "metadata": {
  "kernelspec": {
   "display_name": ".venv",
   "language": "python",
   "name": "python3"
  },
  "language_info": {
   "codemirror_mode": {
    "name": "ipython",
    "version": 3
   },
   "file_extension": ".py",
   "mimetype": "text/x-python",
   "name": "python",
   "nbconvert_exporter": "python",
   "pygments_lexer": "ipython3",
   "version": "3.13.1"
  }
 },
 "nbformat": 4,
 "nbformat_minor": 5
}
