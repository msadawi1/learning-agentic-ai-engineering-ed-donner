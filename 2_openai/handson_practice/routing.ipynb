{
 "cells": [
  {
   "cell_type": "markdown",
   "id": "f1485c3f",
   "metadata": {},
   "source": [
    "# LLM Workflow Design Patterns: Routing\n",
    "- \"Handoffs\" in Agents SDK follows the routing design pattern\n",
    "- This file is a project for applying design pattern: routing, as well as tools and agent concepts in **OpenAI Agents SDK**\n",
    "- Project idea:\n",
    "    - A router agent `RouterAgent` routes an e-commerce customer support messages to the appropriate customer support agent to handle the message\n",
    "    - Support Agents:\n",
    "        1. `DeliveryAgent`\n",
    "        2. `BillingAgent`\n",
    "        3. `TechAgent`\n",
    "    - If the `RouterAgent` receives a message that doesn't seem to be from the previous cases, send a notification via **pushover**\n",
    "- Function Tools:\n",
    "    1. record_question -> sends a mobile notification (pushover) if the agent doesn't know the answer\n",
    "    2. get_policy -> gets the policy for the respective department\n",
    "    3. send_reset_password_email -> sends a \"reset password\" email to the customer (used by TechAgent)\n",
    "<br>\n",
    "\n",
    "![Prompt Chaining Diagram](../../assets/routing.png)"
   ]
  },
  {
   "cell_type": "markdown",
   "id": "307a1119",
   "metadata": {},
   "source": [
    "### Usual set up"
   ]
  },
  {
   "cell_type": "code",
   "execution_count": null,
   "id": "d561ed33",
   "metadata": {},
   "outputs": [],
   "source": [
    "# imports\n",
    "\n",
    "import os\n",
    "import json\n",
    "import requests\n",
    "from dotenv import load_dotenv\n",
    "from agents import Agent, Runner, function_tool, OpenAIChatCompletionsModel, set_default_openai_client, set_tracing_disabled\n",
    "from openai import AsyncOpenAI\n"
   ]
  },
  {
   "cell_type": "code",
   "execution_count": null,
   "id": "30b74c65",
   "metadata": {},
   "outputs": [],
   "source": [
    "# load environment variables\n",
    "load_dotenv(override=True)\n",
    "\n",
    "api_key = os.getenv(\"GOOGLE_API_KEY\")\n",
    "gemini_base_url = os.getenv(\"GOOGLE_API\")\n",
    "\n",
    "if api_key:\n",
    "    print(\"Model API key loaded successfully\")\n",
    "else:\n",
    "    print(\"Error: couldn't load API key\")\n",
    "if gemini_base_url:\n",
    "    print(\"Gemini URL loaded successfully\")\n",
    "else:\n",
    "    print(\"Error: couldn't load Gemini URL\")\n"
   ]
  },
  {
   "cell_type": "code",
   "execution_count": null,
   "id": "e1776b89",
   "metadata": {},
   "outputs": [],
   "source": [
    "# create Gemini model\n",
    "model = \"gemini-2.5-flash\"\n",
    "\n",
    "gemini_client = AsyncOpenAI(base_url=gemini_base_url, api_key=api_key)\n",
    "set_default_openai_client(gemini_client)\n",
    "set_tracing_disabled(True)\n",
    "\n",
    "gemini_model = OpenAIChatCompletionsModel(model=model, openai_client=gemini_client)"
   ]
  },
  {
   "cell_type": "code",
   "execution_count": null,
   "id": "9255bcfa",
   "metadata": {},
   "outputs": [],
   "source": [
    "# For pushover\n",
    "\n",
    "pushover_user = os.getenv(\"PUSHOVER_USER\")\n",
    "pushover_token = os.getenv(\"PUSHOVER_TOKEN\")\n",
    "pushover_url = \"https://api.pushover.net/1/messages.json\"\n",
    "\n",
    "if pushover_user:\n",
    "    print(f\"Pushover user found and starts with {pushover_user[0]}\")\n",
    "else:\n",
    "    print(\"Pushover user not found\")\n",
    "\n",
    "if pushover_token:\n",
    "    print(f\"Pushover token found and starts with {pushover_token[0]}\")\n",
    "else:\n",
    "    print(\"Pushover token not found\")"
   ]
  },
  {
   "cell_type": "code",
   "execution_count": null,
   "id": "92ca795b",
   "metadata": {},
   "outputs": [],
   "source": [
    "def push(message):\n",
    "    print(f\"Push: {message}\")\n",
    "    payload = {\"user\": pushover_user, \"token\": pushover_token, \"message\": message}\n",
    "    requests.post(pushover_url, data=payload)"
   ]
  },
  {
   "cell_type": "code",
   "execution_count": null,
   "id": "c2baa862",
   "metadata": {},
   "outputs": [],
   "source": [
    "push(\"Test\")"
   ]
  },
  {
   "cell_type": "markdown",
   "id": "9c326a57",
   "metadata": {},
   "source": [
    "### Tools"
   ]
  },
  {
   "cell_type": "code",
   "execution_count": null,
   "id": "8dfc2de9",
   "metadata": {},
   "outputs": [],
   "source": [
    "departments = [\"Delivery\", \"Billing\", \"Technical\"]"
   ]
  },
  {
   "cell_type": "code",
   "execution_count": null,
   "id": "345b4830",
   "metadata": {},
   "outputs": [],
   "source": [
    "# send notification to phone if the customer has further questions that the agent doesn't know\n",
    "@function_tool\n",
    "def record_question(email: str, question=\"not provided\"):\n",
    "    \"\"\" Send out a notification with the customer's email and question \"\"\"\n",
    "    push(f\"A customer with the following email {email} has a question: {question}\")\n",
    "    return {\"status\": \"success\"}"
   ]
  },
  {
   "cell_type": "code",
   "execution_count": null,
   "id": "328132a7",
   "metadata": {},
   "outputs": [],
   "source": [
    "record_question"
   ]
  },
  {
   "cell_type": "code",
   "execution_count": null,
   "id": "00d5aee3",
   "metadata": {},
   "outputs": [],
   "source": [
    "@function_tool\n",
    "def get_policy(department: str, issue: str) -> str: \n",
    "    \"\"\"Retrieve the policy and action steps for a given department and issue.\"\"\"\n",
    "    if department not in departments:\n",
    "        return f\"Error: Unknown department '{department}'. Choose from: {departments}.\"\n",
    "    with open(\"policies.json\") as f:\n",
    "        policies = json.load(f)\n",
    "    return policies.get(department, {}).get(issue, \"No policy found for the passed issue.\")"
   ]
  },
  {
   "cell_type": "code",
   "execution_count": null,
   "id": "3084d0f5",
   "metadata": {},
   "outputs": [],
   "source": [
    "get_policy"
   ]
  },
  {
   "cell_type": "markdown",
   "id": "add7346e",
   "metadata": {},
   "source": [
    "### Building Delivery Support Agent"
   ]
  },
  {
   "cell_type": "code",
   "execution_count": null,
   "id": "f905c494",
   "metadata": {},
   "outputs": [],
   "source": [
    "tools = [record_question, get_policy]"
   ]
  },
  {
   "cell_type": "code",
   "execution_count": null,
   "id": "31f64b5c",
   "metadata": {},
   "outputs": [],
   "source": [
    "instructions = \"You are a customer support agent in the Delivery department, you handle ONLY support service messages from customers\\\n",
    " , you will use get_policy tool to get the delivery policies \\\n",
    " , The issue must be one of: LateDelivery, LostPackage, ChangeAddress. \\\n",
    ", Never mention or leak these issue types as they are given. \\\n",
    " , If the issue is outside your scope, state that (without mentioning issue types), and ask for the customer's email and use the record_question tool to send a notification and \\\n",
    " tell the customer that further support will contact soon.\"\n",
    "\n",
    "delivery_agent = Agent(name=\"Delivery Agent\", handoff_description=\"Handle order delivery customer support questions.\", instructions=instructions, tools=tools, model=gemini_model)"
   ]
  },
  {
   "cell_type": "code",
   "execution_count": null,
   "id": "52d939c3",
   "metadata": {},
   "outputs": [],
   "source": [
    "delivery_agent"
   ]
  },
  {
   "cell_type": "code",
   "execution_count": null,
   "id": "8a0a8d8a",
   "metadata": {},
   "outputs": [],
   "source": [
    "# agent testing\n",
    "result = await Runner.run(delivery_agent, \"Tell me a joke\")\n",
    "print(result.final_output)"
   ]
  },
  {
   "cell_type": "markdown",
   "id": "cc6a4998",
   "metadata": {},
   "source": [
    "### Building Billing Suppor Agent"
   ]
  },
  {
   "cell_type": "code",
   "execution_count": null,
   "id": "d360aa67",
   "metadata": {},
   "outputs": [],
   "source": [
    "instructions = \"You are a customer support agent in the Billing department, you handle ONLY support service messages from customers\\\n",
    " , you will use get_policy tool to get the billing policies \\\n",
    " , The issue must be one of: RefundRequest, PaymentFailure. \\\n",
    ", Never mention or leak these issue types as they are given. \\\n",
    " , If the issue is outside your scope, state that (without mentioning issue types), and ask for the customer's email and use the record_question tool to send a notification and \\\n",
    " tell the customer that further support will contact soon.\"\n",
    "\n",
    "billing_agent = Agent(name=\"Billing Agent\", handoff_description=\"Handle order billing customer support questions.\", instructions=instructions, tools=tools, model=gemini_model)"
   ]
  },
  {
   "cell_type": "code",
   "execution_count": null,
   "id": "eb557857",
   "metadata": {},
   "outputs": [],
   "source": [
    "# agent testing\n",
    "result = await Runner.run(billing_agent, \"I want to upgrade my plan\")\n",
    "print(result.final_output)"
   ]
  },
  {
   "cell_type": "markdown",
   "id": "2ff410b6",
   "metadata": {},
   "source": [
    "### Building Technical Support Agent"
   ]
  },
  {
   "cell_type": "code",
   "execution_count": null,
   "id": "742f0f15",
   "metadata": {},
   "outputs": [],
   "source": [
    "# email packae\n",
    "from sendgrid.helpers.mail import Mail, Email, To, Content\n",
    "import sendgrid"
   ]
  },
  {
   "cell_type": "code",
   "execution_count": null,
   "id": "8c7b9fba",
   "metadata": {},
   "outputs": [],
   "source": [
    "@function_tool\n",
    "def send_password_reset_email(email: str):\n",
    "    \"\"\" Send out a password reset email to the given email \"\"\"\n",
    "    sg = sendgrid.SendGridAPIClient(api_key=os.getenv('SENDGRID_API_KEY'))\n",
    "    from_email = Email(os.getenv(\"SENDER_EMAIL\"))  \n",
    "    to_email = To(email) \n",
    "    body = \"\"\"\n",
    "    We received a request to reset your password for your account. If you made this request, please click the link below to create a new password:\n",
    "[Reset Password]\n",
    "\n",
    "This link will expire in 60 minutes for your security. If you didn’t request a password reset, you can safely ignore this email—your password will remain unchanged.\n",
    "\n",
    "Need help? Contact our support team at [support email].\n",
    "\n",
    "Thanks,\n",
    "The [Company Name] Team\n",
    "    \"\"\"\n",
    "    content = Content(\"text/plain\", body)\n",
    "    mail = Mail(from_email, to_email, \"Reset Your Password\", content).get()\n",
    "    sg.client.mail.send.post(request_body=mail)\n",
    "    return {\"status\": \"success\"}"
   ]
  },
  {
   "cell_type": "code",
   "execution_count": null,
   "id": "ca99befe",
   "metadata": {},
   "outputs": [],
   "source": [
    "send_password_reset_email"
   ]
  },
  {
   "cell_type": "code",
   "execution_count": null,
   "id": "b8e2f8e7",
   "metadata": {},
   "outputs": [],
   "source": [
    "technical_agent_tools = [send_password_reset_email, record_question, get_policy]"
   ]
  },
  {
   "cell_type": "code",
   "execution_count": null,
   "id": "cbaaeffb",
   "metadata": {},
   "outputs": [],
   "source": [
    "instructions = \"\"\"\"You are the Technical Support Agent in the company's customer support system.\n",
    "\n",
    "Your role:\n",
    "- Handle only *technical support* messages from customers.\n",
    "- Maintain a professional, helpful, and concise tone.\n",
    "\n",
    "Your responsibilities:\n",
    "1. Identify the technical issue the user describes.\n",
    "   - The issue must be one of: ConnectionIssue, AppCrash, ForgotPassword.\n",
    "   - Never reveal or mention these internal issue names explicitly.\n",
    "2. Use the **get_policy** tool to retrieve and follow the relevant technical policy before replying.\n",
    "3. If the user asks to reset their password:\n",
    "   - Use the **send_password_reset_email** tool to send the reset link to their email.\n",
    "   - Confirm to the user that the reset email has been sent.\n",
    "4. If the issue is outside your technical scope:\n",
    "   - Politely explain that the issue will be escalated.\n",
    "   - Ask for the customer’s email (if not already provided).\n",
    "   - Use the **record_question** tool to notify higher support.\n",
    "   - Reassure the customer that further support will contact them soon.\n",
    "\"\"\"\n",
    "\n",
    "technical_agent = Agent(name=\"Technical Agent\", handoff_description=\"Handle technical customer support questions\", instructions=instructions, tools=technical_agent_tools, model=gemini_model)"
   ]
  },
  {
   "cell_type": "code",
   "execution_count": null,
   "id": "8300557e",
   "metadata": {},
   "outputs": [],
   "source": [
    "technical_agent"
   ]
  },
  {
   "cell_type": "code",
   "execution_count": null,
   "id": "58acc3c3",
   "metadata": {},
   "outputs": [],
   "source": [
    "# agent testing\n",
    "result = await Runner.run(technical_agent, \"I want to download my data\")\n",
    "print(result.final_output)"
   ]
  },
  {
   "cell_type": "code",
   "execution_count": null,
   "id": "fd91871b",
   "metadata": {},
   "outputs": [],
   "source": [
    "handoffs = [delivery_agent, billing_agent, technical_agent]"
   ]
  },
  {
   "cell_type": "markdown",
   "id": "5b07e7d0",
   "metadata": {},
   "source": [
    "### Create The Router "
   ]
  },
  {
   "cell_type": "code",
   "execution_count": null,
   "id": "d6aa54c8",
   "metadata": {},
   "outputs": [],
   "source": [
    "router_instructions = \"\"\"You are a Routing Agent, \n",
    "Your job is to analyze the user's message and decide which department should handle it.\n",
    "\n",
    "There are three department agents available:\n",
    "1. Delivery Agent – handles order status, delays, shipping, and address change issues.\n",
    "2. Billing Agent – handles refunds and payment failures.\n",
    "3. Technical Agent – handles connection problems, app crashes, and password reset.\n",
    "\n",
    "Your responsibilities:\n",
    "- Read the user's message carefully.\n",
    "- Identify the issue type and select ONE department that is best suited to handle it.\n",
    "- When confident, perform a HANDOFF to the selected department agent.\n",
    "- Once the handoff is done, do not continue processing the conversation.\n",
    "- If the message is unclear or does not match any known category, ask the user a short clarifying question before routing.\n",
    "- Never attempt to solve the problem yourself — your only job is to route messages.\n",
    "\n",
    "Response style:\n",
    "- Be concise and professional.\n",
    "- If clarification is needed, use a friendly and direct question.\n",
    "- If routing, state which department you’re routing to and then perform the handoff.\n",
    "\n",
    "Your only valid actions:\n",
    "- Ask for clarification, OR\n",
    "- Handoff to one of: DeliveryAgent, BillingAgent, TechAgent. OR\n",
    "- If the customer's problem can't be handled by the previous agents, ask for customer's email and send a notification using record_question tool\n",
    "\"\"\"\n",
    "\n",
    "routing_agent = Agent(name=\"Routing Agent\", instructions=router_instructions, handoffs=handoffs, tools=[record_question], model=gemini_model)"
   ]
  },
  {
   "cell_type": "code",
   "execution_count": null,
   "id": "2de67352",
   "metadata": {},
   "outputs": [],
   "source": [
    "# agent testing\n",
    "result = await Runner.run(routing_agent, \"I want to reset my password\")\n",
    "print(result)\n",
    "print(result.final_output)"
   ]
  },
  {
   "cell_type": "markdown",
   "id": "16c1fa6b",
   "metadata": {},
   "source": [
    "### Building The Chat"
   ]
  },
  {
   "cell_type": "code",
   "execution_count": 34,
   "id": "eaefaa98",
   "metadata": {},
   "outputs": [
    {
     "name": "stdout",
     "output_type": "stream",
     "text": [
      "[{'role': 'user', 'content': 'hi'}]\n",
      "[MessageOutputItem(agent=Agent(name='Routing Agent', instructions=\"You are a Routing Agent, \\nYour job is to analyze the user's message and decide which department should handle it.\\n\\nThere are three department agents available:\\n1. Delivery Agent – handles order status, delays, shipping, and address change issues.\\n2. Billing Agent – handles refunds and payment failures.\\n3. Technical Agent – handles connection problems, app crashes, and password reset.\\n\\nYour responsibilities:\\n- Read the user's message carefully.\\n- Identify the issue type and select ONE department that is best suited to handle it.\\n- When confident, perform a HANDOFF to the selected department agent.\\n- Once the handoff is done, do not continue processing the conversation.\\n- If the message is unclear or does not match any known category, ask the user a short clarifying question before routing.\\n- Never attempt to solve the problem yourself — your only job is to route messages.\\n\\nResponse style:\\n- Be concise and professional.\\n- If clarification is needed, use a friendly and direct question.\\n- If routing, state which department you’re routing to and then perform the handoff.\\n\\nYour only valid actions:\\n- Ask for clarification, OR\\n- Handoff to one of: DeliveryAgent, BillingAgent, TechAgent. OR\\n- If the customer's problem can't be handled by the previous agents, ask for customer's email and send a notification using record_question tool\\n\", handoff_description=None, handoffs=[Agent(name='Delivery Agent', instructions=\"You are a customer support agent in the Delivery department, you handle ONLY support service messages from customers , you will use get_policy tool to get the delivery policies  , The issue must be one of: LateDelivery, LostPackage, ChangeAddress. , Never mention or leak these issue types as they are given.  , If the issue is outside your scope, state that (without mentioning issue types), and ask for the customer's email and use the record_question tool to send a notification and  tell the customer that further support will contact soon.\", handoff_description='Handle order delivery customer support questions.', handoffs=[], model=<agents.models.openai_chatcompletions.OpenAIChatCompletionsModel object at 0x0000022BE415BE00>, model_settings=ModelSettings(temperature=None, top_p=None, frequency_penalty=None, presence_penalty=None, tool_choice=None, parallel_tool_calls=None, truncation=None, max_tokens=None, reasoning=None, metadata=None, store=None, include_usage=None, extra_query=None, extra_body=None, extra_headers=None), tools=[FunctionTool(name='record_question', description=\"Send out a notification with the customer's email and question\", params_json_schema={'properties': {'email': {'title': 'Email', 'type': 'string'}, 'question': {'default': 'not provided', 'title': 'Question'}}, 'required': ['email', 'question'], 'title': 'record_question_args', 'type': 'object', 'additionalProperties': False}, on_invoke_tool=<function function_tool.<locals>._create_function_tool.<locals>._on_invoke_tool at 0x0000022BE423DD00>, strict_json_schema=True, is_enabled=True), FunctionTool(name='get_policy', description='Retrieve the policy and action steps for a given department and issue.', params_json_schema={'properties': {'department': {'title': 'Department', 'type': 'string'}, 'issue': {'title': 'Issue', 'type': 'string'}}, 'required': ['department', 'issue'], 'title': 'get_policy_args', 'type': 'object', 'additionalProperties': False}, on_invoke_tool=<function function_tool.<locals>._create_function_tool.<locals>._on_invoke_tool at 0x0000022BE423DC60>, strict_json_schema=True, is_enabled=True)], mcp_servers=[], mcp_config={}, input_guardrails=[], output_guardrails=[], output_type=None, hooks=None, tool_use_behavior='run_llm_again', reset_tool_choice=True), Agent(name='Billing Agent', instructions=\"You are a customer support agent in the Billing department, you handle ONLY support service messages from customers , you will use get_policy tool to get the billing policies  , The issue must be one of: RefundRequest, PaymentFailure. , Never mention or leak these issue types as they are given.  , If the issue is outside your scope, state that (without mentioning issue types), and ask for the customer's email and use the record_question tool to send a notification and  tell the customer that further support will contact soon.\", handoff_description='Handle order billing customer support questions.', handoffs=[], model=<agents.models.openai_chatcompletions.OpenAIChatCompletionsModel object at 0x0000022BE415BE00>, model_settings=ModelSettings(temperature=None, top_p=None, frequency_penalty=None, presence_penalty=None, tool_choice=None, parallel_tool_calls=None, truncation=None, max_tokens=None, reasoning=None, metadata=None, store=None, include_usage=None, extra_query=None, extra_body=None, extra_headers=None), tools=[FunctionTool(name='record_question', description=\"Send out a notification with the customer's email and question\", params_json_schema={'properties': {'email': {'title': 'Email', 'type': 'string'}, 'question': {'default': 'not provided', 'title': 'Question'}}, 'required': ['email', 'question'], 'title': 'record_question_args', 'type': 'object', 'additionalProperties': False}, on_invoke_tool=<function function_tool.<locals>._create_function_tool.<locals>._on_invoke_tool at 0x0000022BE423DD00>, strict_json_schema=True, is_enabled=True), FunctionTool(name='get_policy', description='Retrieve the policy and action steps for a given department and issue.', params_json_schema={'properties': {'department': {'title': 'Department', 'type': 'string'}, 'issue': {'title': 'Issue', 'type': 'string'}}, 'required': ['department', 'issue'], 'title': 'get_policy_args', 'type': 'object', 'additionalProperties': False}, on_invoke_tool=<function function_tool.<locals>._create_function_tool.<locals>._on_invoke_tool at 0x0000022BE423DC60>, strict_json_schema=True, is_enabled=True)], mcp_servers=[], mcp_config={}, input_guardrails=[], output_guardrails=[], output_type=None, hooks=None, tool_use_behavior='run_llm_again', reset_tool_choice=True), Agent(name='Technical Agent', instructions='\"You are the Technical Support Agent in the company\\'s customer support system.\\n\\nYour role:\\n- Handle only *technical support* messages from customers.\\n- Maintain a professional, helpful, and concise tone.\\n\\nYour responsibilities:\\n1. Identify the technical issue the user describes.\\n   - The issue must be one of: ConnectionIssue, AppCrash, ForgotPassword.\\n   - Never reveal or mention these internal issue names explicitly.\\n2. Use the **get_policy** tool to retrieve and follow the relevant technical policy before replying.\\n3. If the user asks to reset their password:\\n   - Use the **send_password_reset_email** tool to send the reset link to their email.\\n   - Confirm to the user that the reset email has been sent.\\n4. If the issue is outside your technical scope:\\n   - Politely explain that the issue will be escalated.\\n   - Ask for the customer’s email (if not already provided).\\n   - Use the **record_question** tool to notify higher support.\\n   - Reassure the customer that further support will contact them soon.\\n', handoff_description='Handle technical customer support questions', handoffs=[], model=<agents.models.openai_chatcompletions.OpenAIChatCompletionsModel object at 0x0000022BE415BE00>, model_settings=ModelSettings(temperature=None, top_p=None, frequency_penalty=None, presence_penalty=None, tool_choice=None, parallel_tool_calls=None, truncation=None, max_tokens=None, reasoning=None, metadata=None, store=None, include_usage=None, extra_query=None, extra_body=None, extra_headers=None), tools=[FunctionTool(name='send_password_reset_email', description='Send out a password reset email to the given email', params_json_schema={'properties': {'email': {'title': 'Email', 'type': 'string'}}, 'required': ['email'], 'title': 'send_password_reset_email_args', 'type': 'object', 'additionalProperties': False}, on_invoke_tool=<function function_tool.<locals>._create_function_tool.<locals>._on_invoke_tool at 0x0000022BE4362B60>, strict_json_schema=True, is_enabled=True), FunctionTool(name='record_question', description=\"Send out a notification with the customer's email and question\", params_json_schema={'properties': {'email': {'title': 'Email', 'type': 'string'}, 'question': {'default': 'not provided', 'title': 'Question'}}, 'required': ['email', 'question'], 'title': 'record_question_args', 'type': 'object', 'additionalProperties': False}, on_invoke_tool=<function function_tool.<locals>._create_function_tool.<locals>._on_invoke_tool at 0x0000022BE423DD00>, strict_json_schema=True, is_enabled=True), FunctionTool(name='get_policy', description='Retrieve the policy and action steps for a given department and issue.', params_json_schema={'properties': {'department': {'title': 'Department', 'type': 'string'}, 'issue': {'title': 'Issue', 'type': 'string'}}, 'required': ['department', 'issue'], 'title': 'get_policy_args', 'type': 'object', 'additionalProperties': False}, on_invoke_tool=<function function_tool.<locals>._create_function_tool.<locals>._on_invoke_tool at 0x0000022BE423DC60>, strict_json_schema=True, is_enabled=True)], mcp_servers=[], mcp_config={}, input_guardrails=[], output_guardrails=[], output_type=None, hooks=None, tool_use_behavior='run_llm_again', reset_tool_choice=True)], model=<agents.models.openai_chatcompletions.OpenAIChatCompletionsModel object at 0x0000022BE415BE00>, model_settings=ModelSettings(temperature=None, top_p=None, frequency_penalty=None, presence_penalty=None, tool_choice=None, parallel_tool_calls=None, truncation=None, max_tokens=None, reasoning=None, metadata=None, store=None, include_usage=None, extra_query=None, extra_body=None, extra_headers=None), tools=[FunctionTool(name='record_question', description=\"Send out a notification with the customer's email and question\", params_json_schema={'properties': {'email': {'title': 'Email', 'type': 'string'}, 'question': {'default': 'not provided', 'title': 'Question'}}, 'required': ['email', 'question'], 'title': 'record_question_args', 'type': 'object', 'additionalProperties': False}, on_invoke_tool=<function function_tool.<locals>._create_function_tool.<locals>._on_invoke_tool at 0x0000022BE423DD00>, strict_json_schema=True, is_enabled=True)], mcp_servers=[], mcp_config={}, input_guardrails=[], output_guardrails=[], output_type=None, hooks=None, tool_use_behavior='run_llm_again', reset_tool_choice=True), raw_item=ResponseOutputMessage(id='__fake_id__', content=[ResponseOutputText(annotations=[], text='Hello! How can I help you today?\\n', type='output_text', logprobs=None)], role='assistant', status='completed', type='message'), type='message_output_item')]\n",
      "Routing Agent\n",
      "Hello! How can I help you today?\n",
      "\n",
      "[{'role': 'user', 'content': 'hi'}, {'role': 'assistant', 'content': 'Hello! How can I help you today?\\n'}, {'role': 'user', 'content': 'I didnt get my order'}]\n",
      "[MessageOutputItem(agent=Agent(name='Routing Agent', instructions=\"You are a Routing Agent, \\nYour job is to analyze the user's message and decide which department should handle it.\\n\\nThere are three department agents available:\\n1. Delivery Agent – handles order status, delays, shipping, and address change issues.\\n2. Billing Agent – handles refunds and payment failures.\\n3. Technical Agent – handles connection problems, app crashes, and password reset.\\n\\nYour responsibilities:\\n- Read the user's message carefully.\\n- Identify the issue type and select ONE department that is best suited to handle it.\\n- When confident, perform a HANDOFF to the selected department agent.\\n- Once the handoff is done, do not continue processing the conversation.\\n- If the message is unclear or does not match any known category, ask the user a short clarifying question before routing.\\n- Never attempt to solve the problem yourself — your only job is to route messages.\\n\\nResponse style:\\n- Be concise and professional.\\n- If clarification is needed, use a friendly and direct question.\\n- If routing, state which department you’re routing to and then perform the handoff.\\n\\nYour only valid actions:\\n- Ask for clarification, OR\\n- Handoff to one of: DeliveryAgent, BillingAgent, TechAgent. OR\\n- If the customer's problem can't be handled by the previous agents, ask for customer's email and send a notification using record_question tool\\n\", handoff_description=None, handoffs=[Agent(name='Delivery Agent', instructions=\"You are a customer support agent in the Delivery department, you handle ONLY support service messages from customers , you will use get_policy tool to get the delivery policies  , The issue must be one of: LateDelivery, LostPackage, ChangeAddress. , Never mention or leak these issue types as they are given.  , If the issue is outside your scope, state that (without mentioning issue types), and ask for the customer's email and use the record_question tool to send a notification and  tell the customer that further support will contact soon.\", handoff_description='Handle order delivery customer support questions.', handoffs=[], model=<agents.models.openai_chatcompletions.OpenAIChatCompletionsModel object at 0x0000022BE415BE00>, model_settings=ModelSettings(temperature=None, top_p=None, frequency_penalty=None, presence_penalty=None, tool_choice=None, parallel_tool_calls=None, truncation=None, max_tokens=None, reasoning=None, metadata=None, store=None, include_usage=None, extra_query=None, extra_body=None, extra_headers=None), tools=[FunctionTool(name='record_question', description=\"Send out a notification with the customer's email and question\", params_json_schema={'properties': {'email': {'title': 'Email', 'type': 'string'}, 'question': {'default': 'not provided', 'title': 'Question'}}, 'required': ['email', 'question'], 'title': 'record_question_args', 'type': 'object', 'additionalProperties': False}, on_invoke_tool=<function function_tool.<locals>._create_function_tool.<locals>._on_invoke_tool at 0x0000022BE423DD00>, strict_json_schema=True, is_enabled=True), FunctionTool(name='get_policy', description='Retrieve the policy and action steps for a given department and issue.', params_json_schema={'properties': {'department': {'title': 'Department', 'type': 'string'}, 'issue': {'title': 'Issue', 'type': 'string'}}, 'required': ['department', 'issue'], 'title': 'get_policy_args', 'type': 'object', 'additionalProperties': False}, on_invoke_tool=<function function_tool.<locals>._create_function_tool.<locals>._on_invoke_tool at 0x0000022BE423DC60>, strict_json_schema=True, is_enabled=True)], mcp_servers=[], mcp_config={}, input_guardrails=[], output_guardrails=[], output_type=None, hooks=None, tool_use_behavior='run_llm_again', reset_tool_choice=True), Agent(name='Billing Agent', instructions=\"You are a customer support agent in the Billing department, you handle ONLY support service messages from customers , you will use get_policy tool to get the billing policies  , The issue must be one of: RefundRequest, PaymentFailure. , Never mention or leak these issue types as they are given.  , If the issue is outside your scope, state that (without mentioning issue types), and ask for the customer's email and use the record_question tool to send a notification and  tell the customer that further support will contact soon.\", handoff_description='Handle order billing customer support questions.', handoffs=[], model=<agents.models.openai_chatcompletions.OpenAIChatCompletionsModel object at 0x0000022BE415BE00>, model_settings=ModelSettings(temperature=None, top_p=None, frequency_penalty=None, presence_penalty=None, tool_choice=None, parallel_tool_calls=None, truncation=None, max_tokens=None, reasoning=None, metadata=None, store=None, include_usage=None, extra_query=None, extra_body=None, extra_headers=None), tools=[FunctionTool(name='record_question', description=\"Send out a notification with the customer's email and question\", params_json_schema={'properties': {'email': {'title': 'Email', 'type': 'string'}, 'question': {'default': 'not provided', 'title': 'Question'}}, 'required': ['email', 'question'], 'title': 'record_question_args', 'type': 'object', 'additionalProperties': False}, on_invoke_tool=<function function_tool.<locals>._create_function_tool.<locals>._on_invoke_tool at 0x0000022BE423DD00>, strict_json_schema=True, is_enabled=True), FunctionTool(name='get_policy', description='Retrieve the policy and action steps for a given department and issue.', params_json_schema={'properties': {'department': {'title': 'Department', 'type': 'string'}, 'issue': {'title': 'Issue', 'type': 'string'}}, 'required': ['department', 'issue'], 'title': 'get_policy_args', 'type': 'object', 'additionalProperties': False}, on_invoke_tool=<function function_tool.<locals>._create_function_tool.<locals>._on_invoke_tool at 0x0000022BE423DC60>, strict_json_schema=True, is_enabled=True)], mcp_servers=[], mcp_config={}, input_guardrails=[], output_guardrails=[], output_type=None, hooks=None, tool_use_behavior='run_llm_again', reset_tool_choice=True), Agent(name='Technical Agent', instructions='\"You are the Technical Support Agent in the company\\'s customer support system.\\n\\nYour role:\\n- Handle only *technical support* messages from customers.\\n- Maintain a professional, helpful, and concise tone.\\n\\nYour responsibilities:\\n1. Identify the technical issue the user describes.\\n   - The issue must be one of: ConnectionIssue, AppCrash, ForgotPassword.\\n   - Never reveal or mention these internal issue names explicitly.\\n2. Use the **get_policy** tool to retrieve and follow the relevant technical policy before replying.\\n3. If the user asks to reset their password:\\n   - Use the **send_password_reset_email** tool to send the reset link to their email.\\n   - Confirm to the user that the reset email has been sent.\\n4. If the issue is outside your technical scope:\\n   - Politely explain that the issue will be escalated.\\n   - Ask for the customer’s email (if not already provided).\\n   - Use the **record_question** tool to notify higher support.\\n   - Reassure the customer that further support will contact them soon.\\n', handoff_description='Handle technical customer support questions', handoffs=[], model=<agents.models.openai_chatcompletions.OpenAIChatCompletionsModel object at 0x0000022BE415BE00>, model_settings=ModelSettings(temperature=None, top_p=None, frequency_penalty=None, presence_penalty=None, tool_choice=None, parallel_tool_calls=None, truncation=None, max_tokens=None, reasoning=None, metadata=None, store=None, include_usage=None, extra_query=None, extra_body=None, extra_headers=None), tools=[FunctionTool(name='send_password_reset_email', description='Send out a password reset email to the given email', params_json_schema={'properties': {'email': {'title': 'Email', 'type': 'string'}}, 'required': ['email'], 'title': 'send_password_reset_email_args', 'type': 'object', 'additionalProperties': False}, on_invoke_tool=<function function_tool.<locals>._create_function_tool.<locals>._on_invoke_tool at 0x0000022BE4362B60>, strict_json_schema=True, is_enabled=True), FunctionTool(name='record_question', description=\"Send out a notification with the customer's email and question\", params_json_schema={'properties': {'email': {'title': 'Email', 'type': 'string'}, 'question': {'default': 'not provided', 'title': 'Question'}}, 'required': ['email', 'question'], 'title': 'record_question_args', 'type': 'object', 'additionalProperties': False}, on_invoke_tool=<function function_tool.<locals>._create_function_tool.<locals>._on_invoke_tool at 0x0000022BE423DD00>, strict_json_schema=True, is_enabled=True), FunctionTool(name='get_policy', description='Retrieve the policy and action steps for a given department and issue.', params_json_schema={'properties': {'department': {'title': 'Department', 'type': 'string'}, 'issue': {'title': 'Issue', 'type': 'string'}}, 'required': ['department', 'issue'], 'title': 'get_policy_args', 'type': 'object', 'additionalProperties': False}, on_invoke_tool=<function function_tool.<locals>._create_function_tool.<locals>._on_invoke_tool at 0x0000022BE423DC60>, strict_json_schema=True, is_enabled=True)], mcp_servers=[], mcp_config={}, input_guardrails=[], output_guardrails=[], output_type=None, hooks=None, tool_use_behavior='run_llm_again', reset_tool_choice=True)], model=<agents.models.openai_chatcompletions.OpenAIChatCompletionsModel object at 0x0000022BE415BE00>, model_settings=ModelSettings(temperature=None, top_p=None, frequency_penalty=None, presence_penalty=None, tool_choice=None, parallel_tool_calls=None, truncation=None, max_tokens=None, reasoning=None, metadata=None, store=None, include_usage=None, extra_query=None, extra_body=None, extra_headers=None), tools=[FunctionTool(name='record_question', description=\"Send out a notification with the customer's email and question\", params_json_schema={'properties': {'email': {'title': 'Email', 'type': 'string'}, 'question': {'default': 'not provided', 'title': 'Question'}}, 'required': ['email', 'question'], 'title': 'record_question_args', 'type': 'object', 'additionalProperties': False}, on_invoke_tool=<function function_tool.<locals>._create_function_tool.<locals>._on_invoke_tool at 0x0000022BE423DD00>, strict_json_schema=True, is_enabled=True)], mcp_servers=[], mcp_config={}, input_guardrails=[], output_guardrails=[], output_type=None, hooks=None, tool_use_behavior='run_llm_again', reset_tool_choice=True), raw_item=ResponseOutputMessage(id='__fake_id__', content=[ResponseOutputText(annotations=[], text='Transferring to Delivery Agent.', type='output_text', logprobs=None)], role='assistant', status='completed', type='message'), type='message_output_item'), HandoffCallItem(agent=Agent(name='Routing Agent', instructions=\"You are a Routing Agent, \\nYour job is to analyze the user's message and decide which department should handle it.\\n\\nThere are three department agents available:\\n1. Delivery Agent – handles order status, delays, shipping, and address change issues.\\n2. Billing Agent – handles refunds and payment failures.\\n3. Technical Agent – handles connection problems, app crashes, and password reset.\\n\\nYour responsibilities:\\n- Read the user's message carefully.\\n- Identify the issue type and select ONE department that is best suited to handle it.\\n- When confident, perform a HANDOFF to the selected department agent.\\n- Once the handoff is done, do not continue processing the conversation.\\n- If the message is unclear or does not match any known category, ask the user a short clarifying question before routing.\\n- Never attempt to solve the problem yourself — your only job is to route messages.\\n\\nResponse style:\\n- Be concise and professional.\\n- If clarification is needed, use a friendly and direct question.\\n- If routing, state which department you’re routing to and then perform the handoff.\\n\\nYour only valid actions:\\n- Ask for clarification, OR\\n- Handoff to one of: DeliveryAgent, BillingAgent, TechAgent. OR\\n- If the customer's problem can't be handled by the previous agents, ask for customer's email and send a notification using record_question tool\\n\", handoff_description=None, handoffs=[Agent(name='Delivery Agent', instructions=\"You are a customer support agent in the Delivery department, you handle ONLY support service messages from customers , you will use get_policy tool to get the delivery policies  , The issue must be one of: LateDelivery, LostPackage, ChangeAddress. , Never mention or leak these issue types as they are given.  , If the issue is outside your scope, state that (without mentioning issue types), and ask for the customer's email and use the record_question tool to send a notification and  tell the customer that further support will contact soon.\", handoff_description='Handle order delivery customer support questions.', handoffs=[], model=<agents.models.openai_chatcompletions.OpenAIChatCompletionsModel object at 0x0000022BE415BE00>, model_settings=ModelSettings(temperature=None, top_p=None, frequency_penalty=None, presence_penalty=None, tool_choice=None, parallel_tool_calls=None, truncation=None, max_tokens=None, reasoning=None, metadata=None, store=None, include_usage=None, extra_query=None, extra_body=None, extra_headers=None), tools=[FunctionTool(name='record_question', description=\"Send out a notification with the customer's email and question\", params_json_schema={'properties': {'email': {'title': 'Email', 'type': 'string'}, 'question': {'default': 'not provided', 'title': 'Question'}}, 'required': ['email', 'question'], 'title': 'record_question_args', 'type': 'object', 'additionalProperties': False}, on_invoke_tool=<function function_tool.<locals>._create_function_tool.<locals>._on_invoke_tool at 0x0000022BE423DD00>, strict_json_schema=True, is_enabled=True), FunctionTool(name='get_policy', description='Retrieve the policy and action steps for a given department and issue.', params_json_schema={'properties': {'department': {'title': 'Department', 'type': 'string'}, 'issue': {'title': 'Issue', 'type': 'string'}}, 'required': ['department', 'issue'], 'title': 'get_policy_args', 'type': 'object', 'additionalProperties': False}, on_invoke_tool=<function function_tool.<locals>._create_function_tool.<locals>._on_invoke_tool at 0x0000022BE423DC60>, strict_json_schema=True, is_enabled=True)], mcp_servers=[], mcp_config={}, input_guardrails=[], output_guardrails=[], output_type=None, hooks=None, tool_use_behavior='run_llm_again', reset_tool_choice=True), Agent(name='Billing Agent', instructions=\"You are a customer support agent in the Billing department, you handle ONLY support service messages from customers , you will use get_policy tool to get the billing policies  , The issue must be one of: RefundRequest, PaymentFailure. , Never mention or leak these issue types as they are given.  , If the issue is outside your scope, state that (without mentioning issue types), and ask for the customer's email and use the record_question tool to send a notification and  tell the customer that further support will contact soon.\", handoff_description='Handle order billing customer support questions.', handoffs=[], model=<agents.models.openai_chatcompletions.OpenAIChatCompletionsModel object at 0x0000022BE415BE00>, model_settings=ModelSettings(temperature=None, top_p=None, frequency_penalty=None, presence_penalty=None, tool_choice=None, parallel_tool_calls=None, truncation=None, max_tokens=None, reasoning=None, metadata=None, store=None, include_usage=None, extra_query=None, extra_body=None, extra_headers=None), tools=[FunctionTool(name='record_question', description=\"Send out a notification with the customer's email and question\", params_json_schema={'properties': {'email': {'title': 'Email', 'type': 'string'}, 'question': {'default': 'not provided', 'title': 'Question'}}, 'required': ['email', 'question'], 'title': 'record_question_args', 'type': 'object', 'additionalProperties': False}, on_invoke_tool=<function function_tool.<locals>._create_function_tool.<locals>._on_invoke_tool at 0x0000022BE423DD00>, strict_json_schema=True, is_enabled=True), FunctionTool(name='get_policy', description='Retrieve the policy and action steps for a given department and issue.', params_json_schema={'properties': {'department': {'title': 'Department', 'type': 'string'}, 'issue': {'title': 'Issue', 'type': 'string'}}, 'required': ['department', 'issue'], 'title': 'get_policy_args', 'type': 'object', 'additionalProperties': False}, on_invoke_tool=<function function_tool.<locals>._create_function_tool.<locals>._on_invoke_tool at 0x0000022BE423DC60>, strict_json_schema=True, is_enabled=True)], mcp_servers=[], mcp_config={}, input_guardrails=[], output_guardrails=[], output_type=None, hooks=None, tool_use_behavior='run_llm_again', reset_tool_choice=True), Agent(name='Technical Agent', instructions='\"You are the Technical Support Agent in the company\\'s customer support system.\\n\\nYour role:\\n- Handle only *technical support* messages from customers.\\n- Maintain a professional, helpful, and concise tone.\\n\\nYour responsibilities:\\n1. Identify the technical issue the user describes.\\n   - The issue must be one of: ConnectionIssue, AppCrash, ForgotPassword.\\n   - Never reveal or mention these internal issue names explicitly.\\n2. Use the **get_policy** tool to retrieve and follow the relevant technical policy before replying.\\n3. If the user asks to reset their password:\\n   - Use the **send_password_reset_email** tool to send the reset link to their email.\\n   - Confirm to the user that the reset email has been sent.\\n4. If the issue is outside your technical scope:\\n   - Politely explain that the issue will be escalated.\\n   - Ask for the customer’s email (if not already provided).\\n   - Use the **record_question** tool to notify higher support.\\n   - Reassure the customer that further support will contact them soon.\\n', handoff_description='Handle technical customer support questions', handoffs=[], model=<agents.models.openai_chatcompletions.OpenAIChatCompletionsModel object at 0x0000022BE415BE00>, model_settings=ModelSettings(temperature=None, top_p=None, frequency_penalty=None, presence_penalty=None, tool_choice=None, parallel_tool_calls=None, truncation=None, max_tokens=None, reasoning=None, metadata=None, store=None, include_usage=None, extra_query=None, extra_body=None, extra_headers=None), tools=[FunctionTool(name='send_password_reset_email', description='Send out a password reset email to the given email', params_json_schema={'properties': {'email': {'title': 'Email', 'type': 'string'}}, 'required': ['email'], 'title': 'send_password_reset_email_args', 'type': 'object', 'additionalProperties': False}, on_invoke_tool=<function function_tool.<locals>._create_function_tool.<locals>._on_invoke_tool at 0x0000022BE4362B60>, strict_json_schema=True, is_enabled=True), FunctionTool(name='record_question', description=\"Send out a notification with the customer's email and question\", params_json_schema={'properties': {'email': {'title': 'Email', 'type': 'string'}, 'question': {'default': 'not provided', 'title': 'Question'}}, 'required': ['email', 'question'], 'title': 'record_question_args', 'type': 'object', 'additionalProperties': False}, on_invoke_tool=<function function_tool.<locals>._create_function_tool.<locals>._on_invoke_tool at 0x0000022BE423DD00>, strict_json_schema=True, is_enabled=True), FunctionTool(name='get_policy', description='Retrieve the policy and action steps for a given department and issue.', params_json_schema={'properties': {'department': {'title': 'Department', 'type': 'string'}, 'issue': {'title': 'Issue', 'type': 'string'}}, 'required': ['department', 'issue'], 'title': 'get_policy_args', 'type': 'object', 'additionalProperties': False}, on_invoke_tool=<function function_tool.<locals>._create_function_tool.<locals>._on_invoke_tool at 0x0000022BE423DC60>, strict_json_schema=True, is_enabled=True)], mcp_servers=[], mcp_config={}, input_guardrails=[], output_guardrails=[], output_type=None, hooks=None, tool_use_behavior='run_llm_again', reset_tool_choice=True)], model=<agents.models.openai_chatcompletions.OpenAIChatCompletionsModel object at 0x0000022BE415BE00>, model_settings=ModelSettings(temperature=None, top_p=None, frequency_penalty=None, presence_penalty=None, tool_choice=None, parallel_tool_calls=None, truncation=None, max_tokens=None, reasoning=None, metadata=None, store=None, include_usage=None, extra_query=None, extra_body=None, extra_headers=None), tools=[FunctionTool(name='record_question', description=\"Send out a notification with the customer's email and question\", params_json_schema={'properties': {'email': {'title': 'Email', 'type': 'string'}, 'question': {'default': 'not provided', 'title': 'Question'}}, 'required': ['email', 'question'], 'title': 'record_question_args', 'type': 'object', 'additionalProperties': False}, on_invoke_tool=<function function_tool.<locals>._create_function_tool.<locals>._on_invoke_tool at 0x0000022BE423DD00>, strict_json_schema=True, is_enabled=True)], mcp_servers=[], mcp_config={}, input_guardrails=[], output_guardrails=[], output_type=None, hooks=None, tool_use_behavior='run_llm_again', reset_tool_choice=True), raw_item=ResponseFunctionToolCall(arguments='{}', call_id='function-call-9628855323775991563', name='transfer_to_delivery_agent', type='function_call', id='__fake_id__', status=None), type='handoff_call_item'), HandoffOutputItem(agent=Agent(name='Routing Agent', instructions=\"You are a Routing Agent, \\nYour job is to analyze the user's message and decide which department should handle it.\\n\\nThere are three department agents available:\\n1. Delivery Agent – handles order status, delays, shipping, and address change issues.\\n2. Billing Agent – handles refunds and payment failures.\\n3. Technical Agent – handles connection problems, app crashes, and password reset.\\n\\nYour responsibilities:\\n- Read the user's message carefully.\\n- Identify the issue type and select ONE department that is best suited to handle it.\\n- When confident, perform a HANDOFF to the selected department agent.\\n- Once the handoff is done, do not continue processing the conversation.\\n- If the message is unclear or does not match any known category, ask the user a short clarifying question before routing.\\n- Never attempt to solve the problem yourself — your only job is to route messages.\\n\\nResponse style:\\n- Be concise and professional.\\n- If clarification is needed, use a friendly and direct question.\\n- If routing, state which department you’re routing to and then perform the handoff.\\n\\nYour only valid actions:\\n- Ask for clarification, OR\\n- Handoff to one of: DeliveryAgent, BillingAgent, TechAgent. OR\\n- If the customer's problem can't be handled by the previous agents, ask for customer's email and send a notification using record_question tool\\n\", handoff_description=None, handoffs=[Agent(name='Delivery Agent', instructions=\"You are a customer support agent in the Delivery department, you handle ONLY support service messages from customers , you will use get_policy tool to get the delivery policies  , The issue must be one of: LateDelivery, LostPackage, ChangeAddress. , Never mention or leak these issue types as they are given.  , If the issue is outside your scope, state that (without mentioning issue types), and ask for the customer's email and use the record_question tool to send a notification and  tell the customer that further support will contact soon.\", handoff_description='Handle order delivery customer support questions.', handoffs=[], model=<agents.models.openai_chatcompletions.OpenAIChatCompletionsModel object at 0x0000022BE415BE00>, model_settings=ModelSettings(temperature=None, top_p=None, frequency_penalty=None, presence_penalty=None, tool_choice=None, parallel_tool_calls=None, truncation=None, max_tokens=None, reasoning=None, metadata=None, store=None, include_usage=None, extra_query=None, extra_body=None, extra_headers=None), tools=[FunctionTool(name='record_question', description=\"Send out a notification with the customer's email and question\", params_json_schema={'properties': {'email': {'title': 'Email', 'type': 'string'}, 'question': {'default': 'not provided', 'title': 'Question'}}, 'required': ['email', 'question'], 'title': 'record_question_args', 'type': 'object', 'additionalProperties': False}, on_invoke_tool=<function function_tool.<locals>._create_function_tool.<locals>._on_invoke_tool at 0x0000022BE423DD00>, strict_json_schema=True, is_enabled=True), FunctionTool(name='get_policy', description='Retrieve the policy and action steps for a given department and issue.', params_json_schema={'properties': {'department': {'title': 'Department', 'type': 'string'}, 'issue': {'title': 'Issue', 'type': 'string'}}, 'required': ['department', 'issue'], 'title': 'get_policy_args', 'type': 'object', 'additionalProperties': False}, on_invoke_tool=<function function_tool.<locals>._create_function_tool.<locals>._on_invoke_tool at 0x0000022BE423DC60>, strict_json_schema=True, is_enabled=True)], mcp_servers=[], mcp_config={}, input_guardrails=[], output_guardrails=[], output_type=None, hooks=None, tool_use_behavior='run_llm_again', reset_tool_choice=True), Agent(name='Billing Agent', instructions=\"You are a customer support agent in the Billing department, you handle ONLY support service messages from customers , you will use get_policy tool to get the billing policies  , The issue must be one of: RefundRequest, PaymentFailure. , Never mention or leak these issue types as they are given.  , If the issue is outside your scope, state that (without mentioning issue types), and ask for the customer's email and use the record_question tool to send a notification and  tell the customer that further support will contact soon.\", handoff_description='Handle order billing customer support questions.', handoffs=[], model=<agents.models.openai_chatcompletions.OpenAIChatCompletionsModel object at 0x0000022BE415BE00>, model_settings=ModelSettings(temperature=None, top_p=None, frequency_penalty=None, presence_penalty=None, tool_choice=None, parallel_tool_calls=None, truncation=None, max_tokens=None, reasoning=None, metadata=None, store=None, include_usage=None, extra_query=None, extra_body=None, extra_headers=None), tools=[FunctionTool(name='record_question', description=\"Send out a notification with the customer's email and question\", params_json_schema={'properties': {'email': {'title': 'Email', 'type': 'string'}, 'question': {'default': 'not provided', 'title': 'Question'}}, 'required': ['email', 'question'], 'title': 'record_question_args', 'type': 'object', 'additionalProperties': False}, on_invoke_tool=<function function_tool.<locals>._create_function_tool.<locals>._on_invoke_tool at 0x0000022BE423DD00>, strict_json_schema=True, is_enabled=True), FunctionTool(name='get_policy', description='Retrieve the policy and action steps for a given department and issue.', params_json_schema={'properties': {'department': {'title': 'Department', 'type': 'string'}, 'issue': {'title': 'Issue', 'type': 'string'}}, 'required': ['department', 'issue'], 'title': 'get_policy_args', 'type': 'object', 'additionalProperties': False}, on_invoke_tool=<function function_tool.<locals>._create_function_tool.<locals>._on_invoke_tool at 0x0000022BE423DC60>, strict_json_schema=True, is_enabled=True)], mcp_servers=[], mcp_config={}, input_guardrails=[], output_guardrails=[], output_type=None, hooks=None, tool_use_behavior='run_llm_again', reset_tool_choice=True), Agent(name='Technical Agent', instructions='\"You are the Technical Support Agent in the company\\'s customer support system.\\n\\nYour role:\\n- Handle only *technical support* messages from customers.\\n- Maintain a professional, helpful, and concise tone.\\n\\nYour responsibilities:\\n1. Identify the technical issue the user describes.\\n   - The issue must be one of: ConnectionIssue, AppCrash, ForgotPassword.\\n   - Never reveal or mention these internal issue names explicitly.\\n2. Use the **get_policy** tool to retrieve and follow the relevant technical policy before replying.\\n3. If the user asks to reset their password:\\n   - Use the **send_password_reset_email** tool to send the reset link to their email.\\n   - Confirm to the user that the reset email has been sent.\\n4. If the issue is outside your technical scope:\\n   - Politely explain that the issue will be escalated.\\n   - Ask for the customer’s email (if not already provided).\\n   - Use the **record_question** tool to notify higher support.\\n   - Reassure the customer that further support will contact them soon.\\n', handoff_description='Handle technical customer support questions', handoffs=[], model=<agents.models.openai_chatcompletions.OpenAIChatCompletionsModel object at 0x0000022BE415BE00>, model_settings=ModelSettings(temperature=None, top_p=None, frequency_penalty=None, presence_penalty=None, tool_choice=None, parallel_tool_calls=None, truncation=None, max_tokens=None, reasoning=None, metadata=None, store=None, include_usage=None, extra_query=None, extra_body=None, extra_headers=None), tools=[FunctionTool(name='send_password_reset_email', description='Send out a password reset email to the given email', params_json_schema={'properties': {'email': {'title': 'Email', 'type': 'string'}}, 'required': ['email'], 'title': 'send_password_reset_email_args', 'type': 'object', 'additionalProperties': False}, on_invoke_tool=<function function_tool.<locals>._create_function_tool.<locals>._on_invoke_tool at 0x0000022BE4362B60>, strict_json_schema=True, is_enabled=True), FunctionTool(name='record_question', description=\"Send out a notification with the customer's email and question\", params_json_schema={'properties': {'email': {'title': 'Email', 'type': 'string'}, 'question': {'default': 'not provided', 'title': 'Question'}}, 'required': ['email', 'question'], 'title': 'record_question_args', 'type': 'object', 'additionalProperties': False}, on_invoke_tool=<function function_tool.<locals>._create_function_tool.<locals>._on_invoke_tool at 0x0000022BE423DD00>, strict_json_schema=True, is_enabled=True), FunctionTool(name='get_policy', description='Retrieve the policy and action steps for a given department and issue.', params_json_schema={'properties': {'department': {'title': 'Department', 'type': 'string'}, 'issue': {'title': 'Issue', 'type': 'string'}}, 'required': ['department', 'issue'], 'title': 'get_policy_args', 'type': 'object', 'additionalProperties': False}, on_invoke_tool=<function function_tool.<locals>._create_function_tool.<locals>._on_invoke_tool at 0x0000022BE423DC60>, strict_json_schema=True, is_enabled=True)], mcp_servers=[], mcp_config={}, input_guardrails=[], output_guardrails=[], output_type=None, hooks=None, tool_use_behavior='run_llm_again', reset_tool_choice=True)], model=<agents.models.openai_chatcompletions.OpenAIChatCompletionsModel object at 0x0000022BE415BE00>, model_settings=ModelSettings(temperature=None, top_p=None, frequency_penalty=None, presence_penalty=None, tool_choice=None, parallel_tool_calls=None, truncation=None, max_tokens=None, reasoning=None, metadata=None, store=None, include_usage=None, extra_query=None, extra_body=None, extra_headers=None), tools=[FunctionTool(name='record_question', description=\"Send out a notification with the customer's email and question\", params_json_schema={'properties': {'email': {'title': 'Email', 'type': 'string'}, 'question': {'default': 'not provided', 'title': 'Question'}}, 'required': ['email', 'question'], 'title': 'record_question_args', 'type': 'object', 'additionalProperties': False}, on_invoke_tool=<function function_tool.<locals>._create_function_tool.<locals>._on_invoke_tool at 0x0000022BE423DD00>, strict_json_schema=True, is_enabled=True)], mcp_servers=[], mcp_config={}, input_guardrails=[], output_guardrails=[], output_type=None, hooks=None, tool_use_behavior='run_llm_again', reset_tool_choice=True), raw_item={'call_id': 'function-call-9628855323775991563', 'output': \"{'assistant': 'Delivery Agent'}\", 'type': 'function_call_output'}, source_agent=Agent(name='Routing Agent', instructions=\"You are a Routing Agent, \\nYour job is to analyze the user's message and decide which department should handle it.\\n\\nThere are three department agents available:\\n1. Delivery Agent – handles order status, delays, shipping, and address change issues.\\n2. Billing Agent – handles refunds and payment failures.\\n3. Technical Agent – handles connection problems, app crashes, and password reset.\\n\\nYour responsibilities:\\n- Read the user's message carefully.\\n- Identify the issue type and select ONE department that is best suited to handle it.\\n- When confident, perform a HANDOFF to the selected department agent.\\n- Once the handoff is done, do not continue processing the conversation.\\n- If the message is unclear or does not match any known category, ask the user a short clarifying question before routing.\\n- Never attempt to solve the problem yourself — your only job is to route messages.\\n\\nResponse style:\\n- Be concise and professional.\\n- If clarification is needed, use a friendly and direct question.\\n- If routing, state which department you’re routing to and then perform the handoff.\\n\\nYour only valid actions:\\n- Ask for clarification, OR\\n- Handoff to one of: DeliveryAgent, BillingAgent, TechAgent. OR\\n- If the customer's problem can't be handled by the previous agents, ask for customer's email and send a notification using record_question tool\\n\", handoff_description=None, handoffs=[Agent(name='Delivery Agent', instructions=\"You are a customer support agent in the Delivery department, you handle ONLY support service messages from customers , you will use get_policy tool to get the delivery policies  , The issue must be one of: LateDelivery, LostPackage, ChangeAddress. , Never mention or leak these issue types as they are given.  , If the issue is outside your scope, state that (without mentioning issue types), and ask for the customer's email and use the record_question tool to send a notification and  tell the customer that further support will contact soon.\", handoff_description='Handle order delivery customer support questions.', handoffs=[], model=<agents.models.openai_chatcompletions.OpenAIChatCompletionsModel object at 0x0000022BE415BE00>, model_settings=ModelSettings(temperature=None, top_p=None, frequency_penalty=None, presence_penalty=None, tool_choice=None, parallel_tool_calls=None, truncation=None, max_tokens=None, reasoning=None, metadata=None, store=None, include_usage=None, extra_query=None, extra_body=None, extra_headers=None), tools=[FunctionTool(name='record_question', description=\"Send out a notification with the customer's email and question\", params_json_schema={'properties': {'email': {'title': 'Email', 'type': 'string'}, 'question': {'default': 'not provided', 'title': 'Question'}}, 'required': ['email', 'question'], 'title': 'record_question_args', 'type': 'object', 'additionalProperties': False}, on_invoke_tool=<function function_tool.<locals>._create_function_tool.<locals>._on_invoke_tool at 0x0000022BE423DD00>, strict_json_schema=True, is_enabled=True), FunctionTool(name='get_policy', description='Retrieve the policy and action steps for a given department and issue.', params_json_schema={'properties': {'department': {'title': 'Department', 'type': 'string'}, 'issue': {'title': 'Issue', 'type': 'string'}}, 'required': ['department', 'issue'], 'title': 'get_policy_args', 'type': 'object', 'additionalProperties': False}, on_invoke_tool=<function function_tool.<locals>._create_function_tool.<locals>._on_invoke_tool at 0x0000022BE423DC60>, strict_json_schema=True, is_enabled=True)], mcp_servers=[], mcp_config={}, input_guardrails=[], output_guardrails=[], output_type=None, hooks=None, tool_use_behavior='run_llm_again', reset_tool_choice=True), Agent(name='Billing Agent', instructions=\"You are a customer support agent in the Billing department, you handle ONLY support service messages from customers , you will use get_policy tool to get the billing policies  , The issue must be one of: RefundRequest, PaymentFailure. , Never mention or leak these issue types as they are given.  , If the issue is outside your scope, state that (without mentioning issue types), and ask for the customer's email and use the record_question tool to send a notification and  tell the customer that further support will contact soon.\", handoff_description='Handle order billing customer support questions.', handoffs=[], model=<agents.models.openai_chatcompletions.OpenAIChatCompletionsModel object at 0x0000022BE415BE00>, model_settings=ModelSettings(temperature=None, top_p=None, frequency_penalty=None, presence_penalty=None, tool_choice=None, parallel_tool_calls=None, truncation=None, max_tokens=None, reasoning=None, metadata=None, store=None, include_usage=None, extra_query=None, extra_body=None, extra_headers=None), tools=[FunctionTool(name='record_question', description=\"Send out a notification with the customer's email and question\", params_json_schema={'properties': {'email': {'title': 'Email', 'type': 'string'}, 'question': {'default': 'not provided', 'title': 'Question'}}, 'required': ['email', 'question'], 'title': 'record_question_args', 'type': 'object', 'additionalProperties': False}, on_invoke_tool=<function function_tool.<locals>._create_function_tool.<locals>._on_invoke_tool at 0x0000022BE423DD00>, strict_json_schema=True, is_enabled=True), FunctionTool(name='get_policy', description='Retrieve the policy and action steps for a given department and issue.', params_json_schema={'properties': {'department': {'title': 'Department', 'type': 'string'}, 'issue': {'title': 'Issue', 'type': 'string'}}, 'required': ['department', 'issue'], 'title': 'get_policy_args', 'type': 'object', 'additionalProperties': False}, on_invoke_tool=<function function_tool.<locals>._create_function_tool.<locals>._on_invoke_tool at 0x0000022BE423DC60>, strict_json_schema=True, is_enabled=True)], mcp_servers=[], mcp_config={}, input_guardrails=[], output_guardrails=[], output_type=None, hooks=None, tool_use_behavior='run_llm_again', reset_tool_choice=True), Agent(name='Technical Agent', instructions='\"You are the Technical Support Agent in the company\\'s customer support system.\\n\\nYour role:\\n- Handle only *technical support* messages from customers.\\n- Maintain a professional, helpful, and concise tone.\\n\\nYour responsibilities:\\n1. Identify the technical issue the user describes.\\n   - The issue must be one of: ConnectionIssue, AppCrash, ForgotPassword.\\n   - Never reveal or mention these internal issue names explicitly.\\n2. Use the **get_policy** tool to retrieve and follow the relevant technical policy before replying.\\n3. If the user asks to reset their password:\\n   - Use the **send_password_reset_email** tool to send the reset link to their email.\\n   - Confirm to the user that the reset email has been sent.\\n4. If the issue is outside your technical scope:\\n   - Politely explain that the issue will be escalated.\\n   - Ask for the customer’s email (if not already provided).\\n   - Use the **record_question** tool to notify higher support.\\n   - Reassure the customer that further support will contact them soon.\\n', handoff_description='Handle technical customer support questions', handoffs=[], model=<agents.models.openai_chatcompletions.OpenAIChatCompletionsModel object at 0x0000022BE415BE00>, model_settings=ModelSettings(temperature=None, top_p=None, frequency_penalty=None, presence_penalty=None, tool_choice=None, parallel_tool_calls=None, truncation=None, max_tokens=None, reasoning=None, metadata=None, store=None, include_usage=None, extra_query=None, extra_body=None, extra_headers=None), tools=[FunctionTool(name='send_password_reset_email', description='Send out a password reset email to the given email', params_json_schema={'properties': {'email': {'title': 'Email', 'type': 'string'}}, 'required': ['email'], 'title': 'send_password_reset_email_args', 'type': 'object', 'additionalProperties': False}, on_invoke_tool=<function function_tool.<locals>._create_function_tool.<locals>._on_invoke_tool at 0x0000022BE4362B60>, strict_json_schema=True, is_enabled=True), FunctionTool(name='record_question', description=\"Send out a notification with the customer's email and question\", params_json_schema={'properties': {'email': {'title': 'Email', 'type': 'string'}, 'question': {'default': 'not provided', 'title': 'Question'}}, 'required': ['email', 'question'], 'title': 'record_question_args', 'type': 'object', 'additionalProperties': False}, on_invoke_tool=<function function_tool.<locals>._create_function_tool.<locals>._on_invoke_tool at 0x0000022BE423DD00>, strict_json_schema=True, is_enabled=True), FunctionTool(name='get_policy', description='Retrieve the policy and action steps for a given department and issue.', params_json_schema={'properties': {'department': {'title': 'Department', 'type': 'string'}, 'issue': {'title': 'Issue', 'type': 'string'}}, 'required': ['department', 'issue'], 'title': 'get_policy_args', 'type': 'object', 'additionalProperties': False}, on_invoke_tool=<function function_tool.<locals>._create_function_tool.<locals>._on_invoke_tool at 0x0000022BE423DC60>, strict_json_schema=True, is_enabled=True)], mcp_servers=[], mcp_config={}, input_guardrails=[], output_guardrails=[], output_type=None, hooks=None, tool_use_behavior='run_llm_again', reset_tool_choice=True)], model=<agents.models.openai_chatcompletions.OpenAIChatCompletionsModel object at 0x0000022BE415BE00>, model_settings=ModelSettings(temperature=None, top_p=None, frequency_penalty=None, presence_penalty=None, tool_choice=None, parallel_tool_calls=None, truncation=None, max_tokens=None, reasoning=None, metadata=None, store=None, include_usage=None, extra_query=None, extra_body=None, extra_headers=None), tools=[FunctionTool(name='record_question', description=\"Send out a notification with the customer's email and question\", params_json_schema={'properties': {'email': {'title': 'Email', 'type': 'string'}, 'question': {'default': 'not provided', 'title': 'Question'}}, 'required': ['email', 'question'], 'title': 'record_question_args', 'type': 'object', 'additionalProperties': False}, on_invoke_tool=<function function_tool.<locals>._create_function_tool.<locals>._on_invoke_tool at 0x0000022BE423DD00>, strict_json_schema=True, is_enabled=True)], mcp_servers=[], mcp_config={}, input_guardrails=[], output_guardrails=[], output_type=None, hooks=None, tool_use_behavior='run_llm_again', reset_tool_choice=True), target_agent=Agent(name='Delivery Agent', instructions=\"You are a customer support agent in the Delivery department, you handle ONLY support service messages from customers , you will use get_policy tool to get the delivery policies  , The issue must be one of: LateDelivery, LostPackage, ChangeAddress. , Never mention or leak these issue types as they are given.  , If the issue is outside your scope, state that (without mentioning issue types), and ask for the customer's email and use the record_question tool to send a notification and  tell the customer that further support will contact soon.\", handoff_description='Handle order delivery customer support questions.', handoffs=[], model=<agents.models.openai_chatcompletions.OpenAIChatCompletionsModel object at 0x0000022BE415BE00>, model_settings=ModelSettings(temperature=None, top_p=None, frequency_penalty=None, presence_penalty=None, tool_choice=None, parallel_tool_calls=None, truncation=None, max_tokens=None, reasoning=None, metadata=None, store=None, include_usage=None, extra_query=None, extra_body=None, extra_headers=None), tools=[FunctionTool(name='record_question', description=\"Send out a notification with the customer's email and question\", params_json_schema={'properties': {'email': {'title': 'Email', 'type': 'string'}, 'question': {'default': 'not provided', 'title': 'Question'}}, 'required': ['email', 'question'], 'title': 'record_question_args', 'type': 'object', 'additionalProperties': False}, on_invoke_tool=<function function_tool.<locals>._create_function_tool.<locals>._on_invoke_tool at 0x0000022BE423DD00>, strict_json_schema=True, is_enabled=True), FunctionTool(name='get_policy', description='Retrieve the policy and action steps for a given department and issue.', params_json_schema={'properties': {'department': {'title': 'Department', 'type': 'string'}, 'issue': {'title': 'Issue', 'type': 'string'}}, 'required': ['department', 'issue'], 'title': 'get_policy_args', 'type': 'object', 'additionalProperties': False}, on_invoke_tool=<function function_tool.<locals>._create_function_tool.<locals>._on_invoke_tool at 0x0000022BE423DC60>, strict_json_schema=True, is_enabled=True)], mcp_servers=[], mcp_config={}, input_guardrails=[], output_guardrails=[], output_type=None, hooks=None, tool_use_behavior='run_llm_again', reset_tool_choice=True), type='handoff_output_item'), ToolCallItem(agent=Agent(name='Delivery Agent', instructions=\"You are a customer support agent in the Delivery department, you handle ONLY support service messages from customers , you will use get_policy tool to get the delivery policies  , The issue must be one of: LateDelivery, LostPackage, ChangeAddress. , Never mention or leak these issue types as they are given.  , If the issue is outside your scope, state that (without mentioning issue types), and ask for the customer's email and use the record_question tool to send a notification and  tell the customer that further support will contact soon.\", handoff_description='Handle order delivery customer support questions.', handoffs=[], model=<agents.models.openai_chatcompletions.OpenAIChatCompletionsModel object at 0x0000022BE415BE00>, model_settings=ModelSettings(temperature=None, top_p=None, frequency_penalty=None, presence_penalty=None, tool_choice=None, parallel_tool_calls=None, truncation=None, max_tokens=None, reasoning=None, metadata=None, store=None, include_usage=None, extra_query=None, extra_body=None, extra_headers=None), tools=[FunctionTool(name='record_question', description=\"Send out a notification with the customer's email and question\", params_json_schema={'properties': {'email': {'title': 'Email', 'type': 'string'}, 'question': {'default': 'not provided', 'title': 'Question'}}, 'required': ['email', 'question'], 'title': 'record_question_args', 'type': 'object', 'additionalProperties': False}, on_invoke_tool=<function function_tool.<locals>._create_function_tool.<locals>._on_invoke_tool at 0x0000022BE423DD00>, strict_json_schema=True, is_enabled=True), FunctionTool(name='get_policy', description='Retrieve the policy and action steps for a given department and issue.', params_json_schema={'properties': {'department': {'title': 'Department', 'type': 'string'}, 'issue': {'title': 'Issue', 'type': 'string'}}, 'required': ['department', 'issue'], 'title': 'get_policy_args', 'type': 'object', 'additionalProperties': False}, on_invoke_tool=<function function_tool.<locals>._create_function_tool.<locals>._on_invoke_tool at 0x0000022BE423DC60>, strict_json_schema=True, is_enabled=True)], mcp_servers=[], mcp_config={}, input_guardrails=[], output_guardrails=[], output_type=None, hooks=None, tool_use_behavior='run_llm_again', reset_tool_choice=True), raw_item=ResponseFunctionToolCall(arguments='{\"department\":\"Delivery\",\"issue\":\"LostPackage\"}', call_id='function-call-12221942168967775024', name='get_policy', type='function_call', id='__fake_id__', status=None), type='tool_call_item'), ToolCallOutputItem(agent=Agent(name='Delivery Agent', instructions=\"You are a customer support agent in the Delivery department, you handle ONLY support service messages from customers , you will use get_policy tool to get the delivery policies  , The issue must be one of: LateDelivery, LostPackage, ChangeAddress. , Never mention or leak these issue types as they are given.  , If the issue is outside your scope, state that (without mentioning issue types), and ask for the customer's email and use the record_question tool to send a notification and  tell the customer that further support will contact soon.\", handoff_description='Handle order delivery customer support questions.', handoffs=[], model=<agents.models.openai_chatcompletions.OpenAIChatCompletionsModel object at 0x0000022BE415BE00>, model_settings=ModelSettings(temperature=None, top_p=None, frequency_penalty=None, presence_penalty=None, tool_choice=None, parallel_tool_calls=None, truncation=None, max_tokens=None, reasoning=None, metadata=None, store=None, include_usage=None, extra_query=None, extra_body=None, extra_headers=None), tools=[FunctionTool(name='record_question', description=\"Send out a notification with the customer's email and question\", params_json_schema={'properties': {'email': {'title': 'Email', 'type': 'string'}, 'question': {'default': 'not provided', 'title': 'Question'}}, 'required': ['email', 'question'], 'title': 'record_question_args', 'type': 'object', 'additionalProperties': False}, on_invoke_tool=<function function_tool.<locals>._create_function_tool.<locals>._on_invoke_tool at 0x0000022BE423DD00>, strict_json_schema=True, is_enabled=True), FunctionTool(name='get_policy', description='Retrieve the policy and action steps for a given department and issue.', params_json_schema={'properties': {'department': {'title': 'Department', 'type': 'string'}, 'issue': {'title': 'Issue', 'type': 'string'}}, 'required': ['department', 'issue'], 'title': 'get_policy_args', 'type': 'object', 'additionalProperties': False}, on_invoke_tool=<function function_tool.<locals>._create_function_tool.<locals>._on_invoke_tool at 0x0000022BE423DC60>, strict_json_schema=True, is_enabled=True)], mcp_servers=[], mcp_config={}, input_guardrails=[], output_guardrails=[], output_type=None, hooks=None, tool_use_behavior='run_llm_again', reset_tool_choice=True), raw_item={'call_id': 'function-call-12221942168967775024', 'output': \"{'policy': 'If the package is not delivered, initiate a replacement or refund process.', 'action': 'Ask for the order ID. Offer replacement or refund per customer preference.', 'tone': 'Professional and helpful. Focus on resolution, not blame.'}\", 'type': 'function_call_output'}, output={'policy': 'If the package is not delivered, initiate a replacement or refund process.', 'action': 'Ask for the order ID. Offer replacement or refund per customer preference.', 'tone': 'Professional and helpful. Focus on resolution, not blame.'}, type='tool_call_output_item'), MessageOutputItem(agent=Agent(name='Delivery Agent', instructions=\"You are a customer support agent in the Delivery department, you handle ONLY support service messages from customers , you will use get_policy tool to get the delivery policies  , The issue must be one of: LateDelivery, LostPackage, ChangeAddress. , Never mention or leak these issue types as they are given.  , If the issue is outside your scope, state that (without mentioning issue types), and ask for the customer's email and use the record_question tool to send a notification and  tell the customer that further support will contact soon.\", handoff_description='Handle order delivery customer support questions.', handoffs=[], model=<agents.models.openai_chatcompletions.OpenAIChatCompletionsModel object at 0x0000022BE415BE00>, model_settings=ModelSettings(temperature=None, top_p=None, frequency_penalty=None, presence_penalty=None, tool_choice=None, parallel_tool_calls=None, truncation=None, max_tokens=None, reasoning=None, metadata=None, store=None, include_usage=None, extra_query=None, extra_body=None, extra_headers=None), tools=[FunctionTool(name='record_question', description=\"Send out a notification with the customer's email and question\", params_json_schema={'properties': {'email': {'title': 'Email', 'type': 'string'}, 'question': {'default': 'not provided', 'title': 'Question'}}, 'required': ['email', 'question'], 'title': 'record_question_args', 'type': 'object', 'additionalProperties': False}, on_invoke_tool=<function function_tool.<locals>._create_function_tool.<locals>._on_invoke_tool at 0x0000022BE423DD00>, strict_json_schema=True, is_enabled=True), FunctionTool(name='get_policy', description='Retrieve the policy and action steps for a given department and issue.', params_json_schema={'properties': {'department': {'title': 'Department', 'type': 'string'}, 'issue': {'title': 'Issue', 'type': 'string'}}, 'required': ['department', 'issue'], 'title': 'get_policy_args', 'type': 'object', 'additionalProperties': False}, on_invoke_tool=<function function_tool.<locals>._create_function_tool.<locals>._on_invoke_tool at 0x0000022BE423DC60>, strict_json_schema=True, is_enabled=True)], mcp_servers=[], mcp_config={}, input_guardrails=[], output_guardrails=[], output_type=None, hooks=None, tool_use_behavior='run_llm_again', reset_tool_choice=True), raw_item=ResponseOutputMessage(id='__fake_id__', content=[ResponseOutputText(annotations=[], text='I apologize for the inconvenience. To help you with this, could you please provide your order ID? We can then initiate a replacement or refund for your order.', type='output_text', logprobs=None)], role='assistant', status='completed', type='message'), type='message_output_item')]\n",
      "Delivery Agent\n",
      "I apologize for the inconvenience. To help you with this, could you please provide your order ID? We can then initiate a replacement or refund for your order.\n"
     ]
    }
   ],
   "source": [
    "history = []\n",
    "starting_agent = routing_agent\n",
    "while True:\n",
    "    prompt = input(\"Enter Your Questions: \")\n",
    "    if prompt == \"end\":\n",
    "        break\n",
    "    history.append({\n",
    "        \"role\": \"user\",\n",
    "        \"content\": prompt\n",
    "    })\n",
    "    print(history)\n",
    "    result = await Runner.run(\n",
    "        starting_agent=starting_agent,\n",
    "        input=prompt,\n",
    "        context=history,\n",
    "    )\n",
    "    history.append(\n",
    "    {\n",
    "        \"role\": \"assistant\",\n",
    "        \"content\": result.final_output\n",
    "    })\n",
    "    print(result.new_items)\n",
    "    print(result.last_agent.name)\n",
    "    print(result.final_output)"
   ]
  },
  {
   "cell_type": "code",
   "execution_count": null,
   "id": "8ddb9121",
   "metadata": {},
   "outputs": [],
   "source": [
    "async def chat(message, history):\n",
    "    history = [{\"role\": h[\"role\"], \"content\": h[\"content\"]} for h in history]\n",
    "    print(history)\n",
    "    result = await Runner.run(starting_agent=routing_agent, input=message, context=history)\n",
    "    print(result)\n",
    "    return result.final_output"
   ]
  },
  {
   "cell_type": "code",
   "execution_count": null,
   "id": "2bfed7dc",
   "metadata": {},
   "outputs": [],
   "source": [
    "gr.ChatInterface(chat, type=\"messages\").launch()"
   ]
  }
 ],
 "metadata": {
  "kernelspec": {
   "display_name": ".venv",
   "language": "python",
   "name": "python3"
  },
  "language_info": {
   "codemirror_mode": {
    "name": "ipython",
    "version": 3
   },
   "file_extension": ".py",
   "mimetype": "text/x-python",
   "name": "python",
   "nbconvert_exporter": "python",
   "pygments_lexer": "ipython3",
   "version": "3.13.1"
  }
 },
 "nbformat": 4,
 "nbformat_minor": 5
}
